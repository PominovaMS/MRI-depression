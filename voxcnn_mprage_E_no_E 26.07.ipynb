{
 "cells": [
  {
   "cell_type": "code",
   "execution_count": 1,
   "metadata": {
    "colab": {
     "autoexec": {
      "startup": false,
      "wait_interval": 0
     },
     "base_uri": "https://localhost:8080/",
     "height": 69
    },
    "colab_type": "code",
    "executionInfo": {
     "elapsed": 2296,
     "status": "ok",
     "timestamp": 1526927859394,
     "user": {
      "displayName": "Марина Поминова",
      "photoUrl": "https://lh3.googleusercontent.com/a/default-user=s128",
      "userId": "103473952643546852844"
     },
     "user_tz": -180
    },
    "id": "ROuvPSAl4E5T",
    "outputId": "4827895b-1112-40b6-9122-406cd0914cc3"
   },
   "outputs": [
    {
     "name": "stdout",
     "output_type": "stream",
     "text": [
      "              total        used        free      shared  buff/cache   available\r\n",
      "Память:        3,8G        2,5G        173M        619M        1,1G        381M\r\n",
      "Подкачка:        3,9G        1,9G        2,0G\r\n"
     ]
    }
   ],
   "source": [
    "!free -h"
   ]
  },
  {
   "cell_type": "code",
   "execution_count": 2,
   "metadata": {},
   "outputs": [
    {
     "name": "stdout",
     "output_type": "stream",
     "text": [
      "Wed May 23 13:14:16 2018       \n",
      "+-----------------------------------------------------------------------------+\n",
      "| NVIDIA-SMI 384.111                Driver Version: 384.111                   |\n",
      "|-------------------------------+----------------------+----------------------+\n",
      "| GPU  Name        Persistence-M| Bus-Id        Disp.A | Volatile Uncorr. ECC |\n",
      "| Fan  Temp  Perf  Pwr:Usage/Cap|         Memory-Usage | GPU-Util  Compute M. |\n",
      "|===============================+======================+======================|\n",
      "|   0  Tesla P100-PCIE...  Off  | 00007156:00:00.0 Off |                    0 |\n",
      "| N/A   45C    P0   134W / 250W |   6122MiB / 16276MiB |    100%      Default |\n",
      "+-------------------------------+----------------------+----------------------+\n",
      "|   1  Tesla P100-PCIE...  Off  | 00008E4F:00:00.0 Off |                    0 |\n",
      "| N/A   36C    P0    61W / 250W |  11781MiB / 16276MiB |    100%      Default |\n",
      "+-------------------------------+----------------------+----------------------+\n",
      "                                                                               \n",
      "+-----------------------------------------------------------------------------+\n",
      "| Processes:                                                       GPU Memory |\n",
      "|  GPU       PID   Type   Process name                             Usage      |\n",
      "|=============================================================================|\n",
      "|    0     89461      C   /home/service/anaconda2/bin/python          5467MiB |\n",
      "|    0     95995      C   /home/service/anaconda2/bin/python           645MiB |\n",
      "|    1     95995      C   /home/service/anaconda2/bin/python         11771MiB |\n",
      "+-----------------------------------------------------------------------------+\n"
     ]
    }
   ],
   "source": [
    "!nvidia-smi"
   ]
  },
  {
   "cell_type": "code",
   "execution_count": 3,
   "metadata": {
    "colab": {
     "autoexec": {
      "startup": false,
      "wait_interval": 0
     },
     "base_uri": "https://localhost:8080/",
     "height": 107
    },
    "colab_type": "code",
    "executionInfo": {
     "elapsed": 1095,
     "status": "ok",
     "timestamp": 1526931707664,
     "user": {
      "displayName": "Марина Поминова",
      "photoUrl": "https://lh3.googleusercontent.com/a/default-user=s128",
      "userId": "103473952643546852844"
     },
     "user_tz": -180
    },
    "id": "aNcDHckr4E7e",
    "outputId": "f05ebc51-f483-4a18-9f10-c9915857a3d0"
   },
   "outputs": [
    {
     "name": "stderr",
     "output_type": "stream",
     "text": [
      "/home/service/anaconda2/lib/python2.7/site-packages/h5py/__init__.py:36: FutureWarning: Conversion of the second argument of issubdtype from `float` to `np.floating` is deprecated. In future, it will be treated as `np.float64 == np.dtype(float).type`.\n",
      "  from ._conv import register_converters as _register_converters\n"
     ]
    },
    {
     "name": "stdout",
     "output_type": "stream",
     "text": [
      "Populating the interactive namespace from numpy and matplotlib\n"
     ]
    },
    {
     "name": "stderr",
     "output_type": "stream",
     "text": [
      "/home/service/anaconda2/lib/python2.7/site-packages/IPython/core/magics/pylab.py:161: UserWarning: pylab import has clobbered these variables: ['copy']\n",
      "`%matplotlib` prevents importing * from pylab and numpy\n",
      "  \"\\n`%matplotlib` prevents importing * from pylab and numpy\"\n"
     ]
    }
   ],
   "source": [
    "import numpy as np\n",
    "import pandas as pd\n",
    "from scipy import ndimage as nd\n",
    "import torch\n",
    "import torch.nn as nn\n",
    "import torch.nn.functional as F\n",
    "from torch.autograd import Variable\n",
    "from tqdm import tqdm\n",
    "import time\n",
    "import os\n",
    "import nibabel as nib\n",
    "from sklearn.model_selection import train_test_split, StratifiedKFold, RepeatedStratifiedKFold\n",
    "from sklearn.metrics import roc_auc_score\n",
    "from IPython.display import clear_output\n",
    "import copy\n",
    "\n",
    "%pylab inline"
   ]
  },
  {
   "cell_type": "code",
   "execution_count": 4,
   "metadata": {
    "colab": {
     "autoexec": {
      "startup": false,
      "wait_interval": 0
     },
     "base_uri": "https://localhost:8080/",
     "height": 52
    },
    "colab_type": "code",
    "executionInfo": {
     "elapsed": 764,
     "status": "ok",
     "timestamp": 1526931718217,
     "user": {
      "displayName": "Марина Поминова",
      "photoUrl": "https://lh3.googleusercontent.com/a/default-user=s128",
      "userId": "103473952643546852844"
     },
     "user_tz": -180
    },
    "id": "h4nm_z074E9O",
    "outputId": "56aa58bf-c3fe-4a0c-9699-58d082f103da"
   },
   "outputs": [
    {
     "name": "stdout",
     "output_type": "stream",
     "text": [
      "('Torch version:', '0.4.0')\n",
      "Using GPU\n"
     ]
    }
   ],
   "source": [
    "use_cuda = torch.cuda.is_available()\n",
    "\n",
    "print(\"Torch version:\", torch.__version__)\n",
    "if use_cuda:\n",
    "    print(\"Using GPU\")\n",
    "else:\n",
    "    print(\"Not using GPU\")"
   ]
  },
  {
   "cell_type": "code",
   "execution_count": 5,
   "metadata": {
    "colab": {
     "autoexec": {
      "startup": false,
      "wait_interval": 0
     }
    },
    "colab_type": "code",
    "collapsed": true,
    "id": "1nKcIC8s4FAX"
   },
   "outputs": [],
   "source": [
    "cuda_n = 0"
   ]
  },
  {
   "cell_type": "code",
   "execution_count": 6,
   "metadata": {
    "colab": {
     "autoexec": {
      "startup": false,
      "wait_interval": 0
     }
    },
    "colab_type": "code",
    "collapsed": true,
    "id": "mYAPizkQ5HdO"
   },
   "outputs": [],
   "source": [
    "PathConn = \"WC0/WC0/\"\n",
    "mri_files = sorted([fileList for dirName, subdirList, fileList in os.walk(PathConn) if fileList][0])\n",
    "mri_files = list(map(lambda x: PathConn + x, mri_files))"
   ]
  },
  {
   "cell_type": "code",
   "execution_count": 7,
   "metadata": {
    "colab": {
     "autoexec": {
      "startup": false,
      "wait_interval": 0
     },
     "base_uri": "https://localhost:8080/",
     "height": 35
    },
    "colab_type": "code",
    "executionInfo": {
     "elapsed": 2008,
     "status": "ok",
     "timestamp": 1526931726971,
     "user": {
      "displayName": "Марина Поминова",
      "photoUrl": "https://lh3.googleusercontent.com/a/default-user=s128",
      "userId": "103473952643546852844"
     },
     "user_tz": -180
    },
    "id": "opZ8YerbHxa1",
    "outputId": "229d3ec0-0564-40a2-a711-94ff4fa0e77e"
   },
   "outputs": [
    {
     "data": {
      "text/plain": [
       "90"
      ]
     },
     "execution_count": 7,
     "metadata": {},
     "output_type": "execute_result"
    }
   ],
   "source": [
    "len(mri_files)"
   ]
  },
  {
   "cell_type": "code",
   "execution_count": 8,
   "metadata": {
    "colab": {
     "autoexec": {
      "startup": false,
      "wait_interval": 0
     },
     "base_uri": "https://localhost:8080/",
     "height": 35
    },
    "colab_type": "code",
    "executionInfo": {
     "elapsed": 2171,
     "status": "ok",
     "timestamp": 1526931729249,
     "user": {
      "displayName": "Марина Поминова",
      "photoUrl": "https://lh3.googleusercontent.com/a/default-user=s128",
      "userId": "103473952643546852844"
     },
     "user_tz": -180
    },
    "id": "WJDOvTiNBNl8",
    "outputId": "81c99a83-9d55-4dc8-c5db-e407abb49102"
   },
   "outputs": [
    {
     "data": {
      "text/plain": [
       "'001'"
      ]
     },
     "execution_count": 8,
     "metadata": {},
     "output_type": "execute_result"
    }
   ],
   "source": [
    "mri_files[0].split(\"-\")[0][-3:]"
   ]
  },
  {
   "cell_type": "code",
   "execution_count": 9,
   "metadata": {
    "colab": {
     "autoexec": {
      "startup": false,
      "wait_interval": 0
     }
    },
    "colab_type": "code",
    "collapsed": true,
    "id": "I5bhr0wgAflR"
   },
   "outputs": [],
   "source": [
    "def get_patient_number(patient_file):\n",
    "    return \"P\" + patient_file.split(\"-\")[0][-3:]"
   ]
  },
  {
   "cell_type": "code",
   "execution_count": 10,
   "metadata": {
    "colab": {
     "autoexec": {
      "startup": false,
      "wait_interval": 0
     },
     "base_uri": "https://localhost:8080/",
     "height": 219
    },
    "colab_type": "code",
    "executionInfo": {
     "elapsed": 1930,
     "status": "ok",
     "timestamp": 1526931732115,
     "user": {
      "displayName": "Марина Поминова",
      "photoUrl": "https://lh3.googleusercontent.com/a/default-user=s128",
      "userId": "103473952643546852844"
     },
     "user_tz": -180
    },
    "id": "q6WjxwDj_BWT",
    "outputId": "88d61a24-7de0-4006-d214-38ab40333d7e"
   },
   "outputs": [
    {
     "data": {
      "text/html": [
       "<div>\n",
       "<style scoped>\n",
       "    .dataframe tbody tr th:only-of-type {\n",
       "        vertical-align: middle;\n",
       "    }\n",
       "\n",
       "    .dataframe tbody tr th {\n",
       "        vertical-align: top;\n",
       "    }\n",
       "\n",
       "    .dataframe thead th {\n",
       "        text-align: right;\n",
       "    }\n",
       "</style>\n",
       "<table border=\"1\" class=\"dataframe\">\n",
       "  <thead>\n",
       "    <tr style=\"text-align: right;\">\n",
       "      <th></th>\n",
       "      <th>patient_number</th>\n",
       "      <th>target</th>\n",
       "      <th>E/no E</th>\n",
       "      <th>D/no D</th>\n",
       "      <th>E/C</th>\n",
       "      <th>TLE/no E</th>\n",
       "      <th>TLE/C</th>\n",
       "      <th>D/C</th>\n",
       "      <th>DE/E</th>\n",
       "      <th>MRIPositive/Negative</th>\n",
       "      <th>TLEPositive/C</th>\n",
       "      <th>TLENegative/C</th>\n",
       "      <th>NoTLE/C</th>\n",
       "    </tr>\n",
       "  </thead>\n",
       "  <tbody>\n",
       "    <tr>\n",
       "      <th>95</th>\n",
       "      <td>P100</td>\n",
       "      <td>0</td>\n",
       "      <td>4</td>\n",
       "      <td>5</td>\n",
       "      <td>0.0</td>\n",
       "      <td>4.0</td>\n",
       "      <td>0.0</td>\n",
       "      <td>0.0</td>\n",
       "      <td>NaN</td>\n",
       "      <td>8</td>\n",
       "      <td>0.0</td>\n",
       "      <td>0.0</td>\n",
       "      <td>0.0</td>\n",
       "    </tr>\n",
       "    <tr>\n",
       "      <th>96</th>\n",
       "      <td>P105</td>\n",
       "      <td>3</td>\n",
       "      <td>2</td>\n",
       "      <td>1</td>\n",
       "      <td>NaN</td>\n",
       "      <td>6.0</td>\n",
       "      <td>6.0</td>\n",
       "      <td>NaN</td>\n",
       "      <td>3.0</td>\n",
       "      <td>7</td>\n",
       "      <td>9.0</td>\n",
       "      <td>NaN</td>\n",
       "      <td>NaN</td>\n",
       "    </tr>\n",
       "    <tr>\n",
       "      <th>97</th>\n",
       "      <td>P106</td>\n",
       "      <td>0</td>\n",
       "      <td>4</td>\n",
       "      <td>5</td>\n",
       "      <td>0.0</td>\n",
       "      <td>4.0</td>\n",
       "      <td>0.0</td>\n",
       "      <td>0.0</td>\n",
       "      <td>NaN</td>\n",
       "      <td>8</td>\n",
       "      <td>0.0</td>\n",
       "      <td>0.0</td>\n",
       "      <td>0.0</td>\n",
       "    </tr>\n",
       "    <tr>\n",
       "      <th>98</th>\n",
       "      <td>P107</td>\n",
       "      <td>0</td>\n",
       "      <td>4</td>\n",
       "      <td>5</td>\n",
       "      <td>0.0</td>\n",
       "      <td>4.0</td>\n",
       "      <td>0.0</td>\n",
       "      <td>0.0</td>\n",
       "      <td>NaN</td>\n",
       "      <td>8</td>\n",
       "      <td>0.0</td>\n",
       "      <td>0.0</td>\n",
       "      <td>0.0</td>\n",
       "    </tr>\n",
       "    <tr>\n",
       "      <th>99</th>\n",
       "      <td>P108</td>\n",
       "      <td>0</td>\n",
       "      <td>4</td>\n",
       "      <td>5</td>\n",
       "      <td>0.0</td>\n",
       "      <td>4.0</td>\n",
       "      <td>0.0</td>\n",
       "      <td>0.0</td>\n",
       "      <td>NaN</td>\n",
       "      <td>8</td>\n",
       "      <td>0.0</td>\n",
       "      <td>0.0</td>\n",
       "      <td>0.0</td>\n",
       "    </tr>\n",
       "  </tbody>\n",
       "</table>\n",
       "</div>"
      ],
      "text/plain": [
       "   patient_number  target  E/no E  D/no D  E/C  TLE/no E  TLE/C  D/C  DE/E  \\\n",
       "95           P100       0       4       5  0.0       4.0    0.0  0.0   NaN   \n",
       "96           P105       3       2       1  NaN       6.0    6.0  NaN   3.0   \n",
       "97           P106       0       4       5  0.0       4.0    0.0  0.0   NaN   \n",
       "98           P107       0       4       5  0.0       4.0    0.0  0.0   NaN   \n",
       "99           P108       0       4       5  0.0       4.0    0.0  0.0   NaN   \n",
       "\n",
       "    MRIPositive/Negative   TLEPositive/C  TLENegative/C  NoTLE/C  \n",
       "95                      8            0.0            0.0      0.0  \n",
       "96                      7            9.0            NaN      NaN  \n",
       "97                      8            0.0            0.0      0.0  \n",
       "98                      8            0.0            0.0      0.0  \n",
       "99                      8            0.0            0.0      0.0  "
      ]
     },
     "execution_count": 10,
     "metadata": {},
     "output_type": "execute_result"
    }
   ],
   "source": [
    "labels = pd.read_csv(\"targets 28.02.2018.csv\", sep=\";\")\n",
    "\n",
    "idx_to_label = [\"C\", \"D\", \"E\", \"DE\", \"NE\", \"ND\", \"TLE\", \"Positive\", \"Negative\", \"TLEPositive\", \"TLENegative\", \"NoTLE\"]\n",
    "label_to_idx = {l : i for i, l in enumerate(idx_to_label)}\n",
    "\n",
    "for col in labels.columns[1:]:\n",
    "    labels[col] = labels[col].apply(lambda x: label_to_idx[x] if x in label_to_idx else np.nan)\n",
    "    \n",
    "# E_C_idx = labels[\"E/C\"].notnull()\n",
    "# D_C_idx = labels[\"D/C\"].notnull()\n",
    "# DE_E_idx = labels[\"DE/E\"].notnull()\n",
    "labels = labels.reset_index(drop=True)\n",
    "labels.tail()"
   ]
  },
  {
   "cell_type": "code",
   "execution_count": 11,
   "metadata": {
    "colab": {
     "autoexec": {
      "startup": false,
      "wait_interval": 0
     },
     "base_uri": "https://localhost:8080/",
     "height": 219
    },
    "colab_type": "code",
    "executionInfo": {
     "elapsed": 1473,
     "status": "ok",
     "timestamp": 1526931733689,
     "user": {
      "displayName": "Марина Поминова",
      "photoUrl": "https://lh3.googleusercontent.com/a/default-user=s128",
      "userId": "103473952643546852844"
     },
     "user_tz": -180
    },
    "id": "HPAtLYDQCJBa",
    "outputId": "18fc7bde-e67a-4663-ace0-e31c6d09083f"
   },
   "outputs": [
    {
     "data": {
      "text/html": [
       "<div>\n",
       "<style scoped>\n",
       "    .dataframe tbody tr th:only-of-type {\n",
       "        vertical-align: middle;\n",
       "    }\n",
       "\n",
       "    .dataframe tbody tr th {\n",
       "        vertical-align: top;\n",
       "    }\n",
       "\n",
       "    .dataframe thead th {\n",
       "        text-align: right;\n",
       "    }\n",
       "</style>\n",
       "<table border=\"1\" class=\"dataframe\">\n",
       "  <thead>\n",
       "    <tr style=\"text-align: right;\">\n",
       "      <th></th>\n",
       "      <th>patient_number</th>\n",
       "      <th>target</th>\n",
       "      <th>E/no E</th>\n",
       "      <th>D/no D</th>\n",
       "      <th>E/C</th>\n",
       "      <th>TLE/no E</th>\n",
       "      <th>TLE/C</th>\n",
       "      <th>D/C</th>\n",
       "      <th>DE/E</th>\n",
       "      <th>MRIPositive/Negative</th>\n",
       "      <th>TLEPositive/C</th>\n",
       "      <th>TLENegative/C</th>\n",
       "      <th>NoTLE/C</th>\n",
       "    </tr>\n",
       "  </thead>\n",
       "  <tbody>\n",
       "    <tr>\n",
       "      <th>85</th>\n",
       "      <td>P100</td>\n",
       "      <td>0</td>\n",
       "      <td>4</td>\n",
       "      <td>5</td>\n",
       "      <td>0.0</td>\n",
       "      <td>4.0</td>\n",
       "      <td>0.0</td>\n",
       "      <td>0.0</td>\n",
       "      <td>NaN</td>\n",
       "      <td>8</td>\n",
       "      <td>0.0</td>\n",
       "      <td>0.0</td>\n",
       "      <td>0.0</td>\n",
       "    </tr>\n",
       "    <tr>\n",
       "      <th>86</th>\n",
       "      <td>P105</td>\n",
       "      <td>3</td>\n",
       "      <td>2</td>\n",
       "      <td>1</td>\n",
       "      <td>NaN</td>\n",
       "      <td>6.0</td>\n",
       "      <td>6.0</td>\n",
       "      <td>NaN</td>\n",
       "      <td>3.0</td>\n",
       "      <td>7</td>\n",
       "      <td>9.0</td>\n",
       "      <td>NaN</td>\n",
       "      <td>NaN</td>\n",
       "    </tr>\n",
       "    <tr>\n",
       "      <th>87</th>\n",
       "      <td>P106</td>\n",
       "      <td>0</td>\n",
       "      <td>4</td>\n",
       "      <td>5</td>\n",
       "      <td>0.0</td>\n",
       "      <td>4.0</td>\n",
       "      <td>0.0</td>\n",
       "      <td>0.0</td>\n",
       "      <td>NaN</td>\n",
       "      <td>8</td>\n",
       "      <td>0.0</td>\n",
       "      <td>0.0</td>\n",
       "      <td>0.0</td>\n",
       "    </tr>\n",
       "    <tr>\n",
       "      <th>88</th>\n",
       "      <td>P107</td>\n",
       "      <td>0</td>\n",
       "      <td>4</td>\n",
       "      <td>5</td>\n",
       "      <td>0.0</td>\n",
       "      <td>4.0</td>\n",
       "      <td>0.0</td>\n",
       "      <td>0.0</td>\n",
       "      <td>NaN</td>\n",
       "      <td>8</td>\n",
       "      <td>0.0</td>\n",
       "      <td>0.0</td>\n",
       "      <td>0.0</td>\n",
       "    </tr>\n",
       "    <tr>\n",
       "      <th>89</th>\n",
       "      <td>P108</td>\n",
       "      <td>0</td>\n",
       "      <td>4</td>\n",
       "      <td>5</td>\n",
       "      <td>0.0</td>\n",
       "      <td>4.0</td>\n",
       "      <td>0.0</td>\n",
       "      <td>0.0</td>\n",
       "      <td>NaN</td>\n",
       "      <td>8</td>\n",
       "      <td>0.0</td>\n",
       "      <td>0.0</td>\n",
       "      <td>0.0</td>\n",
       "    </tr>\n",
       "  </tbody>\n",
       "</table>\n",
       "</div>"
      ],
      "text/plain": [
       "   patient_number  target  E/no E  D/no D  E/C  TLE/no E  TLE/C  D/C  DE/E  \\\n",
       "85           P100       0       4       5  0.0       4.0    0.0  0.0   NaN   \n",
       "86           P105       3       2       1  NaN       6.0    6.0  NaN   3.0   \n",
       "87           P106       0       4       5  0.0       4.0    0.0  0.0   NaN   \n",
       "88           P107       0       4       5  0.0       4.0    0.0  0.0   NaN   \n",
       "89           P108       0       4       5  0.0       4.0    0.0  0.0   NaN   \n",
       "\n",
       "    MRIPositive/Negative   TLEPositive/C  TLENegative/C  NoTLE/C  \n",
       "85                      8            0.0            0.0      0.0  \n",
       "86                      7            9.0            NaN      NaN  \n",
       "87                      8            0.0            0.0      0.0  \n",
       "88                      8            0.0            0.0      0.0  \n",
       "89                      8            0.0            0.0      0.0  "
      ]
     },
     "execution_count": 11,
     "metadata": {},
     "output_type": "execute_result"
    }
   ],
   "source": [
    "labels = labels[labels.patient_number.isin(list(map(get_patient_number, mri_files)))]\n",
    "labels = labels.reset_index(drop=True)\n",
    "labels.tail()"
   ]
  },
  {
   "cell_type": "code",
   "execution_count": 12,
   "metadata": {
    "colab": {
     "autoexec": {
      "startup": false,
      "wait_interval": 0
     },
     "base_uri": "https://localhost:8080/",
     "height": 35
    },
    "colab_type": "code",
    "executionInfo": {
     "elapsed": 1729,
     "status": "ok",
     "timestamp": 1526931735537,
     "user": {
      "displayName": "Марина Поминова",
      "photoUrl": "https://lh3.googleusercontent.com/a/default-user=s128",
      "userId": "103473952643546852844"
     },
     "user_tz": -180
    },
    "id": "_gHSTJ3bHocK",
    "outputId": "ce27598c-741d-4c8a-e8c2-f4622381104f"
   },
   "outputs": [
    {
     "data": {
      "text/plain": [
       "(90, 13)"
      ]
     },
     "execution_count": 12,
     "metadata": {},
     "output_type": "execute_result"
    }
   ],
   "source": [
    "labels.shape"
   ]
  },
  {
   "cell_type": "code",
   "execution_count": 13,
   "metadata": {
    "colab": {
     "autoexec": {
      "startup": false,
      "wait_interval": 0
     },
     "base_uri": "https://localhost:8080/",
     "height": 121
    },
    "colab_type": "code",
    "executionInfo": {
     "elapsed": 1623,
     "status": "ok",
     "timestamp": 1526931737361,
     "user": {
      "displayName": "Марина Поминова",
      "photoUrl": "https://lh3.googleusercontent.com/a/default-user=s128",
      "userId": "103473952643546852844"
     },
     "user_tz": -180
    },
    "id": "MblDhTCJ_CXr",
    "outputId": "8c046728-0fbc-4c20-e94a-cac045eec85b"
   },
   "outputs": [
    {
     "data": {
      "text/plain": [
       "0    1\n",
       "1    1\n",
       "2    1\n",
       "3    0\n",
       "4    1\n",
       "Name: E/no E, dtype: int64"
      ]
     },
     "execution_count": 13,
     "metadata": {},
     "output_type": "execute_result"
    }
   ],
   "source": [
    "problem = \"E/no E\"\n",
    "problem_label = \"E\"\n",
    "label = pd.Series(labels[problem] == label_to_idx[problem_label], dtype=np.int64)\n",
    "label.head()"
   ]
  },
  {
   "cell_type": "code",
   "execution_count": null,
   "metadata": {
    "colab": {
     "autoexec": {
      "startup": false,
      "wait_interval": 0
     }
    },
    "colab_type": "code",
    "collapsed": true,
    "id": "lOLabQRT_Cab"
   },
   "outputs": [],
   "source": []
  },
  {
   "cell_type": "code",
   "execution_count": 14,
   "metadata": {
    "colab": {
     "autoexec": {
      "startup": false,
      "wait_interval": 0
     }
    },
    "colab_type": "code",
    "collapsed": true,
    "id": "FZO4T9Zw7jid"
   },
   "outputs": [],
   "source": [
    "# IMG_SHAPE = (-1, 1, 90, 108, 90)\n",
    "# IMG_SHAPE = (-1, 1, 52, 62, 52)\n",
    "IMG_SHAPE = (-1, 1, 180, 216, 180)\n",
    "\n",
    "# нужно применять сразу ко всему батчу изображений\n",
    "def reshape_images(X, img_shape=IMG_SHAPE):\n",
    "#     return X[:, 1:, 1:, :].reshape(img_shape)\n",
    "    return X[:, :-1, :-1, :-1].reshape(img_shape)"
   ]
  },
  {
   "cell_type": "code",
   "execution_count": 15,
   "metadata": {
    "colab": {
     "autoexec": {
      "startup": false,
      "wait_interval": 0
     }
    },
    "colab_type": "code",
    "collapsed": true,
    "id": "Y3j5cHyl7jkM"
   },
   "outputs": [],
   "source": [
    "def min_max_scale(x):\n",
    "    return (x - x.min()) / (x.max() - x.min())"
   ]
  },
  {
   "cell_type": "code",
   "execution_count": 16,
   "metadata": {
    "colab": {
     "autoexec": {
      "startup": false,
      "wait_interval": 0
     }
    },
    "colab_type": "code",
    "collapsed": true,
    "id": "itrM8jTU7jnN"
   },
   "outputs": [],
   "source": [
    "def load_nii_to_array(nii_path):\n",
    "    return nib.load(nii_path).get_data()"
   ]
  },
  {
   "cell_type": "code",
   "execution_count": 17,
   "metadata": {
    "colab": {
     "autoexec": {
      "startup": false,
      "wait_interval": 0
     },
     "base_uri": "https://localhost:8080/",
     "height": 35
    },
    "colab_type": "code",
    "executionInfo": {
     "elapsed": 145662,
     "status": "ok",
     "timestamp": 1526931888610,
     "user": {
      "displayName": "Марина Поминова",
      "photoUrl": "https://lh3.googleusercontent.com/a/default-user=s128",
      "userId": "103473952643546852844"
     },
     "user_tz": -180
    },
    "id": "_RQFRbWl6FQX",
    "outputId": "545d150d-4688-4911-dec9-e11ab8c38d81"
   },
   "outputs": [
    {
     "name": "stderr",
     "output_type": "stream",
     "text": [
      "100%|██████████| 90/90 [00:00<00:00, 898.12it/s]\n"
     ]
    }
   ],
   "source": [
    "# list of all fmri\n",
    "mri_l = [load_nii_to_array(f) for f in tqdm(mri_files)]"
   ]
  },
  {
   "cell_type": "code",
   "execution_count": 18,
   "metadata": {
    "colab": {
     "autoexec": {
      "startup": false,
      "wait_interval": 0
     },
     "base_uri": "https://localhost:8080/",
     "height": 69
    },
    "colab_type": "code",
    "executionInfo": {
     "elapsed": 2104,
     "status": "ok",
     "timestamp": 1526931890739,
     "user": {
      "displayName": "Марина Поминова",
      "photoUrl": "https://lh3.googleusercontent.com/a/default-user=s128",
      "userId": "103473952643546852844"
     },
     "user_tz": -180
    },
    "id": "aMOeUjxd7eWX",
    "outputId": "d7056408-d38f-4beb-947d-7ec1506e14a6"
   },
   "outputs": [
    {
     "name": "stdout",
     "output_type": "stream",
     "text": [
      "              total        used        free      shared  buff/cache   available\r\n",
      "Mem:           220G         12G        200G        647M        6.5G        204G\r\n",
      "Swap:            0B          0B          0B\r\n"
     ]
    }
   ],
   "source": [
    "!free -h"
   ]
  },
  {
   "cell_type": "code",
   "execution_count": 19,
   "metadata": {
    "colab": {
     "autoexec": {
      "startup": false,
      "wait_interval": 0
     }
    },
    "colab_type": "code",
    "collapsed": true,
    "id": "4cUyl0yw8CNr"
   },
   "outputs": [],
   "source": [
    "# нужно применять отдельно к каждому изображению (до объединения в массив объектов / батч)\n",
    "def cut_segment(fmri_file, segment_length=1):\n",
    "    record_length = fmri_file.shape[-1]\n",
    "    start_idx = np.random.choice(record_length - segment_length)\n",
    "    return fmri_file[:, :, :, start_idx:start_idx + segment_length]"
   ]
  },
  {
   "cell_type": "code",
   "execution_count": 20,
   "metadata": {
    "colab": {
     "autoexec": {
      "startup": false,
      "wait_interval": 0
     }
    },
    "colab_type": "code",
    "collapsed": true,
    "id": "dgre__Ek-lzs"
   },
   "outputs": [],
   "source": [
    "def get_image(mri_file, from_nii=True):\n",
    "    # if mri_file contains path to file\n",
    "    if type(mri_file) is str:\n",
    "        if from_nii:\n",
    "            return load_nii_to_array(mri_file)\n",
    "        return np.load(mri_file)\n",
    "    # if mri_file already contains image\n",
    "    return mri_file"
   ]
  },
  {
   "cell_type": "code",
   "execution_count": 21,
   "metadata": {
    "colab": {
     "autoexec": {
      "startup": false,
      "wait_interval": 0
     }
    },
    "colab_type": "code",
    "collapsed": true,
    "id": "RCdg33M0-ngm"
   },
   "outputs": [],
   "source": [
    "# fmri нужно загружать из .nii.gz,\n",
    "# normalize images between -1 and 1\n",
    "def load_minibatches(indexes, mri_files, label, from_nii=True, batch_size=3, normalize=False, img_shape=IMG_SHAPE, segment_length=None, stratify=False):\n",
    "    n_objects = indexes.size\n",
    "    \n",
    "    if stratify:\n",
    "    # порядок индексов меняется!\n",
    "        idx = sorted(indexes, key=lambda x: label[x])\n",
    "        for i in range(0, n_objects // 2, 2):\n",
    "            idx[i], idx[n_objects - 1 - i] = idx[n_objects - 1 - i], idx[i]\n",
    "        idx = np.array(idx)\n",
    "    else:\n",
    "        idx = np.copy(indexes)\n",
    "    \n",
    "    # не перемешивает данные перед генерацией батчей !\n",
    "    batches = np.append(np.arange(0, n_objects, batch_size), n_objects)\n",
    "    if batch_size >= 2 and batches[-2] == n_objects - 1:\n",
    "        batches[-2] -= 1\n",
    "    \n",
    "    for i in range(len(batches) - 1):\n",
    "        if batch_size == 2:\n",
    "            batch_idx = idx[batches[i]:batches[i] + batch_size]\n",
    "        else:\n",
    "            batch_idx = idx[batches[i]:batches[i + 1]]\n",
    "        \n",
    "        if segment_length is not None:\n",
    "            X = np.array([cut_segment(get_image(mri_files[i], from_nii), segment_length) for i in batch_idx])\n",
    "        else:\n",
    "            X = np.array([get_image(mri_files[i], from_nii) for i in batch_idx])\n",
    "            \n",
    "        if normalize:\n",
    "                X = np.array([min_max_scale(x) for x in X]) * 2 - 1\n",
    "                \n",
    "        if segment_length is not None and segment_length > 1:\n",
    "            X = Variable(torch.FloatTensor(reshape_images(X, tuple(list(img_shape) + [segment_length]))))\n",
    "            X = X.permute(5, 0, 1, 2, 3, 4)\n",
    "        else:\n",
    "            X = Variable(torch.FloatTensor(reshape_images(X, img_shape)))\n",
    "        \n",
    "        y = np.int64(label[batch_idx].values)\n",
    "        y = Variable(torch.LongTensor(y))\n",
    "        yield (X.cuda(cuda_n), y.cuda(cuda_n)) if use_cuda else (X, y)"
   ]
  },
  {
   "cell_type": "code",
   "execution_count": 22,
   "metadata": {
    "colab": {
     "autoexec": {
      "startup": false,
      "wait_interval": 0
     }
    },
    "colab_type": "code",
    "collapsed": true,
    "id": "B02GpTZj-zC_"
   },
   "outputs": [],
   "source": [
    "def compute_loss(logits, targets):\n",
    "    loss = F.cross_entropy(logits, targets, reduce=False)\n",
    "    return loss.mean()"
   ]
  },
  {
   "cell_type": "code",
   "execution_count": 23,
   "metadata": {
    "colab": {
     "autoexec": {
      "startup": false,
      "wait_interval": 0
     }
    },
    "colab_type": "code",
    "collapsed": true,
    "id": "EsMpZlzp-18z"
   },
   "outputs": [],
   "source": [
    "def compute_acc(logits, targets):\n",
    "    probs = F.softmax(logits, dim=-1)\n",
    "    targets_pred = (probs.cpu().data.numpy().argmax(axis=-1))\n",
    "    acc = (targets.cpu().data.numpy() == targets_pred).mean()\n",
    "    return acc"
   ]
  },
  {
   "cell_type": "code",
   "execution_count": 24,
   "metadata": {
    "colab": {
     "autoexec": {
      "startup": false,
      "wait_interval": 0
     }
    },
    "colab_type": "code",
    "collapsed": true,
    "id": "wt04_yuv-3qy"
   },
   "outputs": [],
   "source": [
    "def compute_auc(logits, targets):\n",
    "    probs = F.softmax(logits, dim=-1).cpu().data.numpy()\n",
    "    auc = roc_auc_score(y_true=targets.cpu().data.numpy(), y_score=probs[:, 1])\n",
    "    return auc"
   ]
  },
  {
   "cell_type": "code",
   "execution_count": 25,
   "metadata": {
    "colab": {
     "autoexec": {
      "startup": false,
      "wait_interval": 0
     }
    },
    "colab_type": "code",
    "collapsed": true,
    "id": "ddw0nEXv-5KW"
   },
   "outputs": [],
   "source": [
    "# returns only probs of the class 1 ! \n",
    "def compute_probs(logits):\n",
    "    probs = F.softmax(logits, dim=-1).cpu().data.numpy()\n",
    "    return probs[:, 1]"
   ]
  },
  {
   "cell_type": "code",
   "execution_count": 26,
   "metadata": {
    "colab": {
     "autoexec": {
      "startup": false,
      "wait_interval": 0
     }
    },
    "colab_type": "code",
    "collapsed": true,
    "id": "3onorg02-6iZ"
   },
   "outputs": [],
   "source": [
    "# takes an image and visualize attention on it (independent of image source)\n",
    "def visualize_attention(model, conv_layer_name, input_img, c_idx=1, cmap1=\"gray\", cmap2=\"jet\", alpha=0.3, beta=0.75, subplots=(131, 132, 133)):\n",
    "    conv_layer_grad = []\n",
    "  \n",
    "    def save_gradient(grad):\n",
    "        conv_layer_grad.append(grad.cpu().data.numpy())\n",
    "  \n",
    "  \n",
    "    input_img_data = np.copy(input_img)\n",
    "    input_img_data = np.array(input_img_data, dtype=np.float32)\n",
    "    input_img_data = Variable(torch.from_numpy(input_img_data), requires_grad=True)\n",
    "    \n",
    "    # forward pass\n",
    "    out = input_img_data.cuda(cuda_n)\n",
    "    model.train(False)\n",
    "    for l_name, l in model.named_children():\n",
    "        out = l(out)\n",
    "        if l_name == conv_layer_name:\n",
    "            conv_layer_activations = out\n",
    "            out.register_hook(save_gradient)\n",
    "            \n",
    "    one_hot = np.zeros((1, out.size()[-1]), dtype=np.float32)\n",
    "    one_hot[0][c_idx] = 1\n",
    "    one_hot = Variable(torch.from_numpy(one_hot), requires_grad=True)\n",
    "    out_c = torch.sum(one_hot.cuda(cuda_n) * out)\n",
    "    out_c.backward()\n",
    "    \n",
    "    # zero grads\n",
    "    for l_name, l in model.named_parameters():\n",
    "        l.grad.zero_()\n",
    "        if l_name == conv_layer_name:\n",
    "            out.remove()\n",
    "    \n",
    "    weights = np.mean(conv_layer_grad[-1], axis=(2, 3, 4))[0, :]\n",
    "    conv_layer_activations = conv_layer_activations.cpu().data.numpy()\n",
    "    for i, w in enumerate(weights):\n",
    "        conv_layer_activations[0, i] *= w\n",
    "    conv_layer_activations = np.maximum(conv_layer_activations, 0)\n",
    "    conv_layer_activations = conv_layer_activations.sum(axis=1)[0]\n",
    "    \n",
    "    inp_shape = input_img.shape\n",
    "    layer_shape = conv_layer_activations.shape\n",
    "    cam = np.zeros(inp_shape[-3:])\n",
    "    factor = inp_shape[-1] // layer_shape[-1]\n",
    "    for i in range(cam.shape[0]):\n",
    "        for j in range(cam.shape[1]):\n",
    "            for k in range(cam.shape[2]):\n",
    "                cam[i, j, k] += conv_layer_activations[min(i // factor, layer_shape[0] - 1), \n",
    "                                                       min(j // factor, layer_shape[1] - 1), \n",
    "                                                       min(k // factor, layer_shape[2] - 1)]\n",
    "                \n",
    "    cam -= np.min(cam)\n",
    "    cam /= np.max(cam)\n",
    "                \n",
    "    plt.figure(figsize=(18, 6))\n",
    "    plt.subplot(subplots[0])\n",
    "    plt.imshow(input_img[0, 0, inp_shape[-3] // 2, :, :] ** beta,  cmap=cmap1)\n",
    "    plt.imshow(cam[inp_shape[-3] // 2, :, :], cmap=cmap2, alpha=alpha)\n",
    "    plt.subplot(subplots[1])\n",
    "    plt.imshow(input_img[0, 0, :, inp_shape[-2] // 2, :] ** beta, cmap=cmap1)\n",
    "    plt.imshow(cam[:, inp_shape[-2] // 2, :], cmap=cmap2, alpha=alpha)\n",
    "    plt.subplot(subplots[2])\n",
    "    plt.imshow(input_img[0, 0, :, :, inp_shape[-1] // 2] ** beta, cmap=cmap1)\n",
    "    plt.imshow(cam[:, :, inp_shape[-1] // 2], cmap=cmap2, alpha=alpha)\n",
    "    plt.show()"
   ]
  },
  {
   "cell_type": "code",
   "execution_count": 27,
   "metadata": {
    "colab": {
     "autoexec": {
      "startup": false,
      "wait_interval": 0
     }
    },
    "colab_type": "code",
    "collapsed": true,
    "id": "4rdtjqal-_Nn"
   },
   "outputs": [],
   "source": [
    "def save_checkpoint(state, is_best=False, filename='checkpoint.pth.tar'):\n",
    "    torch.save(state, filename)"
   ]
  },
  {
   "cell_type": "code",
   "execution_count": 28,
   "metadata": {
    "colab": {
     "autoexec": {
      "startup": false,
      "wait_interval": 0
     }
    },
    "colab_type": "code",
    "collapsed": true,
    "id": "Gvi1qDed_BhI"
   },
   "outputs": [],
   "source": [
    "# a special module that converts [batch, channel, w, h] to [batch, units]\n",
    "class Flatten(nn.Module):\n",
    "    def forward(self, input):\n",
    "        return input.view(input.size(0), -1)"
   ]
  },
  {
   "cell_type": "code",
   "execution_count": 29,
   "metadata": {
    "colab": {
     "autoexec": {
      "startup": false,
      "wait_interval": 0
     }
    },
    "colab_type": "code",
    "collapsed": true,
    "id": "co2t4olN_C5P"
   },
   "outputs": [],
   "source": [
    "def train_model(model, opt, train_idx, val_idx, mri_files, label, from_nii=True, segment_length=None, batch_size=10, num_epochs=500, epsilon=0, n_after_max=None, max_grad_norm=None, \n",
    "                vis_img_idx=0, vis_layers=[], \n",
    "                save=False, load=False, checkpoint_file=None, lr_decay=None, save_freq=2):\n",
    "  \n",
    "    train_loss = []\n",
    "    mean_train_loss = []\n",
    "    mean_train_auc = []\n",
    "    mean_val_auc = []\n",
    "    last_val_probs = []\n",
    "    cur_epoch = 0\n",
    "    \n",
    "    mean_grad_l = []\n",
    "\n",
    "    if load:\n",
    "        print(\"=> loading checkpoint '{}'\".format(checkpoint_file))\n",
    "        checkpoint = torch.load(checkpoint_file)\n",
    "        cur_epoch = checkpoint[\"epoch\"]\n",
    "#         model.load_state_dict(checkpoint['state_dict'])\n",
    "#         opt.load_state_dict(checkpoint['optimizer'])\n",
    "        model.load_state_dict(checkpoint['state_dict'])\n",
    "        model.cuda(cuda_n)\n",
    "        opt = torch.optim.Adam(model.parameters())\n",
    "        opt.load_state_dict(checkpoint['optimizer'])\n",
    "        for state in opt.state.values():\n",
    "            for k, v in state.items():\n",
    "                if torch.is_tensor(v):\n",
    "                    state[k] = v.cuda(cuda_n)\n",
    "        mean_train_loss = checkpoint['mean_train_loss']\n",
    "        mean_train_auc = checkpoint['mean_train_auc']\n",
    "        mean_val_auc = checkpoint['mean_val_auc']\n",
    "        print(\"=> loaded.\")\n",
    "\n",
    "    for epoch in range(cur_epoch, num_epochs):\n",
    "        # In each epoch, we do a full pass over the training data:\n",
    "        start_time = time.time()\n",
    "        train_probs = []\n",
    "        train_targets = []\n",
    "        model.train(True)\n",
    "        for batch in tqdm(load_minibatches(train_idx, mri_files, label, from_nii, batch_size, segment_length=segment_length)):\n",
    "            inputs, targets = batch\n",
    "#             inputs = inputs.transpose(1, 0)\n",
    "#             inputs = inputs.contiguous().view(inputs.size()[0], sequence_length, -1)\n",
    "            logits = model(inputs)\n",
    "            loss = compute_loss(logits, targets)\n",
    "            loss.backward()\n",
    "            \n",
    "#             mean_grad_l.append(np.mean(list(map(lambda x: torch.norm(x.grad.data), model.parameters()))))\n",
    "#             print(mean_grad_l[-1])\n",
    "            \n",
    "            # clip gradient if needed\n",
    "            # `clip_grad_norm` helps prevent the exploding gradient problem in RNNs / LSTMs.\n",
    "            if max_grad_norm is not None:\n",
    "                torch.nn.utils.clip_grad_norm(model.parameters(), max_grad_norm)\n",
    "            \n",
    "            opt.step()\n",
    "            opt.zero_grad()\n",
    "            train_loss.append(loss.cpu().data.numpy())\n",
    "            train_probs.extend(compute_probs(logits))\n",
    "            train_targets.extend(list(targets.cpu().data.numpy()))\n",
    "\n",
    "        # And a full pass over the validation data:\n",
    "        val_probs = []\n",
    "        val_targets = []\n",
    "        model.train(False)\n",
    "        for batch in tqdm(load_minibatches(val_idx, mri_files, label, from_nii, batch_size, segment_length=segment_length)):\n",
    "            inputs, targets = batch\n",
    "#             inputs = inputs.transpose(1, 0)\n",
    "#             inputs = inputs.contiguous().view(inputs.size()[0], sequence_length, -1)\n",
    "            logits = model(inputs)\n",
    "            val_probs.extend(compute_probs(logits))\n",
    "            val_targets.extend(list(targets.cpu().data.numpy()))\n",
    "\n",
    "        # Then we print the results for this epoch:\n",
    "        mean_train_loss.append(np.mean(train_loss[-len(train_idx) // batch_size:]))\n",
    "        mean_train_auc.append(roc_auc_score(label[train_idx], train_probs))\n",
    "#         mean_train_auc.append(roc_auc_score(train_targets, train_probs))\n",
    "        mean_val_auc.append(roc_auc_score(label[val_idx], val_probs))\n",
    "#         mean_val_auc.append(roc_auc_score(val_targets, val_probs))\n",
    "        last_val_probs = (label[val_idx].tolist(), val_probs)\n",
    "#         last_val_probs = (val_targets, val_probs)\n",
    "\n",
    "        clear_output(True)\n",
    "        plt.figure(figsize=(10, 5))\n",
    "        plt.subplot(121)\n",
    "        plt.plot(mean_train_loss)\n",
    "        plt.subplot(122)\n",
    "        plt.plot(mean_train_auc)\n",
    "        plt.plot(mean_val_auc)\n",
    "        plt.gca().set_ylim([0, 1])\n",
    "        plt.show()\n",
    "        print(\"Epoch {} of {} took {:.3f}s\".format(\n",
    "            epoch + 1, num_epochs, time.time() - start_time))\n",
    "        print(\"  training loss (in-iteration): \\t{:.6f}\".format(mean_train_loss[-1]))\n",
    "        print(\"  training AUC: \\t\\t\\t{:.2f} %\".format(mean_train_auc[-1] * 100))\n",
    "        print(\"  validation AUC: \\t\\t\\t{:.2f} %\".format(mean_val_auc[-1] * 100))\n",
    "        \n",
    "        # visualization of attention of layers\n",
    "        for l in vis_layers:\n",
    "            if from_nii:\n",
    "                vis_img = np.array([cut_segment(get_image(mri_files[vis_img_idx], from_nii), segment_length)])\n",
    "#                 vis_img = np.array([cut_segment(load_nii_to_array(mri_files[vis_img_idx]), segment_length)])\n",
    "#                 vis_img = np.array([load_nii_to_array(mri_files[vis_img_idx])])\n",
    "            else:\n",
    "                vis_img = np.array([np.load(mri_files[vis_img_idx])])\n",
    "            vis_img = reshape_images(vis_img, img_shape=IMG_SHAPE)\n",
    "            visualize_attention(model, l, vis_img, 1)\n",
    "            \n",
    "        # save current model state if needed\n",
    "        if save and (epoch + 1) % save_freq == 0:\n",
    "            save_checkpoint({\n",
    "                'epoch' : epoch + 1,\n",
    "                'state_dict' : model.state_dict(),\n",
    "                'optimizer' : opt.state_dict(),\n",
    "                'mean_train_loss' : mean_train_loss,\n",
    "                'mean_train_auc' : mean_train_auc,\n",
    "                'mean_val_auc' : mean_val_auc,\n",
    "            }, filename=checkpoint_file)\n",
    "            \n",
    "        # reduce lr if needed\n",
    "        if lr_decay is not None:\n",
    "            opt.param_groups[0]['lr'] *= lr_decay\n",
    "        \n",
    "        # stop if training loss < epsilon\n",
    "        if mean_train_loss[-1] < epsilon:\n",
    "            break\n",
    "        \n",
    "        # stop if last val performance max was  more than n_after_max epochs ago\n",
    "        if n_after_max is not None and epoch > np.argmax(mean_val_auc) + n_after_max:\n",
    "            break\n",
    "    \n",
    "    return mean_train_auc, mean_val_auc, last_val_probs"
   ]
  },
  {
   "cell_type": "code",
   "execution_count": 30,
   "metadata": {
    "colab": {
     "autoexec": {
      "startup": false,
      "wait_interval": 0
     }
    },
    "colab_type": "code",
    "collapsed": true,
    "id": "TuQQew4L_LAR"
   },
   "outputs": [],
   "source": [
    "class ConvRNN(nn.Module):\n",
    "    def __init__(self, input_size, hidden_size, num_layers, num_classes, dropout=0):\n",
    "        super(self.__class__, self).__init__()\n",
    "        self.model = build_cnn_model()\n",
    "        self.hidden_size = hidden_size\n",
    "        self.num_layers = num_layers\n",
    "        self.lstm = nn.LSTM(input_size, hidden_size, num_layers, batch_first=True, dropout=dropout)\n",
    "        self.fc = nn.Linear(hidden_size, num_classes)\n",
    "            \n",
    "    def forward(self, x):\n",
    "        # ! No initial states\n",
    "        n_objects, seq_length = x.size()[0:2]\n",
    "#         print(x.size())\n",
    "        x = x.contiguous().view([n_objects * seq_length] + list(x.size()[2:]))\n",
    "        x = self.model(x)\n",
    "#         print(x.size())\n",
    "        x = x.contiguous().view([n_objects, seq_length, -1])\n",
    "               \n",
    "        # Forward propagate RNN\n",
    "        out, _ = self.lstm(x)\n",
    "        \n",
    "        # Decode hidden state of last time step\n",
    "        out = self.fc(out[:, -1, :])  \n",
    "        return out"
   ]
  },
  {
   "cell_type": "code",
   "execution_count": 31,
   "metadata": {
    "colab": {
     "autoexec": {
      "startup": false,
      "wait_interval": 0
     }
    },
    "colab_type": "code",
    "collapsed": true,
    "id": "W8uzyreu_OFE"
   },
   "outputs": [],
   "source": [
    "def build_rnn_model(input_size, hidden_size, num_layers, num_classes=2, learning_rate=1e-3, dropout=0, weight_decay=0):\n",
    "    rnn = ConvRNN(input_size, hidden_size, num_layers, num_classes, dropout=dropout)\n",
    "    if use_cuda: rnn.cuda(cuda_n)\n",
    "    opt = torch.optim.Adam(rnn.parameters(), lr=learning_rate, weight_decay=weight_decay)\n",
    "    return rnn, opt"
   ]
  },
  {
   "cell_type": "code",
   "execution_count": 37,
   "metadata": {
    "colab": {
     "autoexec": {
      "startup": false,
      "wait_interval": 0
     }
    },
    "colab_type": "code",
    "collapsed": true,
    "id": "37C6P4yJ_P-0"
   },
   "outputs": [],
   "source": [
    "def build_model(learning_rate=1e-3, dropout=0, weight_decay=0):\n",
    "    model = nn.Sequential()\n",
    "\n",
    "    model.add_module(\"conv3d_1\", nn.Conv3d(1, 8, kernel_size=3, padding=1)) # 8 * 180 * 216 * 180\n",
    "    model.add_module(\"batch_norm_1\", nn.BatchNorm3d(8))\n",
    "    model.add_module(\"activation_1\", nn.ReLU(inplace=True))\n",
    "    model.add_module(\"conv3d_2\", nn.Conv3d(8, 8, kernel_size=3, padding=1)) # 8 * 180 * 216 * 180\n",
    "    model.add_module(\"batch_norm_2\", nn.BatchNorm3d(8))\n",
    "    model.add_module(\"activation_2\", nn.ReLU(inplace=True))\n",
    "    model.add_module(\"max_pool3d_1\", nn.MaxPool3d(kernel_size=2)) # 8 * 90 * 108 * 90\n",
    "\n",
    "    model.add_module(\"conv3d_3\", nn.Conv3d(8, 16, kernel_size=3, padding=1)) # 16 * 90 * 108 * 90\n",
    "    model.add_module(\"batch_norm_3\", nn.BatchNorm3d(16))\n",
    "    model.add_module(\"activation_3\", nn.ReLU(inplace=True))\n",
    "    model.add_module(\"conv3d_4\", nn.Conv3d(16, 16, kernel_size=3, padding=1)) # 16 * 90 * 108 * 90\n",
    "    model.add_module(\"batch_norm_4\", nn.BatchNorm3d(16))\n",
    "    model.add_module(\"activation_4\", nn.ReLU(inplace=True))\n",
    "    model.add_module(\"max_pool3d_2\", nn.MaxPool3d(kernel_size=2)) # 16 * 45 * 54 * 45\n",
    "\n",
    "    model.add_module(\"conv3d_5\", nn.Conv3d(16, 32, kernel_size=3, padding=1)) # 32 * 45 * 54 * 45\n",
    "    model.add_module(\"batch_norm_5\", nn.BatchNorm3d(32))\n",
    "    model.add_module(\"activation_5\", nn.ReLU(inplace=True))\n",
    "    model.add_module(\"conv3d_6\", nn.Conv3d(32, 32, kernel_size=3, padding=1)) # 32 * 45 * 54 * 45\n",
    "    model.add_module(\"batch_norm_6\", nn.BatchNorm3d(32))\n",
    "    model.add_module(\"activation_6\", nn.ReLU(inplace=True))\n",
    "    model.add_module(\"conv3d_7\", nn.Conv3d(32, 32, kernel_size=3, padding=1)) # 32 * 45 * 54 * 45\n",
    "    model.add_module(\"batch_norm_7\", nn.BatchNorm3d(32))\n",
    "    model.add_module(\"activation_7\", nn.ReLU(inplace=True))\n",
    "    model.add_module(\"max_pool3d_3\", nn.MaxPool3d(kernel_size=2)) # 32 * 22 * 27 * 22\n",
    "\n",
    "    model.add_module(\"conv3d_8\", nn.Conv3d(32, 64, kernel_size=3, padding=1)) # 64 * 22 * 27 * 22\n",
    "    model.add_module(\"batch_norm_8\", nn.BatchNorm3d(64))\n",
    "    model.add_module(\"activation_8\", nn.ReLU(inplace=True))\n",
    "    model.add_module(\"conv3d_9\", nn.Conv3d(64, 64, kernel_size=3, padding=1)) # 64 * 22 * 27 * 22\n",
    "    model.add_module(\"batch_norm_9\", nn.BatchNorm3d(64))\n",
    "    model.add_module(\"activation_9\", nn.ReLU(inplace=True))\n",
    "    model.add_module(\"conv3d_10\", nn.Conv3d(64, 64, kernel_size=3, padding=1)) # 64 * 22 * 27 * 22\n",
    "    model.add_module(\"batch_norm_10\", nn.BatchNorm3d(64))\n",
    "    model.add_module(\"activation_10\", nn.ReLU(inplace=True))\n",
    "    model.add_module(\"max_pool3d_4\", nn.MaxPool3d(kernel_size=2)) # 64 * 11 * 13 * 11 ?\n",
    "\n",
    "    model.add_module(\"flatten_1\", Flatten())\n",
    "    model.add_module(\"fully_conn_1\", nn.Linear(64 * 11 * 13 * 11, 128))\n",
    "    model.add_module(\"batch_norm_11\", nn.BatchNorm1d(128))\n",
    "    model.add_module(\"activation_11\", nn.ReLU(inplace=True))\n",
    "    model.add_module(\"dropout_1\", nn.Dropout(dropout))\n",
    "\n",
    "    model.add_module(\"fully_conn_2\", nn.Linear(128, 64))\n",
    "    model.add_module(\"activation_12\", nn.ReLU(inplace=True))\n",
    "\n",
    "    model.add_module(\"fully_conn_3\", nn.Linear(64, 2))\n",
    "\n",
    "    if use_cuda: model.cuda(cuda_n)\n",
    "\n",
    "    opt = torch.optim.Adam(model.parameters(), lr=learning_rate, weight_decay=weight_decay)\n",
    "    return model, opt"
   ]
  },
  {
   "cell_type": "code",
   "execution_count": 33,
   "metadata": {
    "collapsed": true
   },
   "outputs": [],
   "source": [
    "def save_res(res, path):\n",
    "    with open(path, \"w\") as f:\n",
    "        f.write(str(res))"
   ]
  },
  {
   "cell_type": "code",
   "execution_count": 34,
   "metadata": {
    "collapsed": true
   },
   "outputs": [],
   "source": [
    "def load_res(path):\n",
    "    with open(path) as f:\n",
    "        res = f.read()\n",
    "    return eval(res)"
   ]
  },
  {
   "cell_type": "code",
   "execution_count": 38,
   "metadata": {
    "collapsed": true
   },
   "outputs": [
    {
     "data": {
      "image/png": "[encoded data removed]",
      "text/plain": [
       "<matplotlib.figure.Figure at 0x7f2720816950>"
      ]
     },
     "metadata": {},
     "output_type": "display_data"
    },
    {
     "name": "stderr",
     "output_type": "stream",
     "text": [
      "\r",
      "0it [00:00, ?it/s]"
     ]
    },
    {
     "name": "stdout",
     "output_type": "stream",
     "text": [
      "Epoch 5 of 60 took 63.574s\n",
      "  training loss (in-iteration): \t0.550645\n",
      "  training AUC: \t\t\t93.56 %\n",
      "  validation AUC: \t\t\t74.44 %\n"
     ]
    },
    {
     "name": "stderr",
     "output_type": "stream",
     "text": [
      "7it [00:18,  2.62s/it]"
     ]
    },
    {
     "ename": "KeyboardInterrupt",
     "evalue": "",
     "output_type": "error",
     "traceback": [
      "\u001b[0;31m---------------------------------------------------------------------------\u001b[0m",
      "\u001b[0;31mKeyboardInterrupt\u001b[0m                         Traceback (most recent call last)",
      "\u001b[0;32m<ipython-input-38-d6c6a457c2d2>\u001b[0m in \u001b[0;36m<module>\u001b[0;34m()\u001b[0m\n\u001b[1;32m     25\u001b[0m     \u001b[0mmodel\u001b[0m\u001b[0;34m,\u001b[0m \u001b[0mopt\u001b[0m \u001b[0;34m=\u001b[0m \u001b[0mbuild_model\u001b[0m\u001b[0;34m(\u001b[0m\u001b[0mlearning_rate\u001b[0m\u001b[0;34m,\u001b[0m \u001b[0mdropout\u001b[0m\u001b[0;34m,\u001b[0m \u001b[0mweight_decay\u001b[0m\u001b[0;34m)\u001b[0m\u001b[0;34m\u001b[0m\u001b[0m\n\u001b[1;32m     26\u001b[0m     \u001b[0mk\u001b[0m \u001b[0;34m=\u001b[0m \u001b[0;36m0\u001b[0m\u001b[0;34m\u001b[0m\u001b[0m\n\u001b[0;32m---> 27\u001b[0;31m     \u001b[0mmean_train_auc\u001b[0m\u001b[0;34m,\u001b[0m \u001b[0mmean_val_auc\u001b[0m\u001b[0;34m,\u001b[0m \u001b[0mlast_val_probs\u001b[0m \u001b[0;34m=\u001b[0m \u001b[0mtrain_model\u001b[0m\u001b[0;34m(\u001b[0m\u001b[0mmodel\u001b[0m\u001b[0;34m,\u001b[0m \u001b[0mopt\u001b[0m\u001b[0;34m,\u001b[0m \u001b[0mtrain_idx\u001b[0m\u001b[0;34m,\u001b[0m \u001b[0mtest_idx\u001b[0m\u001b[0;34m,\u001b[0m \u001b[0mmri_l\u001b[0m\u001b[0;34m,\u001b[0m \u001b[0mlabel\u001b[0m\u001b[0;34m,\u001b[0m \u001b[0mbatch_size\u001b[0m\u001b[0;34m=\u001b[0m\u001b[0mbatch_size\u001b[0m\u001b[0;34m,\u001b[0m \u001b[0mnum_epochs\u001b[0m\u001b[0;34m=\u001b[0m\u001b[0mnum_epochs\u001b[0m\u001b[0;34m,\u001b[0m \u001b[0mepsilon\u001b[0m\u001b[0;34m=\u001b[0m\u001b[0;36m1e-1\u001b[0m\u001b[0;34m,\u001b[0m \u001b[0mvis_img_idx\u001b[0m\u001b[0;34m=\u001b[0m\u001b[0mtrain_idx\u001b[0m\u001b[0;34m[\u001b[0m\u001b[0mk\u001b[0m\u001b[0;34m]\u001b[0m\u001b[0;34m,\u001b[0m \u001b[0mvis_layers\u001b[0m\u001b[0;34m=\u001b[0m\u001b[0;34m[\u001b[0m\u001b[0;34m]\u001b[0m\u001b[0;34m)\u001b[0m\u001b[0;34m\u001b[0m\u001b[0m\n\u001b[0m\u001b[1;32m     28\u001b[0m     \u001b[0mtrain_auc_l\u001b[0m\u001b[0;34m.\u001b[0m\u001b[0mappend\u001b[0m\u001b[0;34m(\u001b[0m\u001b[0mmean_train_auc\u001b[0m\u001b[0;34m)\u001b[0m\u001b[0;34m\u001b[0m\u001b[0m\n\u001b[1;32m     29\u001b[0m     \u001b[0mval_auc_l\u001b[0m\u001b[0;34m.\u001b[0m\u001b[0mappend\u001b[0m\u001b[0;34m(\u001b[0m\u001b[0mmean_val_auc\u001b[0m\u001b[0;34m)\u001b[0m\u001b[0;34m\u001b[0m\u001b[0m\n",
      "\u001b[0;32m<ipython-input-29-b93eb7654fd1>\u001b[0m in \u001b[0;36mtrain_model\u001b[0;34m(model, opt, train_idx, val_idx, mri_files, label, from_nii, segment_length, batch_size, num_epochs, epsilon, n_after_max, max_grad_norm, vis_img_idx, vis_layers, save, load, checkpoint_file, lr_decay, save_freq)\u001b[0m\n\u001b[1;32m     55\u001b[0m             \u001b[0mopt\u001b[0m\u001b[0;34m.\u001b[0m\u001b[0mstep\u001b[0m\u001b[0;34m(\u001b[0m\u001b[0;34m)\u001b[0m\u001b[0;34m\u001b[0m\u001b[0m\n\u001b[1;32m     56\u001b[0m             \u001b[0mopt\u001b[0m\u001b[0;34m.\u001b[0m\u001b[0mzero_grad\u001b[0m\u001b[0;34m(\u001b[0m\u001b[0;34m)\u001b[0m\u001b[0;34m\u001b[0m\u001b[0m\n\u001b[0;32m---> 57\u001b[0;31m             \u001b[0mtrain_loss\u001b[0m\u001b[0;34m.\u001b[0m\u001b[0mappend\u001b[0m\u001b[0;34m(\u001b[0m\u001b[0mloss\u001b[0m\u001b[0;34m.\u001b[0m\u001b[0mcpu\u001b[0m\u001b[0;34m(\u001b[0m\u001b[0;34m)\u001b[0m\u001b[0;34m.\u001b[0m\u001b[0mdata\u001b[0m\u001b[0;34m.\u001b[0m\u001b[0mnumpy\u001b[0m\u001b[0;34m(\u001b[0m\u001b[0;34m)\u001b[0m\u001b[0;34m)\u001b[0m\u001b[0;34m\u001b[0m\u001b[0m\n\u001b[0m\u001b[1;32m     58\u001b[0m             \u001b[0mtrain_probs\u001b[0m\u001b[0;34m.\u001b[0m\u001b[0mextend\u001b[0m\u001b[0;34m(\u001b[0m\u001b[0mcompute_probs\u001b[0m\u001b[0;34m(\u001b[0m\u001b[0mlogits\u001b[0m\u001b[0;34m)\u001b[0m\u001b[0;34m)\u001b[0m\u001b[0;34m\u001b[0m\u001b[0m\n\u001b[1;32m     59\u001b[0m             \u001b[0mtrain_targets\u001b[0m\u001b[0;34m.\u001b[0m\u001b[0mextend\u001b[0m\u001b[0;34m(\u001b[0m\u001b[0mlist\u001b[0m\u001b[0;34m(\u001b[0m\u001b[0mtargets\u001b[0m\u001b[0;34m.\u001b[0m\u001b[0mcpu\u001b[0m\u001b[0;34m(\u001b[0m\u001b[0;34m)\u001b[0m\u001b[0;34m.\u001b[0m\u001b[0mdata\u001b[0m\u001b[0;34m.\u001b[0m\u001b[0mnumpy\u001b[0m\u001b[0;34m(\u001b[0m\u001b[0;34m)\u001b[0m\u001b[0;34m)\u001b[0m\u001b[0;34m)\u001b[0m\u001b[0;34m\u001b[0m\u001b[0m\n",
      "\u001b[0;31mKeyboardInterrupt\u001b[0m: "
     ]
    }
   ],
   "source": [
    "# D = 0.3\n",
    "problem = \"E/no E\"\n",
    "problem_label = \"E\"\n",
    "label = pd.Series(labels[problem] == label_to_idx[problem_label], dtype=np.int64)\n",
    "cv = RepeatedStratifiedKFold(n_splits=5, n_repeats=3, random_state=42)\n",
    "cv_splits = list(cv.split(X=label.index, y=label))\n",
    "\n",
    "train_auc_l = []\n",
    "val_auc_l = []\n",
    "val_last_probs_l = []\n",
    "test_auc = []\n",
    "\n",
    "dropout = 0.3\n",
    "learning_rate = 1e-4\n",
    "weight_decay = 0\n",
    "batch_size = 3\n",
    "num_epochs = 60\n",
    "\n",
    "problem_name = \"voxcnn_mprage_8x2-16x2-32x3-64x3-BN-128-BN-D({})-64\".format(dropout)\n",
    "\n",
    "for i in range(len(test_auc), len(cv_splits)):\n",
    "    tr_idx, te_idx = cv_splits[i]\n",
    "    train_idx = label.index[tr_idx]\n",
    "    test_idx = label.index[te_idx]\n",
    "    model, opt = build_model(learning_rate, dropout, weight_decay)\n",
    "    k = 0\n",
    "    mean_train_auc, mean_val_auc, last_val_probs = train_model(model, opt, train_idx, test_idx, mri_l, label, batch_size=batch_size, num_epochs=num_epochs, epsilon=1e-1, vis_img_idx=train_idx[k], vis_layers=[])\n",
    "    train_auc_l.append(mean_train_auc)\n",
    "    val_auc_l.append(mean_val_auc)\n",
    "    val_last_probs_l.append(last_val_probs)\n",
    "    test_auc.append(mean_val_auc[-1])\n",
    "\n",
    "    save_res(train_auc_l, problem_name + \"_train_auc_\" + problem.replace(\"/\", \"_\"))\n",
    "    save_res(val_auc_l, problem_name + \"_val_auc_\" + problem.replace(\"/\", \"_\"))\n",
    "    save_res(val_last_probs_l, problem_name + \"_val_last_probs_\" + problem.replace(\"/\", \"_\"))\n",
    "    \n",
    "print(\"test auc mean:\", np.mean(test_auc))\n",
    "print(\"test auc std:\", np.std(test_auc))"
   ]
  },
  {
   "cell_type": "code",
   "execution_count": 39,
   "metadata": {},
   "outputs": [
    {
     "name": "stdout",
     "output_type": "stream",
     "text": [
      "('test auc mean:', 0.6762962962962963)\n",
      "('test auc std:', 0.06314407502884406)\n"
     ]
    },
    {
     "data": {
      "text/plain": [
       "[0.6666666666666666,\n",
       " 0.6777777777777778,\n",
       " 0.7037037037037037,\n",
       " 0.763888888888889,\n",
       " 0.5694444444444444]"
      ]
     },
     "execution_count": 39,
     "metadata": {},
     "output_type": "execute_result"
    }
   ],
   "source": [
    "problem = \"E/no E\"\n",
    "problem_label = \"E\"\n",
    "dropout = 0.3\n",
    "problem_name = \"voxcnn_mprage_8x2-16x2-32x3-64x3-BN-128-BN-D({})-64\".format(dropout)\n",
    "\n",
    "train_auc_l = load_res(problem_name + \"_train_auc_\" + problem.replace(\"/\", \"_\"))\n",
    "val_auc_l = load_res(problem_name + \"_val_auc_\" + problem.replace(\"/\", \"_\"))\n",
    "val_last_probs_l = load_res(problem_name + \"_val_last_probs_\" + problem.replace(\"/\", \"_\"))\n",
    "test_auc = list(map(lambda x: x[-1], val_auc_l))\n",
    "print(\"test auc mean:\", np.mean(test_auc))\n",
    "print(\"test auc std:\", np.std(test_auc))\n",
    "test_auc"
   ]
  },
  {
   "cell_type": "code",
   "execution_count": null,
   "metadata": {
    "collapsed": true
   },
   "outputs": [],
   "source": []
  },
  {
   "cell_type": "code",
   "execution_count": null,
   "metadata": {
    "collapsed": true
   },
   "outputs": [],
   "source": []
  },
  {
   "cell_type": "code",
   "execution_count": 35,
   "metadata": {},
   "outputs": [
    {
     "data": {
      "image/png": "[encoded data removed]",
      "text/plain": [
       "<matplotlib.figure.Figure at 0x7fadf820c990>"
      ]
     },
     "metadata": {},
     "output_type": "display_data"
    },
    {
     "name": "stderr",
     "output_type": "stream",
     "text": [
      "\r",
      "0it [00:00, ?it/s]"
     ]
    },
    {
     "name": "stdout",
     "output_type": "stream",
     "text": [
      "Epoch 53 of 60 took 38.405s\n",
      "  training loss (in-iteration): \t0.300259\n",
      "  training AUC: \t\t\t97.39 %\n",
      "  validation AUC: \t\t\t60.00 %\n"
     ]
    },
    {
     "name": "stderr",
     "output_type": "stream",
     "text": [
      "8it [00:24,  3.10s/it]"
     ]
    },
    {
     "ename": "KeyboardInterrupt",
     "evalue": "",
     "output_type": "error",
     "traceback": [
      "\u001b[0;31m---------------------------------------------------------------------------\u001b[0m",
      "\u001b[0;31mKeyboardInterrupt\u001b[0m                         Traceback (most recent call last)",
      "\u001b[0;32m<ipython-input-35-fba48e1ae900>\u001b[0m in \u001b[0;36m<module>\u001b[0;34m()\u001b[0m\n\u001b[1;32m     26\u001b[0m     \u001b[0mmodel\u001b[0m\u001b[0;34m,\u001b[0m \u001b[0mopt\u001b[0m \u001b[0;34m=\u001b[0m \u001b[0mbuild_model\u001b[0m\u001b[0;34m(\u001b[0m\u001b[0mlearning_rate\u001b[0m\u001b[0;34m,\u001b[0m \u001b[0mdropout\u001b[0m\u001b[0;34m,\u001b[0m \u001b[0mweight_decay\u001b[0m\u001b[0;34m)\u001b[0m\u001b[0;34m\u001b[0m\u001b[0m\n\u001b[1;32m     27\u001b[0m     \u001b[0mk\u001b[0m \u001b[0;34m=\u001b[0m \u001b[0;36m0\u001b[0m\u001b[0;34m\u001b[0m\u001b[0m\n\u001b[0;32m---> 28\u001b[0;31m     \u001b[0mmean_train_auc\u001b[0m\u001b[0;34m,\u001b[0m \u001b[0mmean_val_auc\u001b[0m\u001b[0;34m,\u001b[0m \u001b[0mlast_val_probs\u001b[0m \u001b[0;34m=\u001b[0m \u001b[0mtrain_model\u001b[0m\u001b[0;34m(\u001b[0m\u001b[0mmodel\u001b[0m\u001b[0;34m,\u001b[0m \u001b[0mopt\u001b[0m\u001b[0;34m,\u001b[0m \u001b[0mtrain_idx\u001b[0m\u001b[0;34m,\u001b[0m \u001b[0mtest_idx\u001b[0m\u001b[0;34m,\u001b[0m \u001b[0mmri_l\u001b[0m\u001b[0;34m,\u001b[0m \u001b[0mlabel\u001b[0m\u001b[0;34m,\u001b[0m \u001b[0mbatch_size\u001b[0m\u001b[0;34m=\u001b[0m\u001b[0mbatch_size\u001b[0m\u001b[0;34m,\u001b[0m \u001b[0mnum_epochs\u001b[0m\u001b[0;34m=\u001b[0m\u001b[0mnum_epochs\u001b[0m\u001b[0;34m,\u001b[0m \u001b[0mepsilon\u001b[0m\u001b[0;34m=\u001b[0m\u001b[0;36m1e-1\u001b[0m\u001b[0;34m,\u001b[0m \u001b[0mvis_img_idx\u001b[0m\u001b[0;34m=\u001b[0m\u001b[0mtrain_idx\u001b[0m\u001b[0;34m[\u001b[0m\u001b[0mk\u001b[0m\u001b[0;34m]\u001b[0m\u001b[0;34m,\u001b[0m \u001b[0mvis_layers\u001b[0m\u001b[0;34m=\u001b[0m\u001b[0;34m[\u001b[0m\u001b[0;34m]\u001b[0m\u001b[0;34m)\u001b[0m\u001b[0;34m\u001b[0m\u001b[0m\n\u001b[0m\u001b[1;32m     29\u001b[0m     \u001b[0mtrain_auc_l\u001b[0m\u001b[0;34m.\u001b[0m\u001b[0mappend\u001b[0m\u001b[0;34m(\u001b[0m\u001b[0mmean_train_auc\u001b[0m\u001b[0;34m)\u001b[0m\u001b[0;34m\u001b[0m\u001b[0m\n\u001b[1;32m     30\u001b[0m     \u001b[0mval_auc_l\u001b[0m\u001b[0;34m.\u001b[0m\u001b[0mappend\u001b[0m\u001b[0;34m(\u001b[0m\u001b[0mmean_val_auc\u001b[0m\u001b[0;34m)\u001b[0m\u001b[0;34m\u001b[0m\u001b[0m\n",
      "\u001b[0;32m<ipython-input-29-b93eb7654fd1>\u001b[0m in \u001b[0;36mtrain_model\u001b[0;34m(model, opt, train_idx, val_idx, mri_files, label, from_nii, segment_length, batch_size, num_epochs, epsilon, n_after_max, max_grad_norm, vis_img_idx, vis_layers, save, load, checkpoint_file, lr_decay, save_freq)\u001b[0m\n\u001b[1;32m     55\u001b[0m             \u001b[0mopt\u001b[0m\u001b[0;34m.\u001b[0m\u001b[0mstep\u001b[0m\u001b[0;34m(\u001b[0m\u001b[0;34m)\u001b[0m\u001b[0;34m\u001b[0m\u001b[0m\n\u001b[1;32m     56\u001b[0m             \u001b[0mopt\u001b[0m\u001b[0;34m.\u001b[0m\u001b[0mzero_grad\u001b[0m\u001b[0;34m(\u001b[0m\u001b[0;34m)\u001b[0m\u001b[0;34m\u001b[0m\u001b[0m\n\u001b[0;32m---> 57\u001b[0;31m             \u001b[0mtrain_loss\u001b[0m\u001b[0;34m.\u001b[0m\u001b[0mappend\u001b[0m\u001b[0;34m(\u001b[0m\u001b[0mloss\u001b[0m\u001b[0;34m.\u001b[0m\u001b[0mcpu\u001b[0m\u001b[0;34m(\u001b[0m\u001b[0;34m)\u001b[0m\u001b[0;34m.\u001b[0m\u001b[0mdata\u001b[0m\u001b[0;34m.\u001b[0m\u001b[0mnumpy\u001b[0m\u001b[0;34m(\u001b[0m\u001b[0;34m)\u001b[0m\u001b[0;34m)\u001b[0m\u001b[0;34m\u001b[0m\u001b[0m\n\u001b[0m\u001b[1;32m     58\u001b[0m             \u001b[0mtrain_probs\u001b[0m\u001b[0;34m.\u001b[0m\u001b[0mextend\u001b[0m\u001b[0;34m(\u001b[0m\u001b[0mcompute_probs\u001b[0m\u001b[0;34m(\u001b[0m\u001b[0mlogits\u001b[0m\u001b[0;34m)\u001b[0m\u001b[0;34m)\u001b[0m\u001b[0;34m\u001b[0m\u001b[0m\n\u001b[1;32m     59\u001b[0m             \u001b[0mtrain_targets\u001b[0m\u001b[0;34m.\u001b[0m\u001b[0mextend\u001b[0m\u001b[0;34m(\u001b[0m\u001b[0mlist\u001b[0m\u001b[0;34m(\u001b[0m\u001b[0mtargets\u001b[0m\u001b[0;34m.\u001b[0m\u001b[0mcpu\u001b[0m\u001b[0;34m(\u001b[0m\u001b[0;34m)\u001b[0m\u001b[0;34m.\u001b[0m\u001b[0mdata\u001b[0m\u001b[0;34m.\u001b[0m\u001b[0mnumpy\u001b[0m\u001b[0;34m(\u001b[0m\u001b[0;34m)\u001b[0m\u001b[0;34m)\u001b[0m\u001b[0;34m)\u001b[0m\u001b[0;34m\u001b[0m\u001b[0m\n",
      "\u001b[0;31mKeyboardInterrupt\u001b[0m: "
     ]
    }
   ],
   "source": [
    "# D = 0.5\n",
    "problem = \"E/C\"\n",
    "problem_label = \"E\"\n",
    "idx = labels[problem].notnull()\n",
    "label = pd.Series(labels[problem] == label_to_idx[problem_label], dtype=np.int64)[idx]\n",
    "cv = RepeatedStratifiedKFold(n_splits=5, n_repeats=3, random_state=42)\n",
    "cv_splits = list(cv.split(X=label.index, y=label))\n",
    "\n",
    "train_auc_l = []\n",
    "val_auc_l = []\n",
    "val_last_probs_l = []\n",
    "test_auc = []\n",
    "\n",
    "dropout = 0.5\n",
    "learning_rate = 1e-4\n",
    "weight_decay = 0\n",
    "batch_size = 3\n",
    "num_epochs = 60\n",
    "\n",
    "problem_name = \"voxcnn_mprage_8x2-16x2-32x3-64x3-BN-128-BN-D({})-64\".format(dropout)\n",
    "\n",
    "for i in range(len(test_auc), len(cv_splits)):\n",
    "    tr_idx, te_idx = cv_splits[i]\n",
    "    train_idx = label.index[tr_idx]\n",
    "    test_idx = label.index[te_idx]\n",
    "    model, opt = build_model(learning_rate, dropout, weight_decay)\n",
    "    k = 0\n",
    "    mean_train_auc, mean_val_auc, last_val_probs = train_model(model, opt, train_idx, test_idx, mri_l, label, batch_size=batch_size, num_epochs=num_epochs, epsilon=1e-1, vis_img_idx=train_idx[k], vis_layers=[])\n",
    "    train_auc_l.append(mean_train_auc)\n",
    "    val_auc_l.append(mean_val_auc)\n",
    "    val_last_probs_l.append(last_val_probs)\n",
    "    test_auc.append(mean_val_auc[-1])\n",
    "\n",
    "    save_res(train_auc_l, problem_name + \"_train_auc_\" + problem.replace(\"/\", \"_\"))\n",
    "    save_res(val_auc_l, problem_name + \"_val_auc_\" + problem.replace(\"/\", \"_\"))\n",
    "    save_res(val_last_probs_l, problem_name + \"_val_last_probs_\" + problem.replace(\"/\", \"_\"))\n",
    "    \n",
    "print(\"test auc mean:\", np.mean(test_auc))\n",
    "print(\"test auc std:\", np.std(test_auc))"
   ]
  },
  {
   "cell_type": "code",
   "execution_count": 35,
   "metadata": {},
   "outputs": [
    {
     "name": "stdout",
     "output_type": "stream",
     "text": [
      "('test auc mean:', 0.7375)\n",
      "('test auc std:', 0.05448623679425842)\n"
     ]
    },
    {
     "data": {
      "text/plain": [
       "[0.8, 0.75, 0.65, 0.75]"
      ]
     },
     "execution_count": 35,
     "metadata": {},
     "output_type": "execute_result"
    }
   ],
   "source": [
    "problem = \"E/C\"\n",
    "problem_label = \"E\"\n",
    "dropout = 0.5\n",
    "problem_name = \"voxcnn_mprage_8x3-16x3-32x2-64x2-BN-128-BN-D({})-64\".format(dropout)\n",
    "\n",
    "train_auc_l = load_res(problem_name + \"_train_auc_\" + problem.replace(\"/\", \"_\"))\n",
    "val_auc_l = load_res(problem_name + \"_val_auc_\" + problem.replace(\"/\", \"_\"))\n",
    "val_last_probs_l = load_res(problem_name + \"_val_last_probs_\" + problem.replace(\"/\", \"_\"))\n",
    "test_auc = list(map(lambda x: x[-1], val_auc_l))\n",
    "print(\"test auc mean:\", np.mean(test_auc))\n",
    "print(\"test auc std:\", np.std(test_auc))\n",
    "test_auc"
   ]
  },
  {
   "cell_type": "code",
   "execution_count": null,
   "metadata": {
    "collapsed": true
   },
   "outputs": [],
   "source": []
  },
  {
   "cell_type": "code",
   "execution_count": 36,
   "metadata": {},
   "outputs": [
    {
     "data": {
      "image/png": "[encoded data removed]",
      "text/plain": [
       "<matplotlib.figure.Figure at 0x7fadf8179350>"
      ]
     },
     "metadata": {},
     "output_type": "display_data"
    },
    {
     "name": "stderr",
     "output_type": "stream",
     "text": [
      "\r",
      "0it [00:00, ?it/s]"
     ]
    },
    {
     "name": "stdout",
     "output_type": "stream",
     "text": [
      "Epoch 54 of 60 took 22.013s\n",
      "  training loss (in-iteration): \t0.578452\n",
      "  training AUC: \t\t\t75.69 %\n",
      "  validation AUC: \t\t\t76.00 %\n"
     ]
    },
    {
     "name": "stderr",
     "output_type": "stream",
     "text": [
      "7it [00:21,  3.11s/it]"
     ]
    },
    {
     "ename": "KeyboardInterrupt",
     "evalue": "",
     "output_type": "error",
     "traceback": [
      "\u001b[0;31m---------------------------------------------------------------------------\u001b[0m",
      "\u001b[0;31mKeyboardInterrupt\u001b[0m                         Traceback (most recent call last)",
      "\u001b[0;32m<ipython-input-36-54e532d7a561>\u001b[0m in \u001b[0;36m<module>\u001b[0;34m()\u001b[0m\n\u001b[1;32m     26\u001b[0m     \u001b[0mmodel\u001b[0m\u001b[0;34m,\u001b[0m \u001b[0mopt\u001b[0m \u001b[0;34m=\u001b[0m \u001b[0mbuild_model\u001b[0m\u001b[0;34m(\u001b[0m\u001b[0mlearning_rate\u001b[0m\u001b[0;34m,\u001b[0m \u001b[0mdropout\u001b[0m\u001b[0;34m,\u001b[0m \u001b[0mweight_decay\u001b[0m\u001b[0;34m)\u001b[0m\u001b[0;34m\u001b[0m\u001b[0m\n\u001b[1;32m     27\u001b[0m     \u001b[0mk\u001b[0m \u001b[0;34m=\u001b[0m \u001b[0;36m0\u001b[0m\u001b[0;34m\u001b[0m\u001b[0m\n\u001b[0;32m---> 28\u001b[0;31m     \u001b[0mmean_train_auc\u001b[0m\u001b[0;34m,\u001b[0m \u001b[0mmean_val_auc\u001b[0m\u001b[0;34m,\u001b[0m \u001b[0mlast_val_probs\u001b[0m \u001b[0;34m=\u001b[0m \u001b[0mtrain_model\u001b[0m\u001b[0;34m(\u001b[0m\u001b[0mmodel\u001b[0m\u001b[0;34m,\u001b[0m \u001b[0mopt\u001b[0m\u001b[0;34m,\u001b[0m \u001b[0mtrain_idx\u001b[0m\u001b[0;34m,\u001b[0m \u001b[0mtest_idx\u001b[0m\u001b[0;34m,\u001b[0m \u001b[0mmri_l\u001b[0m\u001b[0;34m,\u001b[0m \u001b[0mlabel\u001b[0m\u001b[0;34m,\u001b[0m \u001b[0mbatch_size\u001b[0m\u001b[0;34m=\u001b[0m\u001b[0mbatch_size\u001b[0m\u001b[0;34m,\u001b[0m \u001b[0mnum_epochs\u001b[0m\u001b[0;34m=\u001b[0m\u001b[0mnum_epochs\u001b[0m\u001b[0;34m,\u001b[0m \u001b[0mepsilon\u001b[0m\u001b[0;34m=\u001b[0m\u001b[0;36m1e-1\u001b[0m\u001b[0;34m,\u001b[0m \u001b[0mvis_img_idx\u001b[0m\u001b[0;34m=\u001b[0m\u001b[0mtrain_idx\u001b[0m\u001b[0;34m[\u001b[0m\u001b[0mk\u001b[0m\u001b[0;34m]\u001b[0m\u001b[0;34m,\u001b[0m \u001b[0mvis_layers\u001b[0m\u001b[0;34m=\u001b[0m\u001b[0;34m[\u001b[0m\u001b[0;34m]\u001b[0m\u001b[0;34m)\u001b[0m\u001b[0;34m\u001b[0m\u001b[0m\n\u001b[0m\u001b[1;32m     29\u001b[0m     \u001b[0mtrain_auc_l\u001b[0m\u001b[0;34m.\u001b[0m\u001b[0mappend\u001b[0m\u001b[0;34m(\u001b[0m\u001b[0mmean_train_auc\u001b[0m\u001b[0;34m)\u001b[0m\u001b[0;34m\u001b[0m\u001b[0m\n\u001b[1;32m     30\u001b[0m     \u001b[0mval_auc_l\u001b[0m\u001b[0;34m.\u001b[0m\u001b[0mappend\u001b[0m\u001b[0;34m(\u001b[0m\u001b[0mmean_val_auc\u001b[0m\u001b[0;34m)\u001b[0m\u001b[0;34m\u001b[0m\u001b[0m\n",
      "\u001b[0;32m<ipython-input-29-b93eb7654fd1>\u001b[0m in \u001b[0;36mtrain_model\u001b[0;34m(model, opt, train_idx, val_idx, mri_files, label, from_nii, segment_length, batch_size, num_epochs, epsilon, n_after_max, max_grad_norm, vis_img_idx, vis_layers, save, load, checkpoint_file, lr_decay, save_freq)\u001b[0m\n\u001b[1;32m     55\u001b[0m             \u001b[0mopt\u001b[0m\u001b[0;34m.\u001b[0m\u001b[0mstep\u001b[0m\u001b[0;34m(\u001b[0m\u001b[0;34m)\u001b[0m\u001b[0;34m\u001b[0m\u001b[0m\n\u001b[1;32m     56\u001b[0m             \u001b[0mopt\u001b[0m\u001b[0;34m.\u001b[0m\u001b[0mzero_grad\u001b[0m\u001b[0;34m(\u001b[0m\u001b[0;34m)\u001b[0m\u001b[0;34m\u001b[0m\u001b[0m\n\u001b[0;32m---> 57\u001b[0;31m             \u001b[0mtrain_loss\u001b[0m\u001b[0;34m.\u001b[0m\u001b[0mappend\u001b[0m\u001b[0;34m(\u001b[0m\u001b[0mloss\u001b[0m\u001b[0;34m.\u001b[0m\u001b[0mcpu\u001b[0m\u001b[0;34m(\u001b[0m\u001b[0;34m)\u001b[0m\u001b[0;34m.\u001b[0m\u001b[0mdata\u001b[0m\u001b[0;34m.\u001b[0m\u001b[0mnumpy\u001b[0m\u001b[0;34m(\u001b[0m\u001b[0;34m)\u001b[0m\u001b[0;34m)\u001b[0m\u001b[0;34m\u001b[0m\u001b[0m\n\u001b[0m\u001b[1;32m     58\u001b[0m             \u001b[0mtrain_probs\u001b[0m\u001b[0;34m.\u001b[0m\u001b[0mextend\u001b[0m\u001b[0;34m(\u001b[0m\u001b[0mcompute_probs\u001b[0m\u001b[0;34m(\u001b[0m\u001b[0mlogits\u001b[0m\u001b[0;34m)\u001b[0m\u001b[0;34m)\u001b[0m\u001b[0;34m\u001b[0m\u001b[0m\n\u001b[1;32m     59\u001b[0m             \u001b[0mtrain_targets\u001b[0m\u001b[0;34m.\u001b[0m\u001b[0mextend\u001b[0m\u001b[0;34m(\u001b[0m\u001b[0mlist\u001b[0m\u001b[0;34m(\u001b[0m\u001b[0mtargets\u001b[0m\u001b[0;34m.\u001b[0m\u001b[0mcpu\u001b[0m\u001b[0;34m(\u001b[0m\u001b[0;34m)\u001b[0m\u001b[0;34m.\u001b[0m\u001b[0mdata\u001b[0m\u001b[0;34m.\u001b[0m\u001b[0mnumpy\u001b[0m\u001b[0;34m(\u001b[0m\u001b[0;34m)\u001b[0m\u001b[0;34m)\u001b[0m\u001b[0;34m)\u001b[0m\u001b[0;34m\u001b[0m\u001b[0m\n",
      "\u001b[0;31mKeyboardInterrupt\u001b[0m: "
     ]
    }
   ],
   "source": [
    "# D = 0.7\n",
    "problem = \"E/C\"\n",
    "problem_label = \"E\"\n",
    "idx = labels[problem].notnull()\n",
    "label = pd.Series(labels[problem] == label_to_idx[problem_label], dtype=np.int64)[idx]\n",
    "cv = RepeatedStratifiedKFold(n_splits=5, n_repeats=3, random_state=42)\n",
    "cv_splits = list(cv.split(X=label.index, y=label))\n",
    "\n",
    "train_auc_l = []\n",
    "val_auc_l = []\n",
    "val_last_probs_l = []\n",
    "test_auc = []\n",
    "\n",
    "dropout = 0.7\n",
    "learning_rate = 1e-4\n",
    "weight_decay = 0\n",
    "batch_size = 3\n",
    "num_epochs = 60\n",
    "\n",
    "problem_name = \"voxcnn_mprage_8x2-16x2-32x3-64x3-BN-128-BN-D({})-64\".format(dropout)\n",
    "\n",
    "for i in range(len(test_auc), len(cv_splits)):\n",
    "    tr_idx, te_idx = cv_splits[i]\n",
    "    train_idx = label.index[tr_idx]\n",
    "    test_idx = label.index[te_idx]\n",
    "    model, opt = build_model(learning_rate, dropout, weight_decay)\n",
    "    k = 0\n",
    "    mean_train_auc, mean_val_auc, last_val_probs = train_model(model, opt, train_idx, test_idx, mri_l, label, batch_size=batch_size, num_epochs=num_epochs, epsilon=1e-1, vis_img_idx=train_idx[k], vis_layers=[])\n",
    "    train_auc_l.append(mean_train_auc)\n",
    "    val_auc_l.append(mean_val_auc)\n",
    "    val_last_probs_l.append(last_val_probs)\n",
    "    test_auc.append(mean_val_auc[-1])\n",
    "\n",
    "    save_res(train_auc_l, problem_name + \"_train_auc_\" + problem.replace(\"/\", \"_\"))\n",
    "    save_res(val_auc_l, problem_name + \"_val_auc_\" + problem.replace(\"/\", \"_\"))\n",
    "    save_res(val_last_probs_l, problem_name + \"_val_last_probs_\" + problem.replace(\"/\", \"_\"))\n",
    "    \n",
    "print(\"test auc mean:\", np.mean(test_auc))\n",
    "print(\"test auc std:\", np.std(test_auc))"
   ]
  },
  {
   "cell_type": "code",
   "execution_count": null,
   "metadata": {
    "collapsed": true
   },
   "outputs": [],
   "source": []
  },
  {
   "cell_type": "code",
   "execution_count": null,
   "metadata": {
    "collapsed": true
   },
   "outputs": [],
   "source": []
  },
  {
   "cell_type": "code",
   "execution_count": 36,
   "metadata": {},
   "outputs": [
    {
     "data": {
      "text/plain": [
       "12"
      ]
     },
     "execution_count": 36,
     "metadata": {},
     "output_type": "execute_result"
    }
   ],
   "source": [
    "len(test_auc)"
   ]
  },
  {
   "cell_type": "code",
   "execution_count": null,
   "metadata": {
    "collapsed": true
   },
   "outputs": [],
   "source": []
  },
  {
   "cell_type": "code",
   "execution_count": 38,
   "metadata": {},
   "outputs": [
    {
     "data": {
      "image/png": "[encoded data removed]",
      "text/plain": [
       "<matplotlib.figure.Figure at 0x7efeaed9a0d0>"
      ]
     },
     "metadata": {},
     "output_type": "display_data"
    },
    {
     "name": "stderr",
     "output_type": "stream",
     "text": [
      "\r",
      "0it [00:00, ?it/s]"
     ]
    },
    {
     "name": "stdout",
     "output_type": "stream",
     "text": [
      "Epoch 94 of 150 took 77.051s\n",
      "  training loss (in-iteration): \t0.163417\n",
      "  training AUC: \t\t\t99.68 %\n",
      "  validation AUC: \t\t\t74.44 %\n"
     ]
    },
    {
     "name": "stderr",
     "output_type": "stream",
     "text": [
      "2it [00:05,  2.89s/it]\n"
     ]
    },
    {
     "ename": "KeyboardInterrupt",
     "evalue": "",
     "output_type": "error",
     "traceback": [
      "\u001b[0;31m---------------------------------------------------------------------------\u001b[0m",
      "\u001b[0;31mKeyboardInterrupt\u001b[0m                         Traceback (most recent call last)",
      "\u001b[0;32m<ipython-input-38-cbfcf8526a7c>\u001b[0m in \u001b[0;36m<module>\u001b[0;34m()\u001b[0m\n\u001b[1;32m     25\u001b[0m     \u001b[0mmodel\u001b[0m\u001b[0;34m,\u001b[0m \u001b[0mopt\u001b[0m \u001b[0;34m=\u001b[0m \u001b[0mbuild_model\u001b[0m\u001b[0;34m(\u001b[0m\u001b[0mlearning_rate\u001b[0m\u001b[0;34m,\u001b[0m \u001b[0mdropout\u001b[0m\u001b[0;34m,\u001b[0m \u001b[0mweight_decay\u001b[0m\u001b[0;34m)\u001b[0m\u001b[0;34m\u001b[0m\u001b[0m\n\u001b[1;32m     26\u001b[0m     \u001b[0mk\u001b[0m \u001b[0;34m=\u001b[0m \u001b[0;36m0\u001b[0m\u001b[0;34m\u001b[0m\u001b[0m\n\u001b[0;32m---> 27\u001b[0;31m     \u001b[0mmean_train_auc\u001b[0m\u001b[0;34m,\u001b[0m \u001b[0mmean_val_auc\u001b[0m\u001b[0;34m,\u001b[0m \u001b[0mlast_val_probs\u001b[0m \u001b[0;34m=\u001b[0m \u001b[0mtrain_model\u001b[0m\u001b[0;34m(\u001b[0m\u001b[0mmodel\u001b[0m\u001b[0;34m,\u001b[0m \u001b[0mopt\u001b[0m\u001b[0;34m,\u001b[0m \u001b[0mtrain_idx\u001b[0m\u001b[0;34m,\u001b[0m \u001b[0mtest_idx\u001b[0m\u001b[0;34m,\u001b[0m \u001b[0mmri_l\u001b[0m\u001b[0;34m,\u001b[0m \u001b[0mlabel\u001b[0m\u001b[0;34m,\u001b[0m \u001b[0mbatch_size\u001b[0m\u001b[0;34m=\u001b[0m\u001b[0mbatch_size\u001b[0m\u001b[0;34m,\u001b[0m \u001b[0mnum_epochs\u001b[0m\u001b[0;34m=\u001b[0m\u001b[0mnum_epochs\u001b[0m\u001b[0;34m,\u001b[0m \u001b[0mepsilon\u001b[0m\u001b[0;34m=\u001b[0m\u001b[0;36m1e-1\u001b[0m\u001b[0;34m,\u001b[0m \u001b[0mvis_img_idx\u001b[0m\u001b[0;34m=\u001b[0m\u001b[0mtrain_idx\u001b[0m\u001b[0;34m[\u001b[0m\u001b[0mk\u001b[0m\u001b[0;34m]\u001b[0m\u001b[0;34m,\u001b[0m \u001b[0mvis_layers\u001b[0m\u001b[0;34m=\u001b[0m\u001b[0;34m[\u001b[0m\u001b[0;34m]\u001b[0m\u001b[0;34m)\u001b[0m\u001b[0;34m\u001b[0m\u001b[0m\n\u001b[0m\u001b[1;32m     28\u001b[0m     \u001b[0mtrain_auc_l\u001b[0m\u001b[0;34m.\u001b[0m\u001b[0mappend\u001b[0m\u001b[0;34m(\u001b[0m\u001b[0mmean_train_auc\u001b[0m\u001b[0;34m)\u001b[0m\u001b[0;34m\u001b[0m\u001b[0m\n\u001b[1;32m     29\u001b[0m     \u001b[0mval_auc_l\u001b[0m\u001b[0;34m.\u001b[0m\u001b[0mappend\u001b[0m\u001b[0;34m(\u001b[0m\u001b[0mmean_val_auc\u001b[0m\u001b[0;34m)\u001b[0m\u001b[0;34m\u001b[0m\u001b[0m\n",
      "\u001b[0;32m<ipython-input-29-b93eb7654fd1>\u001b[0m in \u001b[0;36mtrain_model\u001b[0;34m(model, opt, train_idx, val_idx, mri_files, label, from_nii, segment_length, batch_size, num_epochs, epsilon, n_after_max, max_grad_norm, vis_img_idx, vis_layers, save, load, checkpoint_file, lr_decay, save_freq)\u001b[0m\n\u001b[1;32m     55\u001b[0m             \u001b[0mopt\u001b[0m\u001b[0;34m.\u001b[0m\u001b[0mstep\u001b[0m\u001b[0;34m(\u001b[0m\u001b[0;34m)\u001b[0m\u001b[0;34m\u001b[0m\u001b[0m\n\u001b[1;32m     56\u001b[0m             \u001b[0mopt\u001b[0m\u001b[0;34m.\u001b[0m\u001b[0mzero_grad\u001b[0m\u001b[0;34m(\u001b[0m\u001b[0;34m)\u001b[0m\u001b[0;34m\u001b[0m\u001b[0m\n\u001b[0;32m---> 57\u001b[0;31m             \u001b[0mtrain_loss\u001b[0m\u001b[0;34m.\u001b[0m\u001b[0mappend\u001b[0m\u001b[0;34m(\u001b[0m\u001b[0mloss\u001b[0m\u001b[0;34m.\u001b[0m\u001b[0mcpu\u001b[0m\u001b[0;34m(\u001b[0m\u001b[0;34m)\u001b[0m\u001b[0;34m.\u001b[0m\u001b[0mdata\u001b[0m\u001b[0;34m.\u001b[0m\u001b[0mnumpy\u001b[0m\u001b[0;34m(\u001b[0m\u001b[0;34m)\u001b[0m\u001b[0;34m)\u001b[0m\u001b[0;34m\u001b[0m\u001b[0m\n\u001b[0m\u001b[1;32m     58\u001b[0m             \u001b[0mtrain_probs\u001b[0m\u001b[0;34m.\u001b[0m\u001b[0mextend\u001b[0m\u001b[0;34m(\u001b[0m\u001b[0mcompute_probs\u001b[0m\u001b[0;34m(\u001b[0m\u001b[0mlogits\u001b[0m\u001b[0;34m)\u001b[0m\u001b[0;34m)\u001b[0m\u001b[0;34m\u001b[0m\u001b[0m\n\u001b[1;32m     59\u001b[0m             \u001b[0mtrain_targets\u001b[0m\u001b[0;34m.\u001b[0m\u001b[0mextend\u001b[0m\u001b[0;34m(\u001b[0m\u001b[0mlist\u001b[0m\u001b[0;34m(\u001b[0m\u001b[0mtargets\u001b[0m\u001b[0;34m.\u001b[0m\u001b[0mcpu\u001b[0m\u001b[0;34m(\u001b[0m\u001b[0;34m)\u001b[0m\u001b[0;34m.\u001b[0m\u001b[0mdata\u001b[0m\u001b[0;34m.\u001b[0m\u001b[0mnumpy\u001b[0m\u001b[0;34m(\u001b[0m\u001b[0;34m)\u001b[0m\u001b[0;34m)\u001b[0m\u001b[0;34m)\u001b[0m\u001b[0;34m\u001b[0m\u001b[0m\n",
      "\u001b[0;31mKeyboardInterrupt\u001b[0m: "
     ]
    }
   ],
   "source": [
    "# D = 0.5\n",
    "problem = \"E/no E\"\n",
    "problem_label = \"E\"\n",
    "label = pd.Series(labels[problem] == label_to_idx[problem_label], dtype=np.int64)\n",
    "cv = RepeatedStratifiedKFold(n_splits=5, n_repeats=3, random_state=42)\n",
    "cv_splits = list(cv.split(X=label.index, y=label))\n",
    "\n",
    "train_auc_l = []\n",
    "val_auc_l = []\n",
    "val_last_probs_l = []\n",
    "test_auc = []\n",
    "\n",
    "dropout = 0.5\n",
    "learning_rate = 3e-5\n",
    "weight_decay = 0\n",
    "batch_size = 3\n",
    "num_epochs = 150\n",
    "\n",
    "problem_name = \"voxcnn_mprage_8x2-16x2-32x3-64x3-BN-128-BN-D({})-64\".format(dropout)\n",
    "\n",
    "for i in range(len(test_auc), len(cv_splits[:10])):\n",
    "    tr_idx, te_idx = cv_splits[i]\n",
    "    train_idx = label.index[tr_idx]\n",
    "    test_idx = label.index[te_idx]\n",
    "    model, opt = build_model(learning_rate, dropout, weight_decay)\n",
    "    k = 0\n",
    "    mean_train_auc, mean_val_auc, last_val_probs = train_model(model, opt, train_idx, test_idx, mri_l, label, batch_size=batch_size, num_epochs=num_epochs, epsilon=1e-1, vis_img_idx=train_idx[k], vis_layers=[])\n",
    "    train_auc_l.append(mean_train_auc)\n",
    "    val_auc_l.append(mean_val_auc)\n",
    "    val_last_probs_l.append(last_val_probs)\n",
    "    test_auc.append(mean_val_auc[-1])\n",
    "\n",
    "    save_res(train_auc_l, problem_name + \"_train_auc_\" + problem.replace(\"/\", \"_\"))\n",
    "    save_res(val_auc_l, problem_name + \"_val_auc_\" + problem.replace(\"/\", \"_\"))\n",
    "    save_res(val_last_probs_l, problem_name + \"_val_last_probs_\" + problem.replace(\"/\", \"_\"))\n",
    "    \n",
    "print(\"test auc mean:\", np.mean(test_auc))\n",
    "print(\"test auc std:\", np.std(test_auc))"
   ]
  },
  {
   "cell_type": "code",
   "execution_count": null,
   "metadata": {
    "collapsed": true
   },
   "outputs": [],
   "source": []
  },
  {
   "cell_type": "code",
   "execution_count": 35,
   "metadata": {
    "colab": {
     "autoexec": {
      "startup": false,
      "wait_interval": 0
     },
     "base_uri": "https://localhost:8080/",
     "height": 775
    },
    "colab_type": "code",
    "executionInfo": {
     "elapsed": 190429,
     "status": "error",
     "timestamp": 1526932125019,
     "user": {
      "displayName": "Марина Поминова",
      "photoUrl": "https://lh3.googleusercontent.com/a/default-user=s128",
      "userId": "103473952643546852844"
     },
     "user_tz": -180
    },
    "id": "QDCkYv-MH_k7",
    "outputId": "68aedf34-1028-417b-f193-af69c88d7b26",
    "scrolled": true
   },
   "outputs": [
    {
     "data": {
      "image/png": "[encoded data removed]",
      "text/plain": [
       "<matplotlib.figure.Figure at 0x7f3d841c7150>"
      ]
     },
     "metadata": {},
     "output_type": "display_data"
    },
    {
     "name": "stderr",
     "output_type": "stream",
     "text": [
      "\r",
      "0it [00:00, ?it/s]"
     ]
    },
    {
     "name": "stdout",
     "output_type": "stream",
     "text": [
      "Epoch 127 of 400 took 43.524s\n",
      "  training loss (in-iteration): \t0.157879\n",
      "  training AUC: \t\t\t99.76 %\n",
      "  validation AUC: \t\t\t65.56 %\n"
     ]
    },
    {
     "name": "stderr",
     "output_type": "stream",
     "text": [
      "5it [00:08,  1.74s/it]\n"
     ]
    },
    {
     "ename": "KeyboardInterrupt",
     "evalue": "",
     "output_type": "error",
     "traceback": [
      "\u001b[0;31m---------------------------------------------------------------------------\u001b[0m",
      "\u001b[0;31mKeyboardInterrupt\u001b[0m                         Traceback (most recent call last)",
      "\u001b[0;32m<ipython-input-35-1d6c9d9109f4>\u001b[0m in \u001b[0;36m<module>\u001b[0;34m()\u001b[0m\n\u001b[1;32m     23\u001b[0m     \u001b[0mmodel\u001b[0m\u001b[0;34m,\u001b[0m \u001b[0mopt\u001b[0m \u001b[0;34m=\u001b[0m \u001b[0mbuild_model\u001b[0m\u001b[0;34m(\u001b[0m\u001b[0mlearning_rate\u001b[0m\u001b[0;34m,\u001b[0m \u001b[0mdropout\u001b[0m\u001b[0;34m,\u001b[0m \u001b[0mweight_decay\u001b[0m\u001b[0;34m)\u001b[0m\u001b[0;34m\u001b[0m\u001b[0m\n\u001b[1;32m     24\u001b[0m     \u001b[0mk\u001b[0m \u001b[0;34m=\u001b[0m \u001b[0;36m0\u001b[0m\u001b[0;34m\u001b[0m\u001b[0m\n\u001b[0;32m---> 25\u001b[0;31m     \u001b[0mmean_train_auc\u001b[0m\u001b[0;34m,\u001b[0m \u001b[0mmean_val_auc\u001b[0m\u001b[0;34m,\u001b[0m \u001b[0mlast_val_probs\u001b[0m \u001b[0;34m=\u001b[0m \u001b[0mtrain_model\u001b[0m\u001b[0;34m(\u001b[0m\u001b[0mmodel\u001b[0m\u001b[0;34m,\u001b[0m \u001b[0mopt\u001b[0m\u001b[0;34m,\u001b[0m \u001b[0mtrain_idx\u001b[0m\u001b[0;34m,\u001b[0m \u001b[0mtest_idx\u001b[0m\u001b[0;34m,\u001b[0m \u001b[0mmri_l\u001b[0m\u001b[0;34m,\u001b[0m \u001b[0mlabel\u001b[0m\u001b[0;34m,\u001b[0m \u001b[0mbatch_size\u001b[0m\u001b[0;34m=\u001b[0m\u001b[0mbatch_size\u001b[0m\u001b[0;34m,\u001b[0m \u001b[0mnum_epochs\u001b[0m\u001b[0;34m=\u001b[0m\u001b[0;36m400\u001b[0m\u001b[0;34m,\u001b[0m \u001b[0mepsilon\u001b[0m\u001b[0;34m=\u001b[0m\u001b[0;36m1e-1\u001b[0m\u001b[0;34m,\u001b[0m \u001b[0mvis_img_idx\u001b[0m\u001b[0;34m=\u001b[0m\u001b[0mtrain_idx\u001b[0m\u001b[0;34m[\u001b[0m\u001b[0mk\u001b[0m\u001b[0;34m]\u001b[0m\u001b[0;34m,\u001b[0m \u001b[0mvis_layers\u001b[0m\u001b[0;34m=\u001b[0m\u001b[0;34m[\u001b[0m\u001b[0;34m]\u001b[0m\u001b[0;34m)\u001b[0m\u001b[0;34m\u001b[0m\u001b[0m\n\u001b[0m\u001b[1;32m     26\u001b[0m     \u001b[0mtrain_auc_l\u001b[0m\u001b[0;34m.\u001b[0m\u001b[0mappend\u001b[0m\u001b[0;34m(\u001b[0m\u001b[0mmean_train_auc\u001b[0m\u001b[0;34m)\u001b[0m\u001b[0;34m\u001b[0m\u001b[0m\n\u001b[1;32m     27\u001b[0m     \u001b[0mval_auc_l\u001b[0m\u001b[0;34m.\u001b[0m\u001b[0mappend\u001b[0m\u001b[0;34m(\u001b[0m\u001b[0mmean_val_auc\u001b[0m\u001b[0;34m)\u001b[0m\u001b[0;34m\u001b[0m\u001b[0m\n",
      "\u001b[0;32m<ipython-input-29-b93eb7654fd1>\u001b[0m in \u001b[0;36mtrain_model\u001b[0;34m(model, opt, train_idx, val_idx, mri_files, label, from_nii, segment_length, batch_size, num_epochs, epsilon, n_after_max, max_grad_norm, vis_img_idx, vis_layers, save, load, checkpoint_file, lr_decay, save_freq)\u001b[0m\n\u001b[1;32m     42\u001b[0m \u001b[0;31m#             inputs = inputs.contiguous().view(inputs.size()[0], sequence_length, -1)\u001b[0m\u001b[0;34m\u001b[0m\u001b[0;34m\u001b[0m\u001b[0m\n\u001b[1;32m     43\u001b[0m             \u001b[0mlogits\u001b[0m \u001b[0;34m=\u001b[0m \u001b[0mmodel\u001b[0m\u001b[0;34m(\u001b[0m\u001b[0minputs\u001b[0m\u001b[0;34m)\u001b[0m\u001b[0;34m\u001b[0m\u001b[0m\n\u001b[0;32m---> 44\u001b[0;31m             \u001b[0mloss\u001b[0m \u001b[0;34m=\u001b[0m \u001b[0mcompute_loss\u001b[0m\u001b[0;34m(\u001b[0m\u001b[0mlogits\u001b[0m\u001b[0;34m,\u001b[0m \u001b[0mtargets\u001b[0m\u001b[0;34m)\u001b[0m\u001b[0;34m\u001b[0m\u001b[0m\n\u001b[0m\u001b[1;32m     45\u001b[0m             \u001b[0mloss\u001b[0m\u001b[0;34m.\u001b[0m\u001b[0mbackward\u001b[0m\u001b[0;34m(\u001b[0m\u001b[0;34m)\u001b[0m\u001b[0;34m\u001b[0m\u001b[0m\n\u001b[1;32m     46\u001b[0m \u001b[0;34m\u001b[0m\u001b[0m\n",
      "\u001b[0;32m<ipython-input-22-0ac0a4b31672>\u001b[0m in \u001b[0;36mcompute_loss\u001b[0;34m(logits, targets)\u001b[0m\n\u001b[1;32m      1\u001b[0m \u001b[0;32mdef\u001b[0m \u001b[0mcompute_loss\u001b[0m\u001b[0;34m(\u001b[0m\u001b[0mlogits\u001b[0m\u001b[0;34m,\u001b[0m \u001b[0mtargets\u001b[0m\u001b[0;34m)\u001b[0m\u001b[0;34m:\u001b[0m\u001b[0;34m\u001b[0m\u001b[0m\n\u001b[1;32m      2\u001b[0m     \u001b[0mloss\u001b[0m \u001b[0;34m=\u001b[0m \u001b[0mF\u001b[0m\u001b[0;34m.\u001b[0m\u001b[0mcross_entropy\u001b[0m\u001b[0;34m(\u001b[0m\u001b[0mlogits\u001b[0m\u001b[0;34m,\u001b[0m \u001b[0mtargets\u001b[0m\u001b[0;34m,\u001b[0m \u001b[0mreduce\u001b[0m\u001b[0;34m=\u001b[0m\u001b[0mFalse\u001b[0m\u001b[0;34m)\u001b[0m\u001b[0;34m\u001b[0m\u001b[0m\n\u001b[0;32m----> 3\u001b[0;31m     \u001b[0;32mreturn\u001b[0m \u001b[0mloss\u001b[0m\u001b[0;34m.\u001b[0m\u001b[0mmean\u001b[0m\u001b[0;34m(\u001b[0m\u001b[0;34m)\u001b[0m\u001b[0;34m\u001b[0m\u001b[0m\n\u001b[0m",
      "\u001b[0;31mKeyboardInterrupt\u001b[0m: "
     ]
    }
   ],
   "source": [
    "# D = 0.3\n",
    "problem = \"E/no E\"\n",
    "problem_label = \"E\"\n",
    "label = pd.Series(labels[problem] == label_to_idx[problem_label], dtype=np.int64)\n",
    "cv = RepeatedStratifiedKFold(n_splits=5, n_repeats=3, random_state=42)\n",
    "cv_splits = list(cv.split(X=label.index, y=label))\n",
    "\n",
    "train_auc_l = []\n",
    "val_auc_l = []\n",
    "val_last_probs_l = []\n",
    "test_auc = []\n",
    "\n",
    "dropout = 0.3\n",
    "learning_rate = 3e-5\n",
    "weight_decay = 0\n",
    "batch_size = 3\n",
    "\n",
    "problem_name = \"voxcnn_mprage_8x2-16x2-32x3-64x3-BN-128-BN-D({})-64\".format(dropout)\n",
    "\n",
    "for tr_idx, te_idx in cv_splits:\n",
    "    train_idx = label.index[tr_idx]\n",
    "    test_idx = label.index[te_idx]\n",
    "    model, opt = build_model(learning_rate, dropout, weight_decay)\n",
    "    k = 0\n",
    "    mean_train_auc, mean_val_auc, last_val_probs = train_model(model, opt, train_idx, test_idx, mri_l, label, batch_size=batch_size, num_epochs=400, epsilon=1e-1, vis_img_idx=train_idx[k], vis_layers=[])\n",
    "    train_auc_l.append(mean_train_auc)\n",
    "    val_auc_l.append(mean_val_auc)\n",
    "    val_last_probs_l.append(last_val_probs)\n",
    "    test_auc.append(val_auc_l[-1])\n",
    "\n",
    "    save_res(train_auc_l, problem_name + \"_train_auc_\" + problem.replace(\"/\", \"_\"))\n",
    "    save_res(val_auc_l, problem_name + \"_val_auc_\" + problem.replace(\"/\", \"_\"))\n",
    "    save_res(val_last_probs_l, problem_name + \"_val_last_probs_\" + problem.replace(\"/\", \"_\"))\n",
    "    \n",
    "print(\"test auc mean:\", np.mean(test_auc))\n",
    "print(\"test auc std:\", np.std(test_auc))"
   ]
  },
  {
   "cell_type": "code",
   "execution_count": null,
   "metadata": {
    "collapsed": true
   },
   "outputs": [],
   "source": []
  }
 ],
 "metadata": {
  "accelerator": "GPU",
  "colab": {
   "collapsed_sections": [],
   "default_view": {},
   "name": "voxcnn mprage E_no E.ipynb",
   "provenance": [],
   "version": "0.3.2",
   "views": {}
  },
  "kernelspec": {
   "display_name": "Python 3",
   "language": "python",
   "name": "python3"
  },
  "language_info": {
   "codemirror_mode": {
    "name": "ipython",
    "version": 3
   },
   "file_extension": ".py",
   "mimetype": "text/x-python",
   "name": "python",
   "nbconvert_exporter": "python",
   "pygments_lexer": "ipython3",
   "version": "3.5.4"
  }
 },
 "nbformat": 4,
 "nbformat_minor": 1
}
