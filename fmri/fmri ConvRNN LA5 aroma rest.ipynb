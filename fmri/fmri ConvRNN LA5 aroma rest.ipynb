{
 "cells": [
  {
   "cell_type": "code",
   "execution_count": 1,
   "metadata": {
    "colab": {
     "autoexec": {
      "startup": false,
      "wait_interval": 0
     },
     "base_uri": "https://localhost:8080/",
     "height": 69
    },
    "colab_type": "code",
    "executionInfo": {
     "elapsed": 2296,
     "status": "ok",
     "timestamp": 1526927859394,
     "user": {
      "displayName": "Марина Поминова",
      "photoUrl": "https://lh3.googleusercontent.com/a/default-user=s128",
      "userId": "103473952643546852844"
     },
     "user_tz": -180
    },
    "id": "ROuvPSAl4E5T",
    "outputId": "4827895b-1112-40b6-9122-406cd0914cc3"
   },
   "outputs": [
    {
     "name": "stdout",
     "output_type": "stream",
     "text": [
      "              total        used        free      shared  buff/cache   available\n",
      "Mem:           125G         30G         67G        1.0G         28G         93G\n",
      "Swap:           14G         14G         23M\n"
     ]
    }
   ],
   "source": [
    "!free -h"
   ]
  },
  {
   "cell_type": "code",
   "execution_count": 2,
   "metadata": {
    "colab": {
     "autoexec": {
      "startup": false,
      "wait_interval": 0
     },
     "base_uri": "https://localhost:8080/",
     "height": 107
    },
    "colab_type": "code",
    "executionInfo": {
     "elapsed": 1095,
     "status": "ok",
     "timestamp": 1526931707664,
     "user": {
      "displayName": "Марина Поминова",
      "photoUrl": "https://lh3.googleusercontent.com/a/default-user=s128",
      "userId": "103473952643546852844"
     },
     "user_tz": -180
    },
    "id": "aNcDHckr4E7e",
    "outputId": "f05ebc51-f483-4a18-9f10-c9915857a3d0"
   },
   "outputs": [
    {
     "name": "stdout",
     "output_type": "stream",
     "text": [
      "Populating the interactive namespace from numpy and matplotlib\n"
     ]
    },
    {
     "name": "stderr",
     "output_type": "stream",
     "text": [
      "/usr/local/lib/python3.5/dist-packages/IPython/core/magics/pylab.py:160: UserWarning: pylab import has clobbered these variables: ['copy']\n",
      "`%matplotlib` prevents importing * from pylab and numpy\n",
      "  \"\\n`%matplotlib` prevents importing * from pylab and numpy\"\n"
     ]
    }
   ],
   "source": [
    "import os\n",
    "import copy\n",
    "import numpy as np\n",
    "import pandas as pd\n",
    "import pydicom\n",
    "import nibabel as nib\n",
    "\n",
    "from scipy import ndimage as nd\n",
    "from tqdm import tqdm\n",
    "\n",
    "import torch\n",
    "import torch.nn as nn\n",
    "import torch.nn.functional as F\n",
    "from torch.autograd import Variable\n",
    "import torchvision.transforms as transforms\n",
    "import torch.utils.data as data\n",
    "\n",
    "from sklearn.model_selection import train_test_split, StratifiedKFold, RepeatedStratifiedKFold\n",
    "from sklearn.metrics import roc_auc_score, r2_score\n",
    "from IPython.display import clear_output\n",
    "\n",
    "%pylab inline"
   ]
  },
  {
   "cell_type": "code",
   "execution_count": 3,
   "metadata": {},
   "outputs": [
    {
     "name": "stdout",
     "output_type": "stream",
     "text": [
      "Thu Feb  7 09:14:52 2019       \n",
      "+-----------------------------------------------------------------------------+\n",
      "| NVIDIA-SMI 396.44                 Driver Version: 396.44                    |\n",
      "|-------------------------------+----------------------+----------------------+\n",
      "| GPU  Name        Persistence-M| Bus-Id        Disp.A | Volatile Uncorr. ECC |\n",
      "| Fan  Temp  Perf  Pwr:Usage/Cap|         Memory-Usage | GPU-Util  Compute M. |\n",
      "|===============================+======================+======================|\n",
      "|   0  Tesla P100-PCIE...  On   | 00000000:05:00.0 Off |                    0 |\n",
      "| N/A   31C    P0    33W / 250W |  15934MiB / 16280MiB |      0%      Default |\n",
      "+-------------------------------+----------------------+----------------------+\n",
      "|   1  Tesla P100-PCIE...  On   | 00000000:08:00.0 Off |                    0 |\n",
      "| N/A   25C    P0    30W / 250W |     10MiB / 16280MiB |      0%      Default |\n",
      "+-------------------------------+----------------------+----------------------+\n",
      "|   2  Tesla P100-PCIE...  On   | 00000000:0D:00.0 Off |                    0 |\n",
      "| N/A   32C    P0    33W / 250W |  12469MiB / 16280MiB |      0%      Default |\n",
      "+-------------------------------+----------------------+----------------------+\n",
      "|   3  Tesla P100-PCIE...  On   | 00000000:13:00.0 Off |                    0 |\n",
      "| N/A   25C    P0    36W / 250W |  12469MiB / 16280MiB |      0%      Default |\n",
      "+-------------------------------+----------------------+----------------------+\n",
      "|   4  Tesla P100-PCIE...  On   | 00000000:83:00.0 Off |                    0 |\n",
      "| N/A   29C    P0    30W / 250W |     10MiB / 16280MiB |      0%      Default |\n",
      "+-------------------------------+----------------------+----------------------+\n",
      "|   5  Tesla P100-PCIE...  On   | 00000000:89:00.0 Off |                    0 |\n",
      "| N/A   40C    P0    33W / 250W |   1971MiB / 16280MiB |      0%      Default |\n",
      "+-------------------------------+----------------------+----------------------+\n",
      "|   6  Tesla P100-PCIE...  On   | 00000000:8E:00.0 Off |                    0 |\n",
      "| N/A   23C    P0    31W / 250W |   4051MiB / 16280MiB |      0%      Default |\n",
      "+-------------------------------+----------------------+----------------------+\n",
      "|   7  Tesla P100-PCIE...  On   | 00000000:91:00.0 Off |                    0 |\n",
      "| N/A   25C    P0    31W / 250W |  12889MiB / 16280MiB |      0%      Default |\n",
      "+-------------------------------+----------------------+----------------------+\n",
      "                                                                               \n",
      "+-----------------------------------------------------------------------------+\n",
      "| Processes:                                                       GPU Memory |\n",
      "|  GPU       PID   Type   Process name                             Usage      |\n",
      "|=============================================================================|\n",
      "+-----------------------------------------------------------------------------+\n"
     ]
    }
   ],
   "source": [
    "!nvidia-smi"
   ]
  },
  {
   "cell_type": "code",
   "execution_count": 4,
   "metadata": {
    "colab": {
     "autoexec": {
      "startup": false,
      "wait_interval": 0
     },
     "base_uri": "https://localhost:8080/",
     "height": 52
    },
    "colab_type": "code",
    "executionInfo": {
     "elapsed": 764,
     "status": "ok",
     "timestamp": 1526931718217,
     "user": {
      "displayName": "Марина Поминова",
      "photoUrl": "https://lh3.googleusercontent.com/a/default-user=s128",
      "userId": "103473952643546852844"
     },
     "user_tz": -180
    },
    "id": "h4nm_z074E9O",
    "outputId": "56aa58bf-c3fe-4a0c-9699-58d082f103da"
   },
   "outputs": [
    {
     "name": "stdout",
     "output_type": "stream",
     "text": [
      "Torch version: 0.4.1\n",
      "Using GPU\n"
     ]
    }
   ],
   "source": [
    "use_cuda = torch.cuda.is_available()\n",
    "\n",
    "print(\"Torch version:\", torch.__version__)\n",
    "if use_cuda:\n",
    "    print(\"Using GPU\")\n",
    "else:\n",
    "    print(\"Not using GPU\")\n",
    "\n",
    "cuda_n = 4"
   ]
  },
  {
   "cell_type": "code",
   "execution_count": 6,
   "metadata": {},
   "outputs": [],
   "source": [
    "# 1.configs & utils\n",
    "from utils import *\n",
    "torch.backends.cudnn.enabled = False"
   ]
  },
  {
   "cell_type": "code",
   "execution_count": 5,
   "metadata": {},
   "outputs": [],
   "source": [
    "# 2.models\n",
    "from models import Flatten"
   ]
  },
  {
   "cell_type": "code",
   "execution_count": 8,
   "metadata": {},
   "outputs": [],
   "source": [
    "class CNN(nn.Module):\n",
    "    def __init__(self, input_shape=(48, 64, 32), n_filters=16, n_blocks=3, stride=1, n_fc_units=128):\n",
    "        super(self.__class__, self).__init__()\n",
    "        self.model = nn.Sequential()\n",
    "\n",
    "        self.model.add_module(\"conv3d_1\", nn.Conv3d(1, n_filters, kernel_size=3, stride=stride, padding=1)) # n * x * y\n",
    "        self.model.add_module(\"batch_norm_1\", nn.BatchNorm3d(n_filters))\n",
    "        self.model.add_module(\"activation_1\", nn.ReLU(inplace=True))\n",
    "        self.model.add_module(\"conv3d_2\", nn.Conv3d(n_filters, n_filters, kernel_size=3, padding=1)) # n * x * y\n",
    "        self.model.add_module(\"batch_norm_2\", nn.BatchNorm3d(n_filters))\n",
    "        self.model.add_module(\"activation_2\", nn.ReLU(inplace=True))\n",
    "        self.model.add_module(\"max_pool3d_1\", nn.MaxPool3d(kernel_size=2)) # n * (x/2) * (y/2)\n",
    "\n",
    "        if n_blocks >= 2:\n",
    "            self.model.add_module(\"conv3d_3\", nn.Conv3d(n_filters, 2 * n_filters, kernel_size=3, padding=1)) # 2n * (x/2) * (y/2)\n",
    "            self.model.add_module(\"batch_norm_3\", nn.BatchNorm3d(2 * n_filters))\n",
    "            self.model.add_module(\"activation_3\", nn.ReLU(inplace=True))\n",
    "            self.model.add_module(\"conv3d_4\", nn.Conv3d(2 * n_filters, 2 * n_filters, kernel_size=3, padding=1)) # 2n * (x/2) * (y/2)\n",
    "            self.model.add_module(\"batch_norm_4\", nn.BatchNorm3d(2 * n_filters))\n",
    "            self.model.add_module(\"activation_4\", nn.ReLU(inplace=True))\n",
    "            self.model.add_module(\"max_pool3d_2\", nn.MaxPool3d(kernel_size=2)) # 2n * (x/4) * (y/4)\n",
    "    \n",
    "        if n_blocks >= 3:\n",
    "            self.model.add_module(\"conv3d_5\", nn.Conv3d(2 * n_filters, 4 * n_filters, kernel_size=3, padding=1)) # 4n * (x/4) * (y/4)\n",
    "            self.model.add_module(\"batch_norm_5\", nn.BatchNorm3d(4 * n_filters))\n",
    "            self.model.add_module(\"activation_5\", nn.ReLU(inplace=True))\n",
    "            self.model.add_module(\"conv3d_6\", nn.Conv3d(4 * n_filters, 4 * n_filters, kernel_size=3, padding=1)) # 4n * (x/4) * (y/4)\n",
    "            self.model.add_module(\"batch_norm_6\", nn.BatchNorm3d(4 * n_filters))\n",
    "            self.model.add_module(\"activation_6\", nn.ReLU(inplace=True))\n",
    "            self.model.add_module(\"max_pool3d_3\", nn.MaxPool3d(kernel_size=2)) # 4n * (x/8) * (y/8)\n",
    "\n",
    "        if n_blocks >= 4:\n",
    "            self.model.add_module(\"conv3d_7\", nn.Conv3d(4 * n_filters, 8 * n_filters, kernel_size=3, padding=1)) # 8n * (x/8) * (y/8)\n",
    "            self.model.add_module(\"batch_norm_7\", nn.BatchNorm3d(8 * n_filters))\n",
    "            self.model.add_module(\"activation_7\", nn.ReLU(inplace=True))\n",
    "            self.model.add_module(\"conv3d_8\", nn.Conv3d(8 * n_filters, 8 * n_filters, kernel_size=3, padding=1)) # 8n * (x/8) * (y/8)\n",
    "            self.model.add_module(\"batch_norm_8\", nn.BatchNorm3d(8 * n_filters))\n",
    "            self.model.add_module(\"activation_8\", nn.ReLU(inplace=True))\n",
    "            self.model.add_module(\"max_pool3d_4\", nn.MaxPool3d(kernel_size=2)) # 8n * (x/16) * (y/16)\n",
    "            \n",
    "        self.model.add_module(\"flatten_1\", Flatten())\n",
    "        \n",
    "        if n_blocks == 1:\n",
    "            self.model.add_module(\"fully_conn_1\", nn.Linear(n_filters * (input_shape[0] // (2 * stride)) * (input_shape[1] // (2 * stride)) * (input_shape[2] // (2 * stride)), n_fc_units))\n",
    "        if n_blocks == 2:\n",
    "            self.model.add_module(\"fully_conn_1\", nn.Linear(2 * n_filters * (input_shape[0] // (4 * stride)) * (input_shape[1] // (4 * stride)) * (input_shape[2] // (4 * stride)), n_fc_units))\n",
    "        if n_blocks == 3:\n",
    "            self.model.add_module(\"fully_conn_1\", nn.Linear(4 * n_filters * (input_shape[0] // (8 * stride)) * (input_shape[1] // (8 * stride)) * (input_shape[2] // (8 * stride)), n_fc_units))\n",
    "        if n_blocks == 4:\n",
    "            self.model.add_module(\"fully_conn_1\", nn.Linear(8 * n_filters * (input_shape[0] // (16 * stride)) * (input_shape[1] // (16 * stride)) * (input_shape[2] // (16 * stride)), n_fc_units))\n",
    "            \n",
    "        self.model.add_module(\"batch_norm_9\", nn.BatchNorm1d(n_fc_units))\n",
    "        self.model.add_module(\"activation_9\", nn.ReLU(inplace=True))\n",
    "\n",
    "            \n",
    "    def forward(self, x):\n",
    "        return self.model(x)"
   ]
  },
  {
   "cell_type": "code",
   "execution_count": 9,
   "metadata": {},
   "outputs": [],
   "source": [
    "class ConvRNN(nn.Module):\n",
    "    def __init__(self, input_shape=(48, 64, 32), n_outputs=1, \n",
    "                 hidden_size=128, n_layers=2, n_fc_units_rnn=128, dropout=0, stride=1,\n",
    "                 n_filters=16, n_blocks=3, n_fc_units_cnn=128):\n",
    "        super(self.__class__, self).__init__()\n",
    "        self.model = CNN(input_shape, n_filters, n_blocks, stride, n_fc_units_cnn)\n",
    "        self.hidden_size = hidden_size\n",
    "        self.n_layers = n_layers\n",
    "        self.lstm = nn.LSTM(n_fc_units_cnn, hidden_size, n_layers, batch_first=True, dropout=dropout)\n",
    "        self.fc1 = nn.Linear(hidden_size, n_fc_units_rnn)\n",
    "        self.relu = nn.ReLU(inplace=True)\n",
    "        self.fc2 = nn.Linear(n_fc_units_rnn, n_outputs)\n",
    "            \n",
    "    def forward(self, x):\n",
    "        n_objects, seq_length = x.size()[0:2]\n",
    "        x = x.contiguous().view([n_objects * seq_length] + list(x.size()[2:]))\n",
    "        x = self.model(x)\n",
    "        x = x.contiguous().view([n_objects, seq_length, -1])\n",
    "        \n",
    "        # Forward propagate RNN\n",
    "        out, _ = self.lstm(x)\n",
    "        \n",
    "        # Decode hidden state of last time step\n",
    "        out = self.fc1(out[:, -1, :])  \n",
    "        out = self.relu(out)\n",
    "        out = self.fc2(out)\n",
    "        return out"
   ]
  },
  {
   "cell_type": "code",
   "execution_count": 10,
   "metadata": {},
   "outputs": [],
   "source": [
    "# 3.loss\n",
    "from loss import compute_loss, compute_preds, compute_probs"
   ]
  },
  {
   "cell_type": "code",
   "execution_count": 11,
   "metadata": {},
   "outputs": [],
   "source": [
    "# 4.dataloader\n",
    "from data_loader import LA5studyMRI"
   ]
  },
  {
   "cell_type": "code",
   "execution_count": 14,
   "metadata": {},
   "outputs": [],
   "source": [
    "# load data\n",
    "paths = ['../../fmriprep_LA5study_aroma/fmriprep/']\n",
    "target_path = \"../../pominova/LA5study_targets.csv\"\n",
    "load_online = True\n",
    "mri_type=\"fMRI\"\n",
    "mri_file_suffix = 'task-rest_bold_space-MNI152NLin2009cAsym_preproc.nii' \n",
    "coord_min = (9, 8, 8,)\n",
    "img_shape = (48, 64, 32)\n",
    "seq_len = 16 # train on randomly selectred subsequences of length 16\n",
    "\n",
    "dataset = LA5studyMRI(paths, target_path, load_online, mri_type, mri_file_suffix, coord_min, img_shape, seq_len=seq_len)"
   ]
  },
  {
   "cell_type": "code",
   "execution_count": 16,
   "metadata": {},
   "outputs": [
    {
     "name": "stdout",
     "output_type": "stream",
     "text": [
      "(261, 22)\n"
     ]
    },
    {
     "data": {
      "text/html": [
       "<div>\n",
       "<style scoped>\n",
       "    .dataframe tbody tr th:only-of-type {\n",
       "        vertical-align: middle;\n",
       "    }\n",
       "\n",
       "    .dataframe tbody tr th {\n",
       "        vertical-align: top;\n",
       "    }\n",
       "\n",
       "    .dataframe thead th {\n",
       "        text-align: right;\n",
       "    }\n",
       "</style>\n",
       "<table border=\"1\" class=\"dataframe\">\n",
       "  <thead>\n",
       "    <tr style=\"text-align: right;\">\n",
       "      <th></th>\n",
       "      <th>participant_id</th>\n",
       "      <th>diagnosis</th>\n",
       "      <th>age</th>\n",
       "      <th>gender</th>\n",
       "      <th>bart</th>\n",
       "      <th>bht</th>\n",
       "      <th>dwi</th>\n",
       "      <th>pamenc</th>\n",
       "      <th>pamret</th>\n",
       "      <th>rest</th>\n",
       "      <th>...</th>\n",
       "      <th>T1w</th>\n",
       "      <th>taskswitch</th>\n",
       "      <th>ScannerSerialNumber</th>\n",
       "      <th>ghost_NoGhost</th>\n",
       "      <th>label</th>\n",
       "      <th>Bipolar/Control</th>\n",
       "      <th>Bipolar/NotBipolar</th>\n",
       "      <th>ADHD/Control</th>\n",
       "      <th>Schz/Control</th>\n",
       "      <th>path</th>\n",
       "    </tr>\n",
       "  </thead>\n",
       "  <tbody>\n",
       "    <tr>\n",
       "      <th>0</th>\n",
       "      <td>sub-10159</td>\n",
       "      <td>CONTROL</td>\n",
       "      <td>30</td>\n",
       "      <td>F</td>\n",
       "      <td>1.0</td>\n",
       "      <td>NaN</td>\n",
       "      <td>1.0</td>\n",
       "      <td>NaN</td>\n",
       "      <td>NaN</td>\n",
       "      <td>1.0</td>\n",
       "      <td>...</td>\n",
       "      <td>1.0</td>\n",
       "      <td>1.0</td>\n",
       "      <td>35343.0</td>\n",
       "      <td>No_ghost</td>\n",
       "      <td>CONTROL</td>\n",
       "      <td>0.0</td>\n",
       "      <td>0</td>\n",
       "      <td>0.0</td>\n",
       "      <td>0.0</td>\n",
       "      <td>../../fmriprep_LA5study_aroma/fmriprep/sub-101...</td>\n",
       "    </tr>\n",
       "    <tr>\n",
       "      <th>1</th>\n",
       "      <td>sub-10171</td>\n",
       "      <td>CONTROL</td>\n",
       "      <td>24</td>\n",
       "      <td>M</td>\n",
       "      <td>1.0</td>\n",
       "      <td>1.0</td>\n",
       "      <td>1.0</td>\n",
       "      <td>NaN</td>\n",
       "      <td>NaN</td>\n",
       "      <td>1.0</td>\n",
       "      <td>...</td>\n",
       "      <td>1.0</td>\n",
       "      <td>1.0</td>\n",
       "      <td>35343.0</td>\n",
       "      <td>No_ghost</td>\n",
       "      <td>CONTROL</td>\n",
       "      <td>0.0</td>\n",
       "      <td>0</td>\n",
       "      <td>0.0</td>\n",
       "      <td>0.0</td>\n",
       "      <td>../../fmriprep_LA5study_aroma/fmriprep/sub-101...</td>\n",
       "    </tr>\n",
       "    <tr>\n",
       "      <th>2</th>\n",
       "      <td>sub-10189</td>\n",
       "      <td>CONTROL</td>\n",
       "      <td>49</td>\n",
       "      <td>M</td>\n",
       "      <td>1.0</td>\n",
       "      <td>NaN</td>\n",
       "      <td>1.0</td>\n",
       "      <td>NaN</td>\n",
       "      <td>NaN</td>\n",
       "      <td>1.0</td>\n",
       "      <td>...</td>\n",
       "      <td>1.0</td>\n",
       "      <td>1.0</td>\n",
       "      <td>35343.0</td>\n",
       "      <td>No_ghost</td>\n",
       "      <td>CONTROL</td>\n",
       "      <td>0.0</td>\n",
       "      <td>0</td>\n",
       "      <td>0.0</td>\n",
       "      <td>0.0</td>\n",
       "      <td>../../fmriprep_LA5study_aroma/fmriprep/sub-101...</td>\n",
       "    </tr>\n",
       "    <tr>\n",
       "      <th>3</th>\n",
       "      <td>sub-10206</td>\n",
       "      <td>CONTROL</td>\n",
       "      <td>21</td>\n",
       "      <td>M</td>\n",
       "      <td>1.0</td>\n",
       "      <td>NaN</td>\n",
       "      <td>1.0</td>\n",
       "      <td>NaN</td>\n",
       "      <td>NaN</td>\n",
       "      <td>1.0</td>\n",
       "      <td>...</td>\n",
       "      <td>1.0</td>\n",
       "      <td>1.0</td>\n",
       "      <td>35343.0</td>\n",
       "      <td>No_ghost</td>\n",
       "      <td>CONTROL</td>\n",
       "      <td>0.0</td>\n",
       "      <td>0</td>\n",
       "      <td>0.0</td>\n",
       "      <td>0.0</td>\n",
       "      <td>../../fmriprep_LA5study_aroma/fmriprep/sub-102...</td>\n",
       "    </tr>\n",
       "    <tr>\n",
       "      <th>4</th>\n",
       "      <td>sub-10217</td>\n",
       "      <td>CONTROL</td>\n",
       "      <td>33</td>\n",
       "      <td>F</td>\n",
       "      <td>1.0</td>\n",
       "      <td>NaN</td>\n",
       "      <td>1.0</td>\n",
       "      <td>NaN</td>\n",
       "      <td>NaN</td>\n",
       "      <td>1.0</td>\n",
       "      <td>...</td>\n",
       "      <td>1.0</td>\n",
       "      <td>1.0</td>\n",
       "      <td>35343.0</td>\n",
       "      <td>No_ghost</td>\n",
       "      <td>CONTROL</td>\n",
       "      <td>0.0</td>\n",
       "      <td>0</td>\n",
       "      <td>0.0</td>\n",
       "      <td>0.0</td>\n",
       "      <td>../../fmriprep_LA5study_aroma/fmriprep/sub-102...</td>\n",
       "    </tr>\n",
       "  </tbody>\n",
       "</table>\n",
       "<p>5 rows × 22 columns</p>\n",
       "</div>"
      ],
      "text/plain": [
       "  participant_id diagnosis  age gender  bart  bht  dwi  pamenc  pamret  rest  \\\n",
       "0      sub-10159   CONTROL   30      F   1.0  NaN  1.0     NaN     NaN   1.0   \n",
       "1      sub-10171   CONTROL   24      M   1.0  1.0  1.0     NaN     NaN   1.0   \n",
       "2      sub-10189   CONTROL   49      M   1.0  NaN  1.0     NaN     NaN   1.0   \n",
       "3      sub-10206   CONTROL   21      M   1.0  NaN  1.0     NaN     NaN   1.0   \n",
       "4      sub-10217   CONTROL   33      F   1.0  NaN  1.0     NaN     NaN   1.0   \n",
       "\n",
       "                         ...                          T1w  taskswitch  \\\n",
       "0                        ...                          1.0         1.0   \n",
       "1                        ...                          1.0         1.0   \n",
       "2                        ...                          1.0         1.0   \n",
       "3                        ...                          1.0         1.0   \n",
       "4                        ...                          1.0         1.0   \n",
       "\n",
       "   ScannerSerialNumber  ghost_NoGhost    label Bipolar/Control  \\\n",
       "0              35343.0       No_ghost  CONTROL             0.0   \n",
       "1              35343.0       No_ghost  CONTROL             0.0   \n",
       "2              35343.0       No_ghost  CONTROL             0.0   \n",
       "3              35343.0       No_ghost  CONTROL             0.0   \n",
       "4              35343.0       No_ghost  CONTROL             0.0   \n",
       "\n",
       "  Bipolar/NotBipolar  ADHD/Control  Schz/Control  \\\n",
       "0                  0           0.0           0.0   \n",
       "1                  0           0.0           0.0   \n",
       "2                  0           0.0           0.0   \n",
       "3                  0           0.0           0.0   \n",
       "4                  0           0.0           0.0   \n",
       "\n",
       "                                                path  \n",
       "0  ../../fmriprep_LA5study_aroma/fmriprep/sub-101...  \n",
       "1  ../../fmriprep_LA5study_aroma/fmriprep/sub-101...  \n",
       "2  ../../fmriprep_LA5study_aroma/fmriprep/sub-101...  \n",
       "3  ../../fmriprep_LA5study_aroma/fmriprep/sub-102...  \n",
       "4  ../../fmriprep_LA5study_aroma/fmriprep/sub-102...  \n",
       "\n",
       "[5 rows x 22 columns]"
      ]
     },
     "execution_count": 16,
     "metadata": {},
     "output_type": "execute_result"
    }
   ],
   "source": [
    "print(dataset.target.shape)\n",
    "dataset.target.head(5)"
   ]
  },
  {
   "cell_type": "code",
   "execution_count": 17,
   "metadata": {},
   "outputs": [
    {
     "name": "stdout",
     "output_type": "stream",
     "text": [
      "(48, 64, 32, 16)\n"
     ]
    },
    {
     "data": {
      "image/png": "[encoded data removed]",
      "text/plain": [
       "<Figure size 1296x432 with 3 Axes>"
      ]
     },
     "metadata": {
      "needs_background": "light"
     },
     "output_type": "display_data"
    }
   ],
   "source": [
    "n = dataset[0][0]\n",
    "print(n.shape)\n",
    "plt.figure(figsize=(18, 6))\n",
    "t = 0\n",
    "plt.subplot(131)\n",
    "plt.imshow(n[n.shape[0] // 2, :, :, t])\n",
    "plt.subplot(132)\n",
    "plt.imshow(n[:, n.shape[1] // 2, :, t])\n",
    "plt.subplot(133)\n",
    "plt.imshow(n[:, :, n.shape[2] // 2, t])\n",
    "plt.show()"
   ]
  },
  {
   "cell_type": "code",
   "execution_count": null,
   "metadata": {},
   "outputs": [],
   "source": [
    "def load_minibatches(indexes, dataset, label, batch_size=3, shuffle=True):\n",
    "    n_objects = indexes.size\n",
    "    \n",
    "    for i in range(len(batches) - 1):\n",
    "        batch_idx = idx[batches[i]:batches[i + 1]]\n",
    "                \n",
    "        X = np.array([dataset[i] for i in batch_idx])\n",
    "        X = torch.FloatTensor(X)\n",
    "        \n",
    "        y = np.int64(label[batch_idx].values)\n",
    "        y = torch.LongTensor(y)\n",
    "        yield (X, y)"
   ]
  },
  {
   "cell_type": "code",
   "execution_count": 22,
   "metadata": {},
   "outputs": [],
   "source": [
    "def train_one_epoch(model, opt, train_idx, val_idx, dataset, label, batch_size, metric):\n",
    "     \n",
    "    # training\n",
    "    train_loss = []\n",
    "    train_preds = []\n",
    "    train_targets = []\n",
    "    model.train(True)\n",
    "    for batch in tqdm(load_minibatches(train_idx, dataset, label, batch_size)):\n",
    "        inputs, targets = batch\n",
    "        inputs = Variable(inputs)\n",
    "        targets = Variable(targets)\n",
    "        if use_cuda:\n",
    "            inputs = inputs.cuda(cuda_n)\n",
    "            targets = targets.cuda(cuda_n)\n",
    "        logits = model(inputs.permute(0, 5, 1, 2, 3, 4))\n",
    "        loss = compute_loss(logits, targets)\n",
    "        loss.backward()\n",
    "        opt.step()\n",
    "        opt.zero_grad()\n",
    "        train_loss.append(loss.cpu().data.numpy())\n",
    "        train_preds.extend(compute_probs(logits))\n",
    "        train_targets.extend(list(targets.cpu().data.numpy()))\n",
    "\n",
    "    # validation\n",
    "    val_loss = []\n",
    "    val_preds = []\n",
    "    val_targets = []\n",
    "    model.train(False)\n",
    "    for batch in tqdm(load_minibatches(val_idx, dataset, label, batch_size)):\n",
    "        inputs, targets = batch\n",
    "        inputs = Variable(inputs)\n",
    "        targets = Variable(targets)\n",
    "        if use_cuda:\n",
    "            inputs = inputs.cuda(cuda_n)\n",
    "            targets = targets.cuda(cuda_n)\n",
    "        logits = model(inputs.permute(0, 5, 1, 2, 3, 4))\n",
    "        loss = compute_loss(logits, targets)\n",
    "        val_loss.append(loss.cpu().data.numpy())\n",
    "        val_preds.extend(compute_probs(logits))\n",
    "        val_targets.extend(list(targets.cpu().data.numpy()))\n",
    "\n",
    "    return train_loss, train_preds, train_targets, val_loss, val_preds, val_targets"
   ]
  },
  {
   "cell_type": "code",
   "execution_count": 23,
   "metadata": {},
   "outputs": [],
   "source": [
    "def train(model, opt, train_idx, val_idx, train_dataset, val_dataset, label,\n",
    "          batch_size=10, num_epochs=500, epsilon=0, metric=roc_auc_score):\n",
    "    \"\"\"\n",
    "    Train a model on the training set and test on validation set\n",
    "    until maximal number of epochs or minimal loss on the training set (less than epsilon) is achieved.\n",
    "    \"\"\"\n",
    "        \n",
    "    mean_train_loss = []\n",
    "    mean_val_loss = []\n",
    "    mean_train_metric = []\n",
    "    mean_val_metric = []\n",
    "    last_val_preds = []\n",
    "\n",
    "    for epoch in range(num_epochs):\n",
    "        start_time = time.time()\n",
    "        \n",
    "        train_loss, train_preds, train_targets, val_loss, val_preds, val_targets = train_one_epoch(\n",
    "            model, opt, train_idx, val_idx, dataset, label, batch_size, metric)\n",
    "\n",
    "        # print the results for this epoch:\n",
    "        mean_train_loss.append(np.mean(train_loss))\n",
    "        mean_val_loss.append(np.mean(val_loss))\n",
    "        mean_train_metric.append(metric(train_targets, train_preds))\n",
    "        mean_val_metric.append(metric(val_targets, val_preds))\n",
    "        last_val_preds = (val_targets, val_preds)\n",
    "        \n",
    "        clear_output(True)\n",
    "        plt.figure(figsize=(10, 5))\n",
    "        plt.subplot(121)\n",
    "        plt.plot(mean_train_loss)\n",
    "        plt.plot(mean_val_loss)\n",
    "        plt.subplot(122)\n",
    "        plt.plot(mean_train_metric)\n",
    "        plt.plot(mean_val_metric)\n",
    "        plt.gca().set_ylim([0, 1])\n",
    "        plt.show()\n",
    "        print(\"Epoch {} of {} took {:.3f}s\".format(\n",
    "            epoch + 1, num_epochs, time.time() - start_time))\n",
    "        print(\"  training loss (in-iteration): \\t{:.6f}\".format(mean_train_loss[-1]))\n",
    "        print(\"  validation loss: \\t\\t\\t{:.6f}\".format(mean_val_loss[-1]))\n",
    "        print(\"  training metric: \\t\\t\\t{:.2f}\".format(mean_train_metric[-1]))\n",
    "        print(\"  validation metric: \\t\\t\\t{:.2f}\".format(mean_val_metric[-1]))\n",
    "        \n",
    "        if mean_train_loss[-1] < epsilon:\n",
    "            break\n",
    "        \n",
    "    return mean_train_loss, mean_val_loss, mean_train_metric, mean_val_metric, last_val_preds"
   ]
  },
  {
   "cell_type": "code",
   "execution_count": 24,
   "metadata": {},
   "outputs": [],
   "source": [
    "def create_model(args):\n",
    "    model = ConvRNN(args[\"input_shape\"], args[\"n_outputs\"], args[\"hidden_size\"], \n",
    "                    args[\"n_layers\"], args[\"n_fc_units_rnn\"], args[\"dropout\"],\n",
    "                    args[\"stride\"], args[\"n_filters\"], args[\"n_blocks\"], args[\"n_fc_units\"])\n",
    "    if use_cuda:\n",
    "        model = model.cuda(cuda_n)\n",
    "        \n",
    "    opt = torch.optim.Adam(model.parameters(), lr=args[\"learning_rate\"])\n",
    "    return model, opt"
   ]
  },
  {
   "cell_type": "code",
   "execution_count": 25,
   "metadata": {},
   "outputs": [],
   "source": [
    "def cross_val_train(dataset, problem, cv, problem_name, args, load=True):\n",
    "    \"\"\"\n",
    "    Perform training and validation on each fold and save the result. \n",
    "    \"\"\"\n",
    "    \n",
    "    idx = train_dataset.target[problem].notnull()\n",
    "    label = train_dataset.target[problem][idx]\n",
    "    display(label.value_counts())\n",
    "    cv_splits = list(cv.split(X=label.index, y=label))\n",
    "    \n",
    "    if load:\n",
    "        train_loss_l, val_loss_l, train_metric_l, val_metric_l, val_last_preds_l = load_results(problem_name, problem)\n",
    "        test_metric = list(map(lambda x: x[-1], val_metric_l))\n",
    "        print(\"test auc mean:\", np.mean(test_metric))\n",
    "        print(\"test auc std:\", np.std(test_metric))\n",
    "        print(list(map(lambda x: np.round(x, 2), test_metric)))\n",
    "    else:\n",
    "        train_loss_l, val_loss_l, train_metric_l, val_metric_l, val_last_preds_l, test_metric = [], [], [], [], [], []\n",
    "\n",
    "    for i in range(len(test_metric), len(cv_splits)):\n",
    "        tr_idx, te_idx = cv_splits[i]\n",
    "        train_idx = label.index[tr_idx]\n",
    "        val_idx = label.index[te_idx]\n",
    "\n",
    "        model, opt = create_model(args)\n",
    "        mean_train_loss, mean_val_loss, mean_train_metric, mean_val_metric, last_val_preds = train(\n",
    "            model, opt, train_idx, val_idx, dataset, label,\n",
    "            args[\"batch_size\"], args[\"num_epochs\"], args[\"epsilon\"], metric=roc_auc_score)\n",
    "\n",
    "        train_loss_l.append(mean_train_loss)\n",
    "        val_loss_l.append(mean_val_loss)\n",
    "        train_metric_l.append(mean_train_metric)\n",
    "        val_metric_l.append(mean_val_metric)\n",
    "        val_last_preds_l.append(last_val_preds)\n",
    "        test_metric.append(mean_val_metric[-1])\n",
    "\n",
    "        save_results(problem_name, problem, train_loss_l, val_loss_l, train_metric_l, val_metric_l, val_last_preds_l)\n",
    "\n",
    "    print(\"test auc mean:\", np.mean(test_metric))\n",
    "    print(\"test auc std:\", np.std(test_metric)) \n",
    "    \n",
    "    return test_metric"
   ]
  },
  {
   "cell_type": "code",
   "execution_count": 29,
   "metadata": {},
   "outputs": [
    {
     "data": {
      "image/png": "[encoded data removed]",
      "text/plain": [
       "<Figure size 720x360 with 2 Axes>"
      ]
     },
     "metadata": {
      "needs_background": "light"
     },
     "output_type": "display_data"
    },
    {
     "name": "stdout",
     "output_type": "stream",
     "text": [
      "Epoch 30 of 400 took 231.916s\n",
      "  training loss (in-iteration): \t0.009295\n",
      "  validation loss: \t\t\t0.468082\n",
      "  training metric: \t\t\t1.00\n",
      "  validation metric: \t\t\t0.84\n",
      "saved.\n",
      "test auc mean: 0.8590901234567901\n",
      "test auc std: 0.06796156282968122\n"
     ]
    },
    {
     "data": {
      "text/plain": [
       "[0.76,\n",
       " 0.8958333333333333,\n",
       " 0.7833333333333333,\n",
       " 0.8101851851851851,\n",
       " 0.9120370370370371,\n",
       " 0.9360000000000002,\n",
       " 0.9666666666666667,\n",
       " 0.8041666666666666,\n",
       " 0.9351851851851851,\n",
       " 0.8194444444444444,\n",
       " 0.876,\n",
       " 0.925,\n",
       " 0.8791666666666667,\n",
       " 0.7407407407407407,\n",
       " 0.8425925925925927]"
      ]
     },
     "execution_count": 29,
     "metadata": {},
     "output_type": "execute_result"
    }
   ],
   "source": [
    "problem = \"Bipolar/Control\"\n",
    "cv = RepeatedStratifiedKFold(n_splits=5, n_repeats=3, random_state=42)\n",
    "\n",
    "args = {\n",
    "    \"learning_rate\" : 3e-5,\n",
    "    \"batch_size\" : 10,\n",
    "    \"num_epochs\" : 400,\n",
    "    \"epsilon\" : 1e-2,\n",
    "    \"input_shape\" : dataset_rest.img_shape,\n",
    "    \"hidden_size\" : 128,\n",
    "    \"n_outputs\" : 2,\n",
    "    \"stride\" : 1,\n",
    "    \"n_filters\" : 16,\n",
    "    \"n_blocks\" : 3,\n",
    "    \"n_layers\" : 1,\n",
    "    \"n_fc_units_rnn\" : 512,\n",
    "    \"dropout\" : 0,\n",
    "    \"n_fc_units\" : 128,\n",
    "}\n",
    "problem_name = \"ConvLSTM_fil({})-block({})-LSTM({}x{})-{}-D({})_LA5study_aroma_train-rest_test-task\".format(args[\"n_filters\"], args[\"n_blocks\"], args[\"hidden_size\"], args[\"n_layers\"], args[\"n_fc_units_rnn\"], args[\"dropout\"])\n",
    "load = True\n",
    "cross_val_train(dataset_rest, dataset_task, problem, cv, problem_name, args, load)"
   ]
  },
  {
   "cell_type": "code",
   "execution_count": 28,
   "metadata": {},
   "outputs": [
    {
     "data": {
      "image/png": "[encoded data removed]",
      "text/plain": [
       "<Figure size 720x360 with 2 Axes>"
      ]
     },
     "metadata": {
      "needs_background": "light"
     },
     "output_type": "display_data"
    },
    {
     "name": "stdout",
     "output_type": "stream",
     "text": [
      "Epoch 30 of 400 took 227.775s\n",
      "  training loss (in-iteration): \t0.009739\n",
      "  validation loss: \t\t\t0.222136\n",
      "  training metric: \t\t\t1.00\n",
      "  validation metric: \t\t\t0.96\n",
      "saved.\n",
      "test auc mean: 0.9640580246913582\n",
      "test auc std: 0.027536712715440222\n"
     ]
    },
    {
     "data": {
      "text/plain": [
       "[0.9760000000000001,\n",
       " 0.9541666666666666,\n",
       " 1.0,\n",
       " 0.9541666666666666,\n",
       " 0.9490740740740741,\n",
       " 1.0,\n",
       " 0.8958333333333334,\n",
       " 0.975,\n",
       " 1.0,\n",
       " 0.9583333333333333,\n",
       " 0.952,\n",
       " 0.9624999999999999,\n",
       " 0.9916666666666667,\n",
       " 0.9291666666666667,\n",
       " 0.962962962962963]"
      ]
     },
     "execution_count": 28,
     "metadata": {},
     "output_type": "execute_result"
    }
   ],
   "source": [
    "problem = \"Schz/Control\"\n",
    "cv = RepeatedStratifiedKFold(n_splits=5, n_repeats=3, random_state=42)\n",
    "\n",
    "args = {\n",
    "    \"learning_rate\" : 3e-5,\n",
    "    \"batch_size\" : 10,\n",
    "    \"num_epochs\" : 400,\n",
    "    \"epsilon\" : 1e-2,\n",
    "    \"input_shape\" : dataset_rest.img_shape,\n",
    "    \"hidden_size\" : 128,\n",
    "    \"n_outputs\" : 2,\n",
    "    \"stride\" : 1,\n",
    "    \"n_filters\" : 16,\n",
    "    \"n_blocks\" : 3,\n",
    "    \"n_layers\" : 1,\n",
    "    \"n_fc_units_rnn\" : 512,\n",
    "    \"dropout\" : 0,\n",
    "    \"n_fc_units\" : 128,\n",
    "}\n",
    "problem_name = \"ConvLSTM_fil({})-block({})-LSTM({}x{})-{}-D({})_LA5study_aroma_train-rest_test-task\".format(args[\"n_filters\"], args[\"n_blocks\"], args[\"hidden_size\"], args[\"n_layers\"], args[\"n_fc_units_rnn\"], args[\"dropout\"])\n",
    "load = True\n",
    "cross_val_train(dataset_rest, dataset_task, problem, cv, problem_name, args, load)"
   ]
  },
  {
   "cell_type": "code",
   "execution_count": null,
   "metadata": {},
   "outputs": [
    {
     "data": {
      "image/png": "[encoded data removed]",
      "text/plain": [
       "<Figure size 720x360 with 2 Axes>"
      ]
     },
     "metadata": {
      "needs_background": "light"
     },
     "output_type": "display_data"
    },
    {
     "name": "stderr",
     "output_type": "stream",
     "text": [
      "0it [00:00, ?it/s]"
     ]
    },
    {
     "name": "stdout",
     "output_type": "stream",
     "text": [
      "Epoch 16 of 400 took 235.087s\n",
      "  training loss (in-iteration): \t0.163651\n",
      "  validation loss: \t\t\t0.580016\n",
      "  training metric: \t\t\t1.00\n",
      "  validation metric: \t\t\t0.78\n"
     ]
    },
    {
     "name": "stderr",
     "output_type": "stream",
     "text": [
      "1it [00:12, 12.76s/it]"
     ]
    }
   ],
   "source": [
    "problem = \"ADHD/Control\"\n",
    "cv = RepeatedStratifiedKFold(n_splits=5, n_repeats=3, random_state=42)\n",
    "\n",
    "args = {\n",
    "    \"learning_rate\" : 3e-5,\n",
    "    \"batch_size\" : 10,\n",
    "    \"num_epochs\" : 400,\n",
    "    \"epsilon\" : 1e-2,\n",
    "    \"input_shape\" : dataset_rest.img_shape,\n",
    "    \"hidden_size\" : 128,\n",
    "    \"n_outputs\" : 2,\n",
    "    \"stride\" : 1,\n",
    "    \"n_filters\" : 16,\n",
    "    \"n_blocks\" : 3,\n",
    "    \"n_layers\" : 1,\n",
    "    \"n_fc_units_rnn\" : 512,\n",
    "    \"dropout\" : 0,\n",
    "    \"n_fc_units\" : 128,\n",
    "}\n",
    "problem_name = \"ConvLSTM_fil({})-block({})-LSTM({}x{})-{}-D({})_LA5study_aroma_train-rest_test-task\".format(args[\"n_filters\"], args[\"n_blocks\"], args[\"hidden_size\"], args[\"n_layers\"], args[\"n_fc_units_rnn\"], args[\"dropout\"])\n",
    "load = True\n",
    "cross_val_train(dataset_rest, dataset_task, problem, cv, problem_name, args, load)"
   ]
  },
  {
   "cell_type": "code",
   "execution_count": null,
   "metadata": {},
   "outputs": [],
   "source": []
  }
 ],
 "metadata": {
  "accelerator": "GPU",
  "colab": {
   "collapsed_sections": [],
   "default_view": {},
   "name": "voxcnn mprage E_no E.ipynb",
   "provenance": [],
   "version": "0.3.2",
   "views": {}
  },
  "kernelspec": {
   "display_name": "Python 3",
   "language": "python",
   "name": "python3"
  },
  "language_info": {
   "codemirror_mode": {
    "name": "ipython",
    "version": 3
   },
   "file_extension": ".py",
   "mimetype": "text/x-python",
   "name": "python",
   "nbconvert_exporter": "python",
   "pygments_lexer": "ipython3",
   "version": "3.6.8"
  }
 },
 "nbformat": 4,
 "nbformat_minor": 2
}
