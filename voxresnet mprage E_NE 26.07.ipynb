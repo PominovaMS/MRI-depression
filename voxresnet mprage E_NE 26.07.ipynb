{
 "cells": [
  {
   "cell_type": "code",
   "execution_count": 1,
   "metadata": {},
   "outputs": [
    {
     "name": "stdout",
     "output_type": "stream",
     "text": [
      "Mon Jun 11 10:08:46 2018       \n",
      "+-----------------------------------------------------------------------------+\n",
      "| NVIDIA-SMI 384.111                Driver Version: 384.111                   |\n",
      "|-------------------------------+----------------------+----------------------+\n",
      "| GPU  Name        Persistence-M| Bus-Id        Disp.A | Volatile Uncorr. ECC |\n",
      "| Fan  Temp  Perf  Pwr:Usage/Cap|         Memory-Usage | GPU-Util  Compute M. |\n",
      "|===============================+======================+======================|\n",
      "|   0  Tesla P100-PCIE...  Off  | 00007156:00:00.0 Off |                    0 |\n",
      "| N/A   32C    P0    32W / 250W |    673MiB / 16276MiB |      0%      Default |\n",
      "+-------------------------------+----------------------+----------------------+\n",
      "|   1  Tesla P100-PCIE...  Off  | 00008E4F:00:00.0 Off |                    0 |\n",
      "| N/A   37C    P0    46W / 250W |  12981MiB / 16276MiB |    100%      Default |\n",
      "+-------------------------------+----------------------+----------------------+\n",
      "                                                                               \n",
      "+-----------------------------------------------------------------------------+\n",
      "| Processes:                                                       GPU Memory |\n",
      "|  GPU       PID   Type   Process name                             Usage      |\n",
      "|=============================================================================|\n",
      "|    0     59475      C   /home/service/anaconda2/bin/python           663MiB |\n",
      "|    1     59475      C   /home/service/anaconda2/bin/python         12971MiB |\n",
      "+-----------------------------------------------------------------------------+\n"
     ]
    }
   ],
   "source": [
    "!nvidia-smi"
   ]
  },
  {
   "cell_type": "code",
   "execution_count": 2,
   "metadata": {},
   "outputs": [
    {
     "name": "stderr",
     "output_type": "stream",
     "text": [
      "/home/service/anaconda2/lib/python2.7/site-packages/h5py/__init__.py:36: FutureWarning: Conversion of the second argument of issubdtype from `float` to `np.floating` is deprecated. In future, it will be treated as `np.float64 == np.dtype(float).type`.\n",
      "  from ._conv import register_converters as _register_converters\n"
     ]
    },
    {
     "name": "stdout",
     "output_type": "stream",
     "text": [
      "Populating the interactive namespace from numpy and matplotlib\n"
     ]
    },
    {
     "name": "stderr",
     "output_type": "stream",
     "text": [
      "/home/service/anaconda2/lib/python2.7/site-packages/IPython/core/magics/pylab.py:161: UserWarning: pylab import has clobbered these variables: ['copy']\n",
      "`%matplotlib` prevents importing * from pylab and numpy\n",
      "  \"\\n`%matplotlib` prevents importing * from pylab and numpy\"\n"
     ]
    }
   ],
   "source": [
    "import numpy as np\n",
    "import pandas as pd\n",
    "from scipy import ndimage as nd\n",
    "import torch\n",
    "import torch.nn as nn\n",
    "import torch.nn.functional as F\n",
    "from torch.autograd import Variable\n",
    "from tqdm import tqdm\n",
    "import time\n",
    "import os\n",
    "import nibabel as nib\n",
    "from sklearn.model_selection import train_test_split, StratifiedKFold, RepeatedStratifiedKFold\n",
    "from sklearn.metrics import roc_auc_score\n",
    "from IPython.display import clear_output\n",
    "import copy\n",
    "\n",
    "%pylab inline"
   ]
  },
  {
   "cell_type": "code",
   "execution_count": 5,
   "metadata": {},
   "outputs": [
    {
     "name": "stdout",
     "output_type": "stream",
     "text": [
      "('Torch version:', '0.4.0')\n",
      "Using GPU\n"
     ]
    }
   ],
   "source": [
    "use_cuda = torch.cuda.is_available()\n",
    "\n",
    "print(\"Torch version:\", torch.__version__)\n",
    "if use_cuda:\n",
    "    print(\"Using GPU\")\n",
    "else:\n",
    "    print(\"Not using GPU\")\n",
    "    \n",
    "cuda_n = 0"
   ]
  },
  {
   "cell_type": "code",
   "execution_count": 6,
   "metadata": {},
   "outputs": [
    {
     "data": {
      "text/plain": [
       "90"
      ]
     },
     "execution_count": 6,
     "metadata": {},
     "output_type": "execute_result"
    }
   ],
   "source": [
    "path = \"WC0/WC0/\"\n",
    "mri_files = sorted([fileList for dirName, subdirList, fileList in os.walk(path) if fileList][0])\n",
    "mri_files = list(map(lambda x: path + x, mri_files))\n",
    "len(mri_files)"
   ]
  },
  {
   "cell_type": "code",
   "execution_count": 7,
   "metadata": {
    "collapsed": true
   },
   "outputs": [],
   "source": [
    "def get_patient_number(patient_file):\n",
    "    return \"P\" + patient_file.split(\"-\")[0][-3:]"
   ]
  },
  {
   "cell_type": "code",
   "execution_count": 8,
   "metadata": {},
   "outputs": [
    {
     "data": {
      "text/html": [
       "<div>\n",
       "<style scoped>\n",
       "    .dataframe tbody tr th:only-of-type {\n",
       "        vertical-align: middle;\n",
       "    }\n",
       "\n",
       "    .dataframe tbody tr th {\n",
       "        vertical-align: top;\n",
       "    }\n",
       "\n",
       "    .dataframe thead th {\n",
       "        text-align: right;\n",
       "    }\n",
       "</style>\n",
       "<table border=\"1\" class=\"dataframe\">\n",
       "  <thead>\n",
       "    <tr style=\"text-align: right;\">\n",
       "      <th></th>\n",
       "      <th>patient_number</th>\n",
       "      <th>target</th>\n",
       "      <th>E/no E</th>\n",
       "      <th>D/no D</th>\n",
       "      <th>E/C</th>\n",
       "      <th>TLE/no E</th>\n",
       "      <th>TLE/C</th>\n",
       "      <th>D/C</th>\n",
       "      <th>DE/E</th>\n",
       "      <th>MRIPositive/Negative</th>\n",
       "      <th>TLEPositive/C</th>\n",
       "      <th>TLENegative/C</th>\n",
       "      <th>NoTLE/C</th>\n",
       "    </tr>\n",
       "  </thead>\n",
       "  <tbody>\n",
       "    <tr>\n",
       "      <th>95</th>\n",
       "      <td>P100</td>\n",
       "      <td>0</td>\n",
       "      <td>4</td>\n",
       "      <td>5</td>\n",
       "      <td>0.0</td>\n",
       "      <td>4.0</td>\n",
       "      <td>0.0</td>\n",
       "      <td>0.0</td>\n",
       "      <td>NaN</td>\n",
       "      <td>8</td>\n",
       "      <td>0.0</td>\n",
       "      <td>0.0</td>\n",
       "      <td>0.0</td>\n",
       "    </tr>\n",
       "    <tr>\n",
       "      <th>96</th>\n",
       "      <td>P105</td>\n",
       "      <td>3</td>\n",
       "      <td>2</td>\n",
       "      <td>1</td>\n",
       "      <td>NaN</td>\n",
       "      <td>6.0</td>\n",
       "      <td>6.0</td>\n",
       "      <td>NaN</td>\n",
       "      <td>3.0</td>\n",
       "      <td>7</td>\n",
       "      <td>9.0</td>\n",
       "      <td>NaN</td>\n",
       "      <td>NaN</td>\n",
       "    </tr>\n",
       "    <tr>\n",
       "      <th>97</th>\n",
       "      <td>P106</td>\n",
       "      <td>0</td>\n",
       "      <td>4</td>\n",
       "      <td>5</td>\n",
       "      <td>0.0</td>\n",
       "      <td>4.0</td>\n",
       "      <td>0.0</td>\n",
       "      <td>0.0</td>\n",
       "      <td>NaN</td>\n",
       "      <td>8</td>\n",
       "      <td>0.0</td>\n",
       "      <td>0.0</td>\n",
       "      <td>0.0</td>\n",
       "    </tr>\n",
       "    <tr>\n",
       "      <th>98</th>\n",
       "      <td>P107</td>\n",
       "      <td>0</td>\n",
       "      <td>4</td>\n",
       "      <td>5</td>\n",
       "      <td>0.0</td>\n",
       "      <td>4.0</td>\n",
       "      <td>0.0</td>\n",
       "      <td>0.0</td>\n",
       "      <td>NaN</td>\n",
       "      <td>8</td>\n",
       "      <td>0.0</td>\n",
       "      <td>0.0</td>\n",
       "      <td>0.0</td>\n",
       "    </tr>\n",
       "    <tr>\n",
       "      <th>99</th>\n",
       "      <td>P108</td>\n",
       "      <td>0</td>\n",
       "      <td>4</td>\n",
       "      <td>5</td>\n",
       "      <td>0.0</td>\n",
       "      <td>4.0</td>\n",
       "      <td>0.0</td>\n",
       "      <td>0.0</td>\n",
       "      <td>NaN</td>\n",
       "      <td>8</td>\n",
       "      <td>0.0</td>\n",
       "      <td>0.0</td>\n",
       "      <td>0.0</td>\n",
       "    </tr>\n",
       "  </tbody>\n",
       "</table>\n",
       "</div>"
      ],
      "text/plain": [
       "   patient_number  target  E/no E  D/no D  E/C  TLE/no E  TLE/C  D/C  DE/E  \\\n",
       "95           P100       0       4       5  0.0       4.0    0.0  0.0   NaN   \n",
       "96           P105       3       2       1  NaN       6.0    6.0  NaN   3.0   \n",
       "97           P106       0       4       5  0.0       4.0    0.0  0.0   NaN   \n",
       "98           P107       0       4       5  0.0       4.0    0.0  0.0   NaN   \n",
       "99           P108       0       4       5  0.0       4.0    0.0  0.0   NaN   \n",
       "\n",
       "    MRIPositive/Negative   TLEPositive/C  TLENegative/C  NoTLE/C  \n",
       "95                      8            0.0            0.0      0.0  \n",
       "96                      7            9.0            NaN      NaN  \n",
       "97                      8            0.0            0.0      0.0  \n",
       "98                      8            0.0            0.0      0.0  \n",
       "99                      8            0.0            0.0      0.0  "
      ]
     },
     "execution_count": 8,
     "metadata": {},
     "output_type": "execute_result"
    }
   ],
   "source": [
    "labels = pd.read_csv(\"targets 28.02.2018.csv\", sep=\";\")\n",
    "\n",
    "idx_to_label = [\"C\", \"D\", \"E\", \"DE\", \"NE\", \"ND\", \"TLE\", \"Positive\", \"Negative\", \"TLEPositive\", \"TLENegative\", \"NoTLE\"]\n",
    "label_to_idx = {l : i for i, l in enumerate(idx_to_label)}\n",
    "\n",
    "for col in labels.columns[1:]:\n",
    "    labels[col] = labels[col].apply(lambda x: label_to_idx[x] if x in label_to_idx else np.nan)\n",
    "    \n",
    "labels = labels.reset_index(drop=True)\n",
    "labels.tail()"
   ]
  },
  {
   "cell_type": "code",
   "execution_count": 9,
   "metadata": {},
   "outputs": [
    {
     "data": {
      "text/html": [
       "<div>\n",
       "<style scoped>\n",
       "    .dataframe tbody tr th:only-of-type {\n",
       "        vertical-align: middle;\n",
       "    }\n",
       "\n",
       "    .dataframe tbody tr th {\n",
       "        vertical-align: top;\n",
       "    }\n",
       "\n",
       "    .dataframe thead th {\n",
       "        text-align: right;\n",
       "    }\n",
       "</style>\n",
       "<table border=\"1\" class=\"dataframe\">\n",
       "  <thead>\n",
       "    <tr style=\"text-align: right;\">\n",
       "      <th></th>\n",
       "      <th>patient_number</th>\n",
       "      <th>target</th>\n",
       "      <th>E/no E</th>\n",
       "      <th>D/no D</th>\n",
       "      <th>E/C</th>\n",
       "      <th>TLE/no E</th>\n",
       "      <th>TLE/C</th>\n",
       "      <th>D/C</th>\n",
       "      <th>DE/E</th>\n",
       "      <th>MRIPositive/Negative</th>\n",
       "      <th>TLEPositive/C</th>\n",
       "      <th>TLENegative/C</th>\n",
       "      <th>NoTLE/C</th>\n",
       "    </tr>\n",
       "  </thead>\n",
       "  <tbody>\n",
       "    <tr>\n",
       "      <th>85</th>\n",
       "      <td>P100</td>\n",
       "      <td>0</td>\n",
       "      <td>4</td>\n",
       "      <td>5</td>\n",
       "      <td>0.0</td>\n",
       "      <td>4.0</td>\n",
       "      <td>0.0</td>\n",
       "      <td>0.0</td>\n",
       "      <td>NaN</td>\n",
       "      <td>8</td>\n",
       "      <td>0.0</td>\n",
       "      <td>0.0</td>\n",
       "      <td>0.0</td>\n",
       "    </tr>\n",
       "    <tr>\n",
       "      <th>86</th>\n",
       "      <td>P105</td>\n",
       "      <td>3</td>\n",
       "      <td>2</td>\n",
       "      <td>1</td>\n",
       "      <td>NaN</td>\n",
       "      <td>6.0</td>\n",
       "      <td>6.0</td>\n",
       "      <td>NaN</td>\n",
       "      <td>3.0</td>\n",
       "      <td>7</td>\n",
       "      <td>9.0</td>\n",
       "      <td>NaN</td>\n",
       "      <td>NaN</td>\n",
       "    </tr>\n",
       "    <tr>\n",
       "      <th>87</th>\n",
       "      <td>P106</td>\n",
       "      <td>0</td>\n",
       "      <td>4</td>\n",
       "      <td>5</td>\n",
       "      <td>0.0</td>\n",
       "      <td>4.0</td>\n",
       "      <td>0.0</td>\n",
       "      <td>0.0</td>\n",
       "      <td>NaN</td>\n",
       "      <td>8</td>\n",
       "      <td>0.0</td>\n",
       "      <td>0.0</td>\n",
       "      <td>0.0</td>\n",
       "    </tr>\n",
       "    <tr>\n",
       "      <th>88</th>\n",
       "      <td>P107</td>\n",
       "      <td>0</td>\n",
       "      <td>4</td>\n",
       "      <td>5</td>\n",
       "      <td>0.0</td>\n",
       "      <td>4.0</td>\n",
       "      <td>0.0</td>\n",
       "      <td>0.0</td>\n",
       "      <td>NaN</td>\n",
       "      <td>8</td>\n",
       "      <td>0.0</td>\n",
       "      <td>0.0</td>\n",
       "      <td>0.0</td>\n",
       "    </tr>\n",
       "    <tr>\n",
       "      <th>89</th>\n",
       "      <td>P108</td>\n",
       "      <td>0</td>\n",
       "      <td>4</td>\n",
       "      <td>5</td>\n",
       "      <td>0.0</td>\n",
       "      <td>4.0</td>\n",
       "      <td>0.0</td>\n",
       "      <td>0.0</td>\n",
       "      <td>NaN</td>\n",
       "      <td>8</td>\n",
       "      <td>0.0</td>\n",
       "      <td>0.0</td>\n",
       "      <td>0.0</td>\n",
       "    </tr>\n",
       "  </tbody>\n",
       "</table>\n",
       "</div>"
      ],
      "text/plain": [
       "   patient_number  target  E/no E  D/no D  E/C  TLE/no E  TLE/C  D/C  DE/E  \\\n",
       "85           P100       0       4       5  0.0       4.0    0.0  0.0   NaN   \n",
       "86           P105       3       2       1  NaN       6.0    6.0  NaN   3.0   \n",
       "87           P106       0       4       5  0.0       4.0    0.0  0.0   NaN   \n",
       "88           P107       0       4       5  0.0       4.0    0.0  0.0   NaN   \n",
       "89           P108       0       4       5  0.0       4.0    0.0  0.0   NaN   \n",
       "\n",
       "    MRIPositive/Negative   TLEPositive/C  TLENegative/C  NoTLE/C  \n",
       "85                      8            0.0            0.0      0.0  \n",
       "86                      7            9.0            NaN      NaN  \n",
       "87                      8            0.0            0.0      0.0  \n",
       "88                      8            0.0            0.0      0.0  \n",
       "89                      8            0.0            0.0      0.0  "
      ]
     },
     "execution_count": 9,
     "metadata": {},
     "output_type": "execute_result"
    }
   ],
   "source": [
    "labels = labels[labels.patient_number.isin(list(map(get_patient_number, mri_files)))]\n",
    "labels = labels.reset_index(drop=True)\n",
    "labels.tail()"
   ]
  },
  {
   "cell_type": "code",
   "execution_count": 10,
   "metadata": {
    "collapsed": true
   },
   "outputs": [],
   "source": [
    "# IMG_SHAPE = (-1, 1, 52, 62, 52)\n",
    "IMG_SHAPE = (-1, 1, 180, 216, 180)\n",
    "\n",
    "def reshape_images(X, img_shape=IMG_SHAPE):\n",
    "#     return X[:, 1:, 1:, :].reshape(img_shape)\n",
    "    return X[:, :-1, :-1, :-1].reshape(img_shape)"
   ]
  },
  {
   "cell_type": "code",
   "execution_count": 11,
   "metadata": {
    "collapsed": true
   },
   "outputs": [],
   "source": [
    "def min_max_scale(x):\n",
    "    return (x - x.min()) / (x.max() - x.min())"
   ]
  },
  {
   "cell_type": "code",
   "execution_count": 12,
   "metadata": {
    "collapsed": true
   },
   "outputs": [],
   "source": [
    "def load_nii_to_array(nii_path):\n",
    "    return nib.load(nii_path).get_data()"
   ]
  },
  {
   "cell_type": "code",
   "execution_count": 13,
   "metadata": {
    "collapsed": true
   },
   "outputs": [],
   "source": [
    "def cut_segment(fmri_file, segment_length=1):\n",
    "    record_length = fmri_file.shape[-1]\n",
    "    start_idx = np.random.choice(record_length - segment_length)\n",
    "    return fmri_file[:, :, :, start_idx:start_idx + segment_length]"
   ]
  },
  {
   "cell_type": "code",
   "execution_count": 14,
   "metadata": {
    "collapsed": true
   },
   "outputs": [],
   "source": [
    "def get_image(mri_file, from_nii=True):\n",
    "    # if mri_file contains path to file\n",
    "    if type(mri_file) is str:\n",
    "        if from_nii:\n",
    "            return load_nii_to_array(mri_file)\n",
    "        return np.load(mri_file)\n",
    "    # if mri_file already contains image\n",
    "    return mri_file"
   ]
  },
  {
   "cell_type": "code",
   "execution_count": 15,
   "metadata": {
    "collapsed": true
   },
   "outputs": [],
   "source": [
    "def load_minibatches(indexes, mri_files, label, from_nii=True, batch_size=3, normalize=True, img_shape=IMG_SHAPE, segment_length=None, stratify=False):\n",
    "    n_objects = indexes.size\n",
    "    \n",
    "    if stratify:\n",
    "        idx = sorted(indexes, key=lambda x: label[x])\n",
    "        for i in range(0, n_objects // 2, 2):\n",
    "            idx[i], idx[n_objects - 1 - i] = idx[n_objects - 1 - i], idx[i]\n",
    "        idx = np.array(idx)\n",
    "    else:\n",
    "        idx = np.copy(indexes)\n",
    "    \n",
    "    batches = np.append(np.arange(0, n_objects, batch_size), n_objects)\n",
    "    if batch_size >= 2 and batches[-2] == n_objects - 1:\n",
    "        batches[-2] -= 1\n",
    "    \n",
    "    for i in range(len(batches) - 1):\n",
    "        if batch_size == 2:\n",
    "            batch_idx = idx[batches[i]:batches[i] + batch_size]\n",
    "        else:\n",
    "            batch_idx = idx[batches[i]:batches[i + 1]]\n",
    "        \n",
    "        if segment_length is not None:\n",
    "            X = np.array([cut_segment(get_image(mri_files[i], from_nii), segment_length) for i in batch_idx])\n",
    "        else:\n",
    "            X = np.array([get_image(mri_files[i], from_nii) for i in batch_idx])\n",
    "            \n",
    "        if normalize:\n",
    "                X = np.array([min_max_scale(x) for x in X]) * 2 - 1\n",
    "                \n",
    "        if segment_length is not None and segment_length > 1:\n",
    "            X = Variable(torch.FloatTensor(reshape_images(X, tuple(list(img_shape) + [segment_length]))))\n",
    "            X = X.permute(5, 0, 1, 2, 3, 4)\n",
    "        else:\n",
    "            X = Variable(torch.FloatTensor(reshape_images(X, img_shape)))\n",
    "        \n",
    "        y = np.int64(label[batch_idx].values)\n",
    "        y = Variable(torch.LongTensor(y))\n",
    "        yield (X.cuda(cuda_n), y.cuda(cuda_n)) if use_cuda else (X, y)"
   ]
  },
  {
   "cell_type": "code",
   "execution_count": 16,
   "metadata": {
    "collapsed": true
   },
   "outputs": [],
   "source": [
    "def compute_loss(logits, targets):\n",
    "    loss = F.cross_entropy(logits, targets, reduce=False)\n",
    "    return loss.mean()"
   ]
  },
  {
   "cell_type": "code",
   "execution_count": 17,
   "metadata": {
    "collapsed": true
   },
   "outputs": [],
   "source": [
    "def compute_acc(logits, targets):\n",
    "    probs = F.softmax(logits, dim=-1)\n",
    "    targets_pred = (probs.cpu().data.numpy().argmax(axis=-1))\n",
    "    acc = (targets.cpu().data.numpy() == targets_pred).mean()\n",
    "    return acc"
   ]
  },
  {
   "cell_type": "code",
   "execution_count": 18,
   "metadata": {
    "collapsed": true
   },
   "outputs": [],
   "source": [
    "# returns probs of the class 1\n",
    "def compute_probs(logits):\n",
    "    probs = F.softmax(logits, dim=-1).cpu().data.numpy()\n",
    "    return probs[:, 1]"
   ]
  },
  {
   "cell_type": "code",
   "execution_count": 19,
   "metadata": {
    "collapsed": true
   },
   "outputs": [],
   "source": [
    "def visualize_attention(model, conv_layer_name, input_img, c_idx=1, cmap1=\"gray\", cmap2=\"jet\", alpha=0.3, beta=0.75, subplots=(131, 132, 133)):\n",
    "    conv_layer_grad = []\n",
    "  \n",
    "    def save_gradient(grad):\n",
    "        conv_layer_grad.append(grad.cpu().data.numpy())\n",
    "  \n",
    "  \n",
    "    input_img_data = np.copy(input_img)\n",
    "    input_img_data = np.array(input_img_data, dtype=np.float32)\n",
    "    input_img_data = Variable(torch.from_numpy(input_img_data), requires_grad=True)\n",
    "    \n",
    "    # forward pass\n",
    "    out = input_img_data.cuda(cuda_n)\n",
    "    model.train(False)\n",
    "    for l_name, l in model.named_children():\n",
    "        out = l(out)\n",
    "        if l_name == conv_layer_name:\n",
    "            conv_layer_activations = out\n",
    "            out.register_hook(save_gradient)\n",
    "            \n",
    "    one_hot = np.zeros((1, out.size()[-1]), dtype=np.float32)\n",
    "    one_hot[0][c_idx] = 1\n",
    "    one_hot = Variable(torch.from_numpy(one_hot), requires_grad=True)\n",
    "    out_c = torch.sum(one_hot.cuda(cuda_n) * out)\n",
    "    out_c.backward()\n",
    "    \n",
    "    # zero grads\n",
    "    for l_name, l in model.named_parameters():\n",
    "        l.grad.zero_()\n",
    "        if l_name == conv_layer_name:\n",
    "            out.remove()\n",
    "    \n",
    "#     print(len(conv_layer_grad))\n",
    "#     print(conv_layer_grad[-1])\n",
    "    weights = np.mean(conv_layer_grad[-1], axis=(2, 3, 4))[0, :]\n",
    "    conv_layer_activations = conv_layer_activations.cpu().data.numpy()\n",
    "    for i, w in enumerate(weights):\n",
    "        conv_layer_activations[0, i] *= w\n",
    "    conv_layer_activations = np.maximum(conv_layer_activations, 0)\n",
    "    conv_layer_activations = conv_layer_activations.sum(axis=1)[0]\n",
    "    \n",
    "    inp_shape = input_img.shape\n",
    "    layer_shape = conv_layer_activations.shape\n",
    "    cam = np.zeros(inp_shape[-3:])\n",
    "    factor = inp_shape[-1] // layer_shape[-1]\n",
    "    for i in range(cam.shape[0]):\n",
    "        for j in range(cam.shape[1]):\n",
    "            for k in range(cam.shape[2]):\n",
    "                cam[i, j, k] += conv_layer_activations[min(i // factor, layer_shape[0] - 1), \n",
    "                                                       min(j // factor, layer_shape[1] - 1), \n",
    "                                                       min(k // factor, layer_shape[2] - 1)]\n",
    "                \n",
    "    cam -= np.min(cam)\n",
    "    cam /= np.max(cam)\n",
    "                \n",
    "    plt.figure(figsize=(18, 6))\n",
    "    plt.subplot(subplots[0])\n",
    "    plt.imshow(input_img[0, 0, inp_shape[-3] // 2, :, :] ** beta,  cmap=cmap1)\n",
    "    plt.imshow(cam[inp_shape[-3] // 2, :, :], cmap=cmap2, alpha=alpha)\n",
    "    plt.subplot(subplots[1])\n",
    "    plt.imshow(input_img[0, 0, :, inp_shape[-2] // 2, :] ** beta, cmap=cmap1)\n",
    "    plt.imshow(cam[:, inp_shape[-2] // 2, :], cmap=cmap2, alpha=alpha)\n",
    "    plt.subplot(subplots[2])\n",
    "    plt.imshow(input_img[0, 0, :, :, inp_shape[-1] // 2] ** beta, cmap=cmap1)\n",
    "    plt.imshow(cam[:, :, inp_shape[-1] // 2], cmap=cmap2, alpha=alpha)\n",
    "    plt.show()"
   ]
  },
  {
   "cell_type": "code",
   "execution_count": 20,
   "metadata": {
    "collapsed": true
   },
   "outputs": [],
   "source": [
    "def train(model, opt, train_idx, val_idx, mri_files, label, from_nii=True, segment_length=None, batch_size=10, \n",
    "          num_epochs=500, epsilon=0, n_after_max=None, max_grad_norm=None, \n",
    "          vis_img_idx=0, vis_layers=[], \n",
    "          save=False, load=False, checkpoint_file=None, save_freq=10):\n",
    "  \n",
    "    mean_train_loss = []\n",
    "    mean_val_loss = []\n",
    "    mean_train_auc = []\n",
    "    mean_val_auc = []\n",
    "    last_val_probs = []\n",
    "    cur_epoch = 0\n",
    "    \n",
    "    mean_grad_l = []\n",
    "\n",
    "    if load:\n",
    "        print(\"=> loading checkpoint '{}'\".format(checkpoint_file))\n",
    "        checkpoint = torch.load(checkpoint_file)\n",
    "        cur_epoch = checkpoint[\"epoch\"]\n",
    "        model.load_state_dict(checkpoint['state_dict'])\n",
    "        model.cuda(cuda_n)\n",
    "        opt = torch.optim.Adam(model.parameters())\n",
    "        opt.load_state_dict(checkpoint['optimizer'])\n",
    "        for state in opt.state.values():\n",
    "            for k, v in state.items():\n",
    "                if torch.is_tensor(v):\n",
    "                    state[k] = v.cuda(cuda_n)\n",
    "        mean_train_loss = checkpoint['mean_train_loss']\n",
    "        mean_val_loss = checkpoint['mean_val_loss']\n",
    "        mean_train_auc = checkpoint['mean_train_auc']\n",
    "        mean_val_auc = checkpoint['mean_val_auc']\n",
    "        print(\"=> loaded.\")\n",
    "\n",
    "    for epoch in range(cur_epoch, num_epochs):\n",
    "        # pass over the training data\n",
    "        start_time = time.time()\n",
    "        train_loss = []\n",
    "        train_probs = []\n",
    "        train_targets = []\n",
    "        model.train(True)\n",
    "        for batch in tqdm(load_minibatches(train_idx, mri_files, label, from_nii, batch_size, segment_length=segment_length)):\n",
    "            inputs, targets = batch\n",
    "#             inputs = inputs.transpose(1, 0)\n",
    "#             inputs = inputs.contiguous().view(inputs.size()[0], sequence_length, -1)\n",
    "            logits = model(inputs)\n",
    "            loss = compute_loss(logits, targets)\n",
    "            loss.backward()\n",
    "                        \n",
    "            # clip gradient if needed\n",
    "            if max_grad_norm is not None:\n",
    "                torch.nn.utils.clip_grad_norm(model.parameters(), max_grad_norm)\n",
    "            \n",
    "            opt.step()\n",
    "            opt.zero_grad()\n",
    "            train_loss.append(loss.cpu().data.numpy())\n",
    "            train_probs.extend(compute_probs(logits))\n",
    "            train_targets.extend(list(targets.cpu().data.numpy()))\n",
    "\n",
    "        # pass over the validation data\n",
    "        val_loss = []\n",
    "        val_probs = []\n",
    "        val_targets = []\n",
    "        model.train(False)\n",
    "        for batch in tqdm(load_minibatches(val_idx, mri_files, label, from_nii, batch_size, segment_length=segment_length)):\n",
    "            inputs, targets = batch\n",
    "#             inputs = inputs.transpose(1, 0)\n",
    "#             inputs = inputs.contiguous().view(inputs.size()[0], sequence_length, -1)\n",
    "            logits = model(inputs)\n",
    "            loss = compute_loss(logits, targets)\n",
    "            val_loss.append(loss.cpu().data.numpy())\n",
    "            val_probs.extend(compute_probs(logits))\n",
    "            val_targets.extend(list(targets.cpu().data.numpy()))\n",
    "\n",
    "        # print the results for this epoch:\n",
    "        mean_train_loss.append(np.mean(train_loss))\n",
    "        mean_val_loss.append(np.mean(val_loss))\n",
    "#         mean_train_auc.append(roc_auc_score(label[train_idx], train_probs))\n",
    "        mean_train_auc.append(roc_auc_score(train_targets, train_probs))\n",
    "#         mean_val_auc.append(roc_auc_score(label[val_idx], val_probs))\n",
    "        mean_val_auc.append(roc_auc_score(val_targets, val_probs))\n",
    "#         last_val_probs = (label[val_idx].tolist(), val_probs)\n",
    "        last_val_probs = (val_targets, val_probs)\n",
    "\n",
    "        clear_output(True)\n",
    "        plt.figure(figsize=(10, 5))\n",
    "        plt.subplot(121)\n",
    "        plt.plot(mean_train_loss)\n",
    "        plt.plot(mean_val_loss)\n",
    "        plt.subplot(122)\n",
    "        plt.plot(mean_train_auc)\n",
    "        plt.plot(mean_val_auc)\n",
    "        plt.gca().set_ylim([0, 1])\n",
    "        plt.show()\n",
    "        print(\"Epoch {} of {} took {:.3f}s\".format(\n",
    "            epoch + 1, num_epochs, time.time() - start_time))\n",
    "        print(\"  training loss (in-iteration): \\t{:.6f}\".format(mean_train_loss[-1]))\n",
    "        print(\"  validation loss: \\t\\t\\t{:.6f}\".format(mean_val_loss[-1]))\n",
    "        print(\"  training AUC: \\t\\t\\t{:.2f} %\".format(mean_train_auc[-1] * 100))\n",
    "        print(\"  validation AUC: \\t\\t\\t{:.2f} %\".format(mean_val_auc[-1] * 100))\n",
    "        \n",
    "        # visualization of attention of layers\n",
    "#         for l in vis_layers:\n",
    "#             vis_img = None\n",
    "#             if segment_length is not None:\n",
    "#                 vis_img = np.array([cut_segment(get_image(mri_files[vis_img_idx], from_nii), segment_length)])\n",
    "#             else:\n",
    "#                 vis_img = np.array([get_image(mri_files[vis_img_idx], from_nii)])\n",
    "#             vis_img = reshape_images(vis_img, img_shape=IMG_SHAPE)\n",
    "#             visualize_attention(model, l, vis_img, 1)\n",
    "            \n",
    "                    # visualization of attention of layers\n",
    "        for l in vis_layers:\n",
    "            if from_nii:\n",
    "#                 vis_img = np.array([cut_segment(get_image(mri_files[vis_img_idx], from_nii), segment_length)])\n",
    "#                 vis_img = np.array([cut_segment(load_nii_to_array(mri_files[vis_img_idx]), segment_length)])\n",
    "                vis_img = np.array([get_image(mri_files[vis_img_idx], from_nii)])\n",
    "            else:\n",
    "                vis_img = np.array([np.load(mri_files[vis_img_idx])])\n",
    "            vis_img = reshape_images(vis_img, img_shape=IMG_SHAPE)\n",
    "#             print(vis_img)\n",
    "            visualize_attention(model, l, vis_img, 1)\n",
    "            \n",
    "        # save current model state if needed\n",
    "        if save and (epoch + 1) % save_freq == 0:\n",
    "            save_checkpoint({\n",
    "                'epoch' : epoch + 1,\n",
    "                'state_dict' : model.state_dict(),\n",
    "                'optimizer' : opt.state_dict(),\n",
    "                'mean_train_loss' : mean_train_loss,\n",
    "                'mean_val_loss' : mean_val_loss,\n",
    "                'mean_train_auc' : mean_train_auc,\n",
    "                'mean_val_auc' : mean_val_auc,\n",
    "            }, filename=checkpoint_file)\n",
    "        \n",
    "        # stop if training loss < epsilon\n",
    "        if mean_train_loss[-1] < epsilon:\n",
    "            break\n",
    "        \n",
    "        # stop if last val performance max was  more than n_after_max epochs ago\n",
    "        if n_after_max is not None and epoch > np.argmax(mean_val_auc) + n_after_max:\n",
    "            break\n",
    "    \n",
    "    return mean_train_loss, mean_val_loss, mean_train_auc, mean_val_auc, last_val_probs"
   ]
  },
  {
   "cell_type": "code",
   "execution_count": 21,
   "metadata": {
    "collapsed": true
   },
   "outputs": [],
   "source": [
    "# converts [batch, channel, w, h] to [batch, units]\n",
    "class Flatten(nn.Module):\n",
    "    def forward(self, input):\n",
    "        return input.view(input.size(0), -1)"
   ]
  },
  {
   "cell_type": "code",
   "execution_count": 22,
   "metadata": {
    "collapsed": true
   },
   "outputs": [],
   "source": [
    "class VoxCNN(nn.Module):\n",
    "    def __init__(self, num_classes=2, size=8, dropout=0, n_hid_units_1=128, n_hid_units_2=64):\n",
    "        super(self.__class__, self).__init__()\n",
    "        self.model = nn.Sequential()\n",
    "\n",
    "        self.model.add_module(\"conv3d_1\", nn.Conv3d(1, size, kernel_size=3, padding=1)) # 8 * 180 * 216 * 180\n",
    "        self.model.add_module(\"batch_norm_1\", nn.BatchNorm3d(size))\n",
    "        self.model.add_module(\"activation_1\", nn.ReLU(inplace=True))\n",
    "        self.model.add_module(\"conv3d_2\", nn.Conv3d(size, size, kernel_size=3, padding=1)) # 8 * 180 * 216 * 180\n",
    "        self.model.add_module(\"batch_norm_2\", nn.BatchNorm3d(size))\n",
    "        self.model.add_module(\"activation_2\", nn.ReLU(inplace=True))\n",
    "        self.model.add_module(\"max_pool3d_1\", nn.MaxPool3d(kernel_size=2)) # 8 * 90 * 108 * 90\n",
    "    \n",
    "        self.model.add_module(\"conv3d_3\", nn.Conv3d(size, 2 * size, kernel_size=3, padding=1)) # 16 * 90 * 108 * 90\n",
    "        self.model.add_module(\"batch_norm_3\", nn.BatchNorm3d(2 * size))\n",
    "        self.model.add_module(\"activation_3\", nn.ReLU(inplace=True))\n",
    "        self.model.add_module(\"conv3d_4\", nn.Conv3d(2 * size, 2 * size, kernel_size=3, padding=1)) # 16 * 90 * 108 * 90\n",
    "        self.model.add_module(\"batch_norm_4\", nn.BatchNorm3d(2 * size))\n",
    "        self.model.add_module(\"activation_4\", nn.ReLU(inplace=True))\n",
    "        self.model.add_module(\"max_pool3d_2\", nn.MaxPool3d(kernel_size=2)) # 16 * 45 * 54 * 45\n",
    "    \n",
    "        self.model.add_module(\"conv3d_5\", nn.Conv3d(2 * size, 4 * size, kernel_size=3, padding=1)) # 32 * 45 * 54 * 45\n",
    "        self.model.add_module(\"batch_norm_5\", nn.BatchNorm3d(4 * size))\n",
    "        self.model.add_module(\"activation_5\", nn.ReLU(inplace=True))\n",
    "        self.model.add_module(\"conv3d_6\", nn.Conv3d(4 * size, 4 * size, kernel_size=3, padding=1)) # 32 * 45 * 54 * 45\n",
    "        self.model.add_module(\"batch_norm_6\", nn.BatchNorm3d(4 * size))\n",
    "        self.model.add_module(\"activation_6\", nn.ReLU(inplace=True))\n",
    "        self.model.add_module(\"conv3d_7\", nn.Conv3d(4 * size, 4 * size, kernel_size=3, padding=1)) # 32 * 45 * 54 * 45\n",
    "        self.model.add_module(\"batch_norm_7\", nn.BatchNorm3d(4 * size))\n",
    "        self.model.add_module(\"activation_7\", nn.ReLU(inplace=True))\n",
    "        self.model.add_module(\"max_pool3d_3\", nn.MaxPool3d(kernel_size=2)) # 32 * 22 * 27 * 22\n",
    "\n",
    "        self.model.add_module(\"conv3d_8\", nn.Conv3d(4 * size, 8 * size, kernel_size=3, padding=1)) # 64 * 22 * 27 * 22\n",
    "        self.model.add_module(\"batch_norm_8\", nn.BatchNorm3d(8 * size))\n",
    "        self.model.add_module(\"activation_8\", nn.ReLU(inplace=True))\n",
    "        self.model.add_module(\"conv3d_9\", nn.Conv3d(8 * size, 8 * size, kernel_size=3, padding=1)) # 64 * 22 * 27 * 22\n",
    "        self.model.add_module(\"batch_norm_9\", nn.BatchNorm3d(8 * size))\n",
    "        self.model.add_module(\"activation_9\", nn.ReLU(inplace=True))\n",
    "        self.model.add_module(\"conv3d_10\", nn.Conv3d(8 * size, 8 * size, kernel_size=3, padding=1)) # 64 * 22 * 27 * 22\n",
    "        self.model.add_module(\"batch_norm_10\", nn.BatchNorm3d(8 * size))\n",
    "        self.model.add_module(\"activation_10\", nn.ReLU(inplace=True))\n",
    "        self.model.add_module(\"max_pool3d_4\", nn.MaxPool3d(kernel_size=2)) # 64 * 11 * 13 * 11 ?\n",
    "\n",
    "        self.model.add_module(\"flatten_1\", Flatten())\n",
    "        self.model.add_module(\"fully_conn_1\", nn.Linear(8 * size * 11 * 13 * 11, n_hid_units_1))\n",
    "        self.model.add_module(\"batch_norm_11\", nn.BatchNorm1d(n_hid_units_1))\n",
    "        self.model.add_module(\"activation_11\", nn.ReLU(inplace=True))\n",
    "        self.model.add_module(\"dropout_1\", nn.Dropout(dropout))\n",
    "\n",
    "        self.model.add_module(\"fully_conn_2\", nn.Linear(n_hid_units_1, n_hid_units_2))\n",
    "        self.model.add_module(\"batch_norm_12\", nn.BatchNorm1d(n_hid_units_2))\n",
    "        self.model.add_module(\"activation_12\", nn.ReLU(inplace=True))\n",
    "\n",
    "        self.model.add_module(\"fully_conn_3\", nn.Linear(n_hid_units_2, num_classes))\n",
    "\n",
    "        if use_cuda: self.model.cuda(cuda_n)\n",
    "\n",
    "            \n",
    "    def forward(self, x):\n",
    "        return self.model(x)"
   ]
  },
  {
   "cell_type": "code",
   "execution_count": 23,
   "metadata": {
    "collapsed": true
   },
   "outputs": [],
   "source": [
    "class VoxCNN2(nn.Module):\n",
    "    def __init__(self, num_classes=2, dropout=0):\n",
    "        super(self.__class__, self).__init__()\n",
    "        self.model = nn.Sequential()\n",
    "\n",
    "        self.model.add_module(\"conv3d_1\", nn.Conv3d(1, 8, kernel_size=3, padding=1)) # 8 * 180 * 216 * 180\n",
    "        self.model.add_module(\"batch_norm_1\", nn.BatchNorm3d(8))\n",
    "        self.model.add_module(\"activation_1\", nn.ReLU(inplace=True))\n",
    "        self.model.add_module(\"conv3d_2\", nn.Conv3d(8, 8, kernel_size=3, padding=1)) # 8 * 180 * 216 * 180\n",
    "        self.model.add_module(\"batch_norm_2\", nn.BatchNorm3d(8))\n",
    "        self.model.add_module(\"activation_2\", nn.ReLU(inplace=True))\n",
    "        self.model.add_module(\"conv3d_3\", nn.Conv3d(8, 8, kernel_size=3, padding=1)) # 8 * 180 * 216 * 180\n",
    "        self.model.add_module(\"batch_norm_3\", nn.BatchNorm3d(8))\n",
    "        self.model.add_module(\"activation_3\", nn.ReLU(inplace=True))\n",
    "        self.model.add_module(\"max_pool3d_1\", nn.MaxPool3d(kernel_size=2)) # 8 * 90 * 108 * 90\n",
    "\n",
    "        self.model.add_module(\"conv3d_4\", nn.Conv3d(8, 16, kernel_size=3, padding=1)) # 16 * 90 * 108 * 90\n",
    "        self.model.add_module(\"batch_norm_4\", nn.BatchNorm3d(16))\n",
    "        self.model.add_module(\"activation_4\", nn.ReLU(inplace=True))\n",
    "        self.model.add_module(\"conv3d_5\", nn.Conv3d(16, 16, kernel_size=3, padding=1)) # 16 * 90 * 108 * 90\n",
    "        self.model.add_module(\"batch_norm_5\", nn.BatchNorm3d(16))\n",
    "        self.model.add_module(\"activation_5\", nn.ReLU(inplace=True))\n",
    "        self.model.add_module(\"conv3d_6\", nn.Conv3d(16, 16, kernel_size=3, padding=1)) # 16 * 90 * 108 * 90\n",
    "        self.model.add_module(\"batch_norm_6\", nn.BatchNorm3d(16))\n",
    "        self.model.add_module(\"activation_6\", nn.ReLU(inplace=True))\n",
    "        self.model.add_module(\"max_pool3d_2\", nn.MaxPool3d(kernel_size=2)) # 16 * 45 * 54 * 45\n",
    "    \n",
    "        self.model.add_module(\"conv3d_7\", nn.Conv3d(16, 32, kernel_size=3, padding=1)) # 32 * 45 * 54 * 45\n",
    "        self.model.add_module(\"batch_norm_7\", nn.BatchNorm3d(32))\n",
    "        self.model.add_module(\"activation_7\", nn.ReLU(inplace=True))\n",
    "        self.model.add_module(\"conv3d_8\", nn.Conv3d(32, 32, kernel_size=3, padding=1)) # 32 * 45 * 54 * 45\n",
    "        self.model.add_module(\"batch_norm_8\", nn.BatchNorm3d(32))\n",
    "        self.model.add_module(\"activation_8\", nn.ReLU(inplace=True))\n",
    "        self.model.add_module(\"max_pool3d_3\", nn.MaxPool3d(kernel_size=2)) # 32 * 22 * 27 * 22\n",
    "\n",
    "        self.model.add_module(\"conv3d_9\", nn.Conv3d(32, 64, kernel_size=3, padding=1)) # 64 * 22 * 27 * 22\n",
    "        self.model.add_module(\"batch_norm_9\", nn.BatchNorm3d(64))\n",
    "        self.model.add_module(\"activation_9\", nn.ReLU(inplace=True))\n",
    "        self.model.add_module(\"conv3d_10\", nn.Conv3d(64, 64, kernel_size=3, padding=1)) # 64 * 22 * 27 * 22\n",
    "        self.model.add_module(\"batch_norm_10\", nn.BatchNorm3d(64))\n",
    "        self.model.add_module(\"activation_10\", nn.ReLU(inplace=True))\n",
    "        self.model.add_module(\"max_pool3d_4\", nn.MaxPool3d(kernel_size=2)) # 64 * 11 * 13 * 11 ?\n",
    "\n",
    "        self.model.add_module(\"flatten_1\", Flatten())\n",
    "        self.model.add_module(\"fully_conn_1\", nn.Linear(64 * 11 * 13 * 11, 128))\n",
    "        self.model.add_module(\"batch_norm_11\", nn.BatchNorm1d(128))\n",
    "        self.model.add_module(\"activation_11\", nn.ReLU(inplace=True))\n",
    "        self.model.add_module(\"dropout_1\", nn.Dropout(dropout))\n",
    "\n",
    "        self.model.add_module(\"fully_conn_2\", nn.Linear(128, 64))\n",
    "        self.model.add_module(\"activation_12\", nn.ReLU(inplace=True))\n",
    "\n",
    "        self.model.add_module(\"fully_conn_3\", nn.Linear(64, num_classes))\n",
    "\n",
    "        if use_cuda: self.model.cuda(cuda_n)\n",
    "\n",
    "            \n",
    "    def forward(self, x):\n",
    "        return self.model(x)"
   ]
  },
  {
   "cell_type": "code",
   "execution_count": 24,
   "metadata": {
    "collapsed": true
   },
   "outputs": [],
   "source": [
    "def conv3x3x3(in_planes, out_planes, stride=1):\n",
    "    # 3x3x3 convolution with padding\n",
    "    return nn.Conv3d(in_planes, out_planes, kernel_size=3, stride=stride, padding=1, bias=False)"
   ]
  },
  {
   "cell_type": "code",
   "execution_count": 25,
   "metadata": {
    "collapsed": true
   },
   "outputs": [],
   "source": [
    "class BasicBlock(nn.Module):\n",
    "    def __init__(self, inplanes, planes, stride=1):\n",
    "        super(BasicBlock, self).__init__()\n",
    "        self.conv1 = conv3x3x3(inplanes, planes, stride)\n",
    "        self.bn1 = nn.BatchNorm3d(planes)\n",
    "        self.relu = nn.ReLU(inplace=True)\n",
    "        self.conv2 = conv3x3x3(planes, planes)\n",
    "        self.bn2 = nn.BatchNorm3d(planes)\n",
    "        self.stride = stride\n",
    "\n",
    "    def forward(self, x):\n",
    "        residual = x\n",
    "\n",
    "        out = self.conv1(x)\n",
    "        out = self.bn1(out)\n",
    "        out = self.relu(out)\n",
    "\n",
    "        out = self.conv2(out)\n",
    "        out = self.bn2(out)\n",
    "\n",
    "        out += residual\n",
    "        out = self.relu(out)\n",
    "\n",
    "        return out"
   ]
  },
  {
   "cell_type": "code",
   "execution_count": 26,
   "metadata": {
    "collapsed": true
   },
   "outputs": [],
   "source": [
    "class VoxResNet_4(nn.Module):\n",
    "    def __init__(self, num_classes=2, dropout=0, size=16, mp_size=15, n_hid_units=128, stride=1):\n",
    "        super(self.__class__, self).__init__()\n",
    "        self.model = nn.Sequential()\n",
    "\n",
    "        self.model.add_module(\"conv3d_1\", nn.Conv3d(1, size, kernel_size=3, padding=1, stride=stride)) # 16 * 180 * 216 * 180\n",
    "        self.model.add_module(\"batch_norm_1\", nn.BatchNorm3d(size))\n",
    "        self.model.add_module(\"activation_1\", nn.ReLU(inplace=True))\n",
    "        self.model.add_module(\"conv3d_2\", nn.Conv3d(size, size, kernel_size=3, padding=1)) # 16 * 180 * 216 * 180\n",
    "        self.model.add_module(\"batch_norm_2\", nn.BatchNorm3d(size))\n",
    "        self.model.add_module(\"activation_2\", nn.ReLU(inplace=True))\n",
    "\n",
    "        self.model.add_module(\"conv3d_3\", nn.Conv3d(size, 2 * size, kernel_size=3, padding=1, stride=2)) # 32 * 90 * 108 * 90\n",
    "        self.model.add_module(\"block_1\", BasicBlock(2 * size, 2 * size))\n",
    "        self.model.add_module(\"block_2\", BasicBlock(2 * size, 2 * size))\n",
    "        self.model.add_module(\"batch_norm_3\", nn.BatchNorm3d(2 * size))\n",
    "        self.model.add_module(\"activation_3\", nn.ReLU(inplace=True))\n",
    "\n",
    "        self.model.add_module(\"conv3d_4\", nn.Conv3d(2 * size, 4 * size, kernel_size=3, padding=1, stride=2)) # 64 * 45 * 54 * 45\n",
    "        self.model.add_module(\"block_3\", BasicBlock(4 * size, 4 * size))\n",
    "        self.model.add_module(\"block_4\", BasicBlock(4 * size, 4 * size))\n",
    "        self.model.add_module(\"batch_norm_4\", nn.BatchNorm3d(4 * size))\n",
    "        self.model.add_module(\"activation_4\", nn.ReLU(inplace=True))\n",
    "\n",
    "        self.model.add_module(\"max_pool3d_1\", nn.MaxPool3d(kernel_size=mp_size)) # 64 * 2 * 2 * 2 ?\n",
    "\n",
    "        self.model.add_module(\"flatten_1\", Flatten())\n",
    "        self.model.add_module(\"fully_conn_1\", nn.Linear(4 * size * (45 // stride // mp_size) * (54 // stride // mp_size) * (45 // stride // mp_size), n_hid_units))\n",
    "        self.model.add_module(\"activation_6\", nn.ReLU(inplace=True))\n",
    "        self.model.add_module(\"dropout_1\", nn.Dropout(dropout))\n",
    "\n",
    "        self.model.add_module(\"fully_conn_2\", nn.Linear(n_hid_units, num_classes))\n",
    "\n",
    "        if use_cuda: self.model.cuda(cuda_n)\n",
    "\n",
    "            \n",
    "    def forward(self, x):\n",
    "        return self.model(x)"
   ]
  },
  {
   "cell_type": "code",
   "execution_count": 27,
   "metadata": {
    "collapsed": true
   },
   "outputs": [],
   "source": [
    "class VoxResNet_6(nn.Module):\n",
    "    def __init__(self, num_classes=2, dropout=0):\n",
    "        super(self.__class__, self).__init__()\n",
    "        self.model = nn.Sequential()\n",
    "\n",
    "        self.model.add_module(\"conv3d_1\", nn.Conv3d(1, 16, kernel_size=3, padding=1, stride=2)) # 16 * 180 * 216 * 180\n",
    "        self.model.add_module(\"batch_norm_1\", nn.BatchNorm3d(16))\n",
    "        self.model.add_module(\"activation_1\", nn.ReLU(inplace=True))\n",
    "        self.model.add_module(\"conv3d_2\", nn.Conv3d(16, 16, kernel_size=3, padding=1)) # 16 * 180 * 216 * 180\n",
    "        self.model.add_module(\"batch_norm_2\", nn.BatchNorm3d(16))\n",
    "        self.model.add_module(\"activation_2\", nn.ReLU(inplace=True))\n",
    "\n",
    "        self.model.add_module(\"conv3d_3\", nn.Conv3d(16, 32, kernel_size=3, padding=1, stride=2)) # 32 * 90 * 108 * 90\n",
    "        self.model.add_module(\"block_1\", BasicBlock(32, 32))\n",
    "        self.model.add_module(\"block_2\", BasicBlock(32, 32))\n",
    "        self.model.add_module(\"batch_norm_3\", nn.BatchNorm3d(32))\n",
    "        self.model.add_module(\"activation_3\", nn.ReLU(inplace=True))\n",
    "\n",
    "        self.model.add_module(\"conv3d_4\", nn.Conv3d(32, 32, kernel_size=3, padding=1, stride=2)) # 32 * 45 * 54 * 45\n",
    "        self.model.add_module(\"block_3\", BasicBlock(32, 32))\n",
    "        self.model.add_module(\"block_4\", BasicBlock(32, 32))\n",
    "        self.model.add_module(\"batch_norm_4\", nn.BatchNorm3d(32))\n",
    "        self.model.add_module(\"activation_4\", nn.ReLU(inplace=True))\n",
    "\n",
    "        self.model.add_module(\"conv3d_5\", nn.Conv3d(32, 64, kernel_size=3, padding=1, stride=2)) # 64 * 22 * 27 * 22\n",
    "        self.model.add_module(\"block_5\", BasicBlock(64, 64))\n",
    "        self.model.add_module(\"block_6\", BasicBlock(64, 64))\n",
    "        self.model.add_module(\"batch_norm_5\", nn.BatchNorm3d(64))\n",
    "        self.model.add_module(\"activation_5\", nn.ReLU(inplace=True))\n",
    "\n",
    "        self.model.add_module(\"max_pool3d_1\", nn.MaxPool3d(kernel_size=10)) # 64 * 2 * 2 * 2 ?\n",
    "\n",
    "        self.model.add_module(\"flatten_1\", Flatten())\n",
    "        self.model.add_module(\"fully_conn_1\", nn.Linear(64 * 2 * 2 * 2, 128))\n",
    "        self.model.add_module(\"activation_6\", nn.ReLU(inplace=True))\n",
    "        self.model.add_module(\"dropout_1\", nn.Dropout(dropout))\n",
    "\n",
    "        self.model.add_module(\"fully_conn_2\", nn.Linear(128, num_classes))\n",
    "\n",
    "        if use_cuda: self.model.cuda(cuda_n)\n",
    "\n",
    "            \n",
    "    def forward(self, x):\n",
    "        return self.model(x)"
   ]
  },
  {
   "cell_type": "code",
   "execution_count": 28,
   "metadata": {
    "collapsed": true
   },
   "outputs": [],
   "source": [
    "class VoxResNet_8(nn.Module):\n",
    "    def __init__(self, num_classes=2, dropout=0):\n",
    "        super(self.__class__, self).__init__()\n",
    "        self.model = nn.Sequential()\n",
    "\n",
    "        self.model.add_module(\"conv3d_1\", nn.Conv3d(1, 16, kernel_size=3, padding=1, stride=2)) # 16 * 180 * 216 * 180\n",
    "        self.model.add_module(\"batch_norm_1\", nn.BatchNorm3d(16))\n",
    "        self.model.add_module(\"activation_1\", nn.ReLU(inplace=True))\n",
    "        self.model.add_module(\"conv3d_2\", nn.Conv3d(16, 16, kernel_size=3, padding=1)) # 16 * 180 * 216 * 180\n",
    "        self.model.add_module(\"batch_norm_2\", nn.BatchNorm3d(16))\n",
    "        self.model.add_module(\"activation_2\", nn.ReLU(inplace=True))\n",
    "\n",
    "        self.model.add_module(\"conv3d_3\", nn.Conv3d(16, 32, kernel_size=3, padding=1, stride=2)) # 32 * 90 * 108 * 90\n",
    "        self.model.add_module(\"block_1\", BasicBlock(32, 32))\n",
    "        self.model.add_module(\"block_2\", BasicBlock(32, 32))\n",
    "        self.model.add_module(\"batch_norm_3\", nn.BatchNorm3d(32))\n",
    "        self.model.add_module(\"activation_3\", nn.ReLU(inplace=True))\n",
    "\n",
    "        self.model.add_module(\"conv3d_4\", nn.Conv3d(32, 32, kernel_size=3, padding=1, stride=2)) # 32 * 45 * 54 * 45\n",
    "        self.model.add_module(\"block_3\", BasicBlock(32, 32))\n",
    "        self.model.add_module(\"block_4\", BasicBlock(32, 32))\n",
    "        self.model.add_module(\"batch_norm_4\", nn.BatchNorm3d(32))\n",
    "        self.model.add_module(\"activation_4\", nn.ReLU(inplace=True))\n",
    "\n",
    "        self.model.add_module(\"conv3d_5\", nn.Conv3d(32, 64, kernel_size=3, padding=1, stride=2)) # 64 * 22 * 27 * 22\n",
    "        self.model.add_module(\"block_5\", BasicBlock(64, 64))\n",
    "        self.model.add_module(\"block_6\", BasicBlock(64, 64))\n",
    "        self.model.add_module(\"batch_norm_5\", nn.BatchNorm3d(64))\n",
    "        self.model.add_module(\"activation_5\", nn.ReLU(inplace=True))\n",
    "        \n",
    "        self.model.add_module(\"conv3d_6\", nn.Conv3d(64, 64, kernel_size=3, padding=1, stride=2)) # 128 * 11 * 13 * 11\n",
    "        self.model.add_module(\"block_7\", BasicBlock(64, 64))\n",
    "        self.model.add_module(\"block_8\", BasicBlock(64, 64))\n",
    "        self.model.add_module(\"batch_norm_6\", nn.BatchNorm3d(64))\n",
    "        self.model.add_module(\"activation_6\", nn.ReLU(inplace=True))\n",
    "\n",
    "        self.model.add_module(\"max_pool3d_1\", nn.MaxPool3d(kernel_size=6)) # 64 * 2 * 2 * 2 ?\n",
    "\n",
    "        self.model.add_module(\"flatten_1\", Flatten())\n",
    "        self.model.add_module(\"fully_conn_1\", nn.Linear(64 * 2 * 2 * 2, 128))\n",
    "        self.model.add_module(\"activation_6\", nn.ReLU(inplace=True))\n",
    "        self.model.add_module(\"dropout_1\", nn.Dropout(dropout))\n",
    "\n",
    "        self.model.add_module(\"fully_conn_2\", nn.Linear(128, num_classes))\n",
    "\n",
    "        if use_cuda: self.model.cuda(cuda_n)\n",
    "\n",
    "            \n",
    "    def forward(self, x):\n",
    "        return self.model(x)"
   ]
  },
  {
   "cell_type": "code",
   "execution_count": 29,
   "metadata": {
    "collapsed": true
   },
   "outputs": [],
   "source": [
    "class VoxResNet2_6(nn.Module):\n",
    "    def __init__(self, num_classes=2, dropout=0):\n",
    "        super(self.__class__, self).__init__()\n",
    "        self.model = nn.Sequential()\n",
    "\n",
    "        self.model.add_module(\"conv3d_1\", nn.Conv3d(1, 32, kernel_size=3, padding=1, stride=2)) # 32 * 90 * 108 * 90\n",
    "        self.model.add_module(\"batch_norm_1\", nn.BatchNorm3d(32))\n",
    "        self.model.add_module(\"activation_1\", nn.ReLU(inplace=True))\n",
    "        self.model.add_module(\"conv3d_2\", nn.Conv3d(32, 32, kernel_size=3, padding=1)) # 32 * 90 * 108 * 90\n",
    "        self.model.add_module(\"batch_norm_2\", nn.BatchNorm3d(32))\n",
    "        self.model.add_module(\"activation_2\", nn.ReLU(inplace=True))\n",
    "\n",
    "        self.model.add_module(\"conv3d_3\", nn.Conv3d(32, 64, kernel_size=3, padding=1, stride=2)) # 64 * 45 * 54 * 45\n",
    "        self.model.add_module(\"block_1\", BasicBlock(64, 64))\n",
    "        self.model.add_module(\"block_2\", BasicBlock(64, 64))\n",
    "        self.model.add_module(\"batch_norm_3\", nn.BatchNorm3d(64))\n",
    "        self.model.add_module(\"activation_3\", nn.ReLU(inplace=True))\n",
    "\n",
    "        self.model.add_module(\"conv3d_4\", nn.Conv3d(64, 64, kernel_size=3, padding=1, stride=2)) # 64 * 22 * 27 * 22\n",
    "        self.model.add_module(\"block_3\", BasicBlock(64, 64))\n",
    "        self.model.add_module(\"block_4\", BasicBlock(64, 64))\n",
    "        self.model.add_module(\"batch_norm_4\", nn.BatchNorm3d(64))\n",
    "        self.model.add_module(\"activation_4\", nn.ReLU(inplace=True))\n",
    "\n",
    "        self.model.add_module(\"conv3d_5\", nn.Conv3d(64, 128, kernel_size=3, padding=1, stride=2)) # 128 * 11 * 13 * 11\n",
    "        self.model.add_module(\"block_5\", BasicBlock(128, 128))\n",
    "        self.model.add_module(\"block_6\", BasicBlock(128, 128))\n",
    "        self.model.add_module(\"batch_norm_5\", nn.BatchNorm3d(128))\n",
    "        self.model.add_module(\"activation_5\", nn.ReLU(inplace=True))\n",
    "\n",
    "        self.model.add_module(\"max_pool3d_1\", nn.MaxPool3d(kernel_size=6)) # 128 * 2 * 2 * 2 ?\n",
    "\n",
    "        self.model.add_module(\"flatten_1\", Flatten())\n",
    "        self.model.add_module(\"fully_conn_1\", nn.Linear(128 * 2 * 2 * 2, 128))\n",
    "        self.model.add_module(\"activation_6\", nn.ReLU(inplace=True))\n",
    "        self.model.add_module(\"dropout_1\", nn.Dropout(dropout))\n",
    "\n",
    "        self.model.add_module(\"fully_conn_2\", nn.Linear(128, num_classes))\n",
    "\n",
    "        if use_cuda: self.model.cuda(cuda_n)\n",
    "\n",
    "            \n",
    "    def forward(self, x):\n",
    "        return self.model(x)"
   ]
  },
  {
   "cell_type": "code",
   "execution_count": 30,
   "metadata": {
    "collapsed": true
   },
   "outputs": [],
   "source": [
    "class VoxResNet2_8(nn.Module):\n",
    "    def __init__(self, num_classes=2, dropout=0):\n",
    "        super(self.__class__, self).__init__()\n",
    "        self.model = nn.Sequential()\n",
    "\n",
    "        self.model.add_module(\"conv3d_1\", nn.Conv3d(1, 32, kernel_size=3, padding=1, stride=2)) # 32 * 90 * 108 * 90\n",
    "        self.model.add_module(\"batch_norm_1\", nn.BatchNorm3d(32))\n",
    "        self.model.add_module(\"activation_1\", nn.ReLU(inplace=True))\n",
    "        self.model.add_module(\"conv3d_2\", nn.Conv3d(32, 32, kernel_size=3, padding=1)) # 32 * 90 * 108 * 90\n",
    "        self.model.add_module(\"batch_norm_2\", nn.BatchNorm3d(32))\n",
    "        self.model.add_module(\"activation_2\", nn.ReLU(inplace=True))\n",
    "\n",
    "        self.model.add_module(\"conv3d_3\", nn.Conv3d(32, 64, kernel_size=3, padding=1, stride=2)) # 64 * 45 * 54 * 45\n",
    "        self.model.add_module(\"block_1\", BasicBlock(64, 64))\n",
    "        self.model.add_module(\"block_2\", BasicBlock(64, 64))\n",
    "        self.model.add_module(\"batch_norm_3\", nn.BatchNorm3d(64))\n",
    "        self.model.add_module(\"activation_3\", nn.ReLU(inplace=True))\n",
    "\n",
    "        self.model.add_module(\"conv3d_4\", nn.Conv3d(64, 64, kernel_size=3, padding=1, stride=2)) # 64 * 22 * 27 * 22\n",
    "        self.model.add_module(\"block_3\", BasicBlock(64, 64))\n",
    "        self.model.add_module(\"block_4\", BasicBlock(64, 64))\n",
    "        self.model.add_module(\"batch_norm_4\", nn.BatchNorm3d(64))\n",
    "        self.model.add_module(\"activation_4\", nn.ReLU(inplace=True))\n",
    "\n",
    "        self.model.add_module(\"conv3d_5\", nn.Conv3d(64, 128, kernel_size=3, padding=1, stride=2)) # 128 * 11 * 13 * 11\n",
    "        self.model.add_module(\"block_5\", BasicBlock(128, 128))\n",
    "        self.model.add_module(\"block_6\", BasicBlock(128, 128))\n",
    "        self.model.add_module(\"batch_norm_5\", nn.BatchNorm3d(128))\n",
    "        self.model.add_module(\"activation_5\", nn.ReLU(inplace=True))\n",
    "\n",
    "        self.model.add_module(\"conv3d_6\", nn.Conv3d(128, 128, kernel_size=3, padding=1, stride=2)) # 128 * 6 * 7 * 6\n",
    "        self.model.add_module(\"block_7\", BasicBlock(128, 128))\n",
    "        self.model.add_module(\"block_8\", BasicBlock(128, 128))\n",
    "        self.model.add_module(\"batch_norm_6\", nn.BatchNorm3d(128))\n",
    "        self.model.add_module(\"activation_6\", nn.ReLU(inplace=True))\n",
    "\n",
    "        self.model.add_module(\"max_pool3d_1\", nn.MaxPool3d(kernel_size=3)) # 128 * 2 * 2 * 2 ?\n",
    "        \n",
    "        self.model.add_module(\"flatten_1\", Flatten())\n",
    "        self.model.add_module(\"fully_conn_1\", nn.Linear(128 * 2 * 2 * 2, 128))\n",
    "        self.model.add_module(\"activation_6\", nn.ReLU(inplace=True))\n",
    "        self.model.add_module(\"dropout_1\", nn.Dropout(dropout))\n",
    "\n",
    "        self.model.add_module(\"fully_conn_2\", nn.Linear(128, num_classes))\n",
    "\n",
    "        if use_cuda: self.model.cuda(cuda_n)\n",
    "\n",
    "            \n",
    "    def forward(self, x):\n",
    "        return self.model(x)"
   ]
  },
  {
   "cell_type": "code",
   "execution_count": null,
   "metadata": {
    "collapsed": true
   },
   "outputs": [],
   "source": []
  },
  {
   "cell_type": "code",
   "execution_count": 35,
   "metadata": {
    "collapsed": true
   },
   "outputs": [],
   "source": [
    "def ensure_dir(file_path):\n",
    "    directory = os.path.dirname(file_path)\n",
    "#     print(directory)\n",
    "    if directory != \"\" and not os.path.exists(directory):\n",
    "        os.makedirs(directory)\n",
    "#         print(\"done\")"
   ]
  },
  {
   "cell_type": "code",
   "execution_count": 36,
   "metadata": {
    "collapsed": true
   },
   "outputs": [],
   "source": [
    "def save_res(res, path):\n",
    "    ensure_dir(path)\n",
    "    with open(path, \"w\") as f:\n",
    "        f.write(str(res))"
   ]
  },
  {
   "cell_type": "code",
   "execution_count": 37,
   "metadata": {
    "collapsed": true
   },
   "outputs": [],
   "source": [
    "def load_res(path):\n",
    "    with open(path) as f:\n",
    "        res = f.read()\n",
    "    return eval(res)"
   ]
  },
  {
   "cell_type": "code",
   "execution_count": 38,
   "metadata": {},
   "outputs": [
    {
     "name": "stderr",
     "output_type": "stream",
     "text": [
      "100%|██████████| 90/90 [00:00<00:00, 839.61it/s]\n"
     ]
    }
   ],
   "source": [
    "# all fmri\n",
    "mri_l = [load_nii_to_array(f) for f in tqdm(mri_files)]"
   ]
  },
  {
   "cell_type": "code",
   "execution_count": null,
   "metadata": {
    "collapsed": true
   },
   "outputs": [],
   "source": []
  },
  {
   "cell_type": "markdown",
   "metadata": {},
   "source": [
    "### 32(s2) - 64 - 64 - 128 - MP(6) - 128-D"
   ]
  },
  {
   "cell_type": "code",
   "execution_count": 48,
   "metadata": {},
   "outputs": [
    {
     "name": "stdout",
     "output_type": "stream",
     "text": [
      "('test auc mean:', 0.6896090534979424)\n",
      "('test auc std:', 0.11228651647721263)\n",
      "[0.74, 0.69, 0.53, 0.85, 0.67, 0.59, 0.83, 0.53, 0.88, 0.65, 0.6, 0.6, 0.85, 0.68, 0.65]\n"
     ]
    }
   ],
   "source": [
    "# D = 0\n",
    "problem = \"E/no E\"\n",
    "problem_label = \"E\"\n",
    "idx = labels[problem].notnull()\n",
    "label = pd.Series(labels[problem] == label_to_idx[problem_label], dtype=np.int64)[idx]\n",
    "cv = RepeatedStratifiedKFold(n_splits=5, n_repeats=3, random_state=42)\n",
    "cv_splits = list(cv.split(X=label.index, y=label))\n",
    "\n",
    "dropout = 0\n",
    "problem_name = \"voxresnet_mprage_32-64-64-128-MP-128-BN-D({})_b(5)\".format(dropout)\n",
    "\n",
    "train_loss_l = load_res(problem_name + \"/train_loss_\" + problem.replace(\"/\", \"_\"))\n",
    "val_loss_l = load_res(problem_name + \"/val_loss_\" + problem.replace(\"/\", \"_\"))\n",
    "train_auc_l = load_res(problem_name + \"/train_auc_\" + problem.replace(\"/\", \"_\"))\n",
    "val_auc_l = load_res(problem_name + \"/val_auc_\" + problem.replace(\"/\", \"_\"))\n",
    "val_last_probs_l = load_res(problem_name + \"/val_last_probs_\" + problem.replace(\"/\", \"_\"))\n",
    "test_auc = list(map(lambda x: x[-1], val_auc_l))\n",
    "print(\"test auc mean:\", np.mean(test_auc))\n",
    "print(\"test auc std:\", np.std(test_auc))\n",
    "print(list(map(lambda x: np.round(x, 2), test_auc)))"
   ]
  },
  {
   "cell_type": "code",
   "execution_count": 47,
   "metadata": {},
   "outputs": [
    {
     "data": {
      "image/png": "[encoded data removed]",
      "text/plain": [
       "<Figure size 720x360 with 2 Axes>"
      ]
     },
     "metadata": {},
     "output_type": "display_data"
    },
    {
     "name": "stdout",
     "output_type": "stream",
     "text": [
      "Epoch 9 of 400 took 19.991s\n",
      "  training loss (in-iteration): \t0.000898\n",
      "  validation loss: \t\t\t0.645507\n",
      "  training AUC: \t\t\t100.00 %\n",
      "  validation AUC: \t\t\t65.28 %\n",
      "('test auc mean:', 0.6896090534979424)\n",
      "('test auc std:', 0.11228651647721263)\n"
     ]
    }
   ],
   "source": [
    "# D = 0\n",
    "problem = \"E/no E\"\n",
    "problem_label = \"E\"\n",
    "idx = labels[problem].notnull()\n",
    "label = pd.Series(labels[problem] == label_to_idx[problem_label], dtype=np.int64)[idx]\n",
    "cv = RepeatedStratifiedKFold(n_splits=5, n_repeats=3, random_state=42)\n",
    "cv_splits = list(cv.split(X=label.index, y=label))\n",
    "\n",
    "train_loss_l = []\n",
    "val_loss_l = []\n",
    "train_auc_l = []\n",
    "val_auc_l = []\n",
    "val_last_probs_l = []\n",
    "test_auc = []\n",
    "\n",
    "dropout = 0\n",
    "learning_rate = 1e-4\n",
    "batch_size = 5\n",
    "num_epochs = 400\n",
    "\n",
    "problem_name = \"voxresnet_mprage_32-64-64-128-MP-128-BN-D({})_b(5)\".format(dropout)\n",
    "\n",
    "for i in range(len(test_auc), len(cv_splits)):\n",
    "    tr_idx, te_idx = cv_splits[i]\n",
    "    train_idx = label.index[tr_idx]\n",
    "    test_idx = label.index[te_idx]\n",
    "    \n",
    "    model = VoxResNet2_6(dropout=dropout)\n",
    "    opt = torch.optim.Adam(model.parameters(), lr=learning_rate)\n",
    "    mean_train_loss, mean_val_loss, mean_train_auc, mean_val_auc, last_val_probs = train(model, opt, train_idx, test_idx, mri_l, label, batch_size=batch_size, num_epochs=num_epochs, epsilon=1e-3, vis_img_idx=train_idx[0], vis_layers=[])\n",
    "    \n",
    "    train_loss_l.append(mean_train_loss)\n",
    "    val_loss_l.append(mean_val_loss)\n",
    "    train_auc_l.append(mean_train_auc)\n",
    "    val_auc_l.append(mean_val_auc)\n",
    "    val_last_probs_l.append(last_val_probs)\n",
    "    test_auc.append(mean_val_auc[-1])\n",
    "\n",
    "    save_res(train_loss_l, problem_name  + \"/\" + \"train_loss_\" + problem.replace(\"/\", \"_\"))\n",
    "    save_res(val_loss_l, problem_name  + \"/\" + \"val_loss_\" + problem.replace(\"/\", \"_\"))\n",
    "    save_res(train_auc_l, problem_name  + \"/\" + \"train_auc_\" + problem.replace(\"/\", \"_\"))\n",
    "    save_res(val_auc_l, problem_name  + \"/\" + \"val_auc_\" + problem.replace(\"/\", \"_\"))\n",
    "    save_res(val_last_probs_l, problem_name  + \"/\" + \"val_last_probs_\" + problem.replace(\"/\", \"_\"))\n",
    "    \n",
    "print(\"test auc mean:\", np.mean(test_auc))\n",
    "print(\"test auc std:\", np.std(test_auc))"
   ]
  },
  {
   "cell_type": "code",
   "execution_count": null,
   "metadata": {
    "collapsed": true
   },
   "outputs": [],
   "source": []
  },
  {
   "cell_type": "code",
   "execution_count": 52,
   "metadata": {},
   "outputs": [
    {
     "name": "stdout",
     "output_type": "stream",
     "text": [
      "('test auc mean:', 0.6878189300411522)\n",
      "('test auc std:', 0.13267718191826133)\n",
      "[0.67, 0.76, 0.46, 0.93, 0.65, 0.74, 0.68, 0.6, 0.67, 0.65, 0.67, 0.41, 0.89, 0.74, 0.81]\n"
     ]
    }
   ],
   "source": [
    "# D = 0.3\n",
    "problem = \"E/no E\"\n",
    "problem_label = \"E\"\n",
    "idx = labels[problem].notnull()\n",
    "label = pd.Series(labels[problem] == label_to_idx[problem_label], dtype=np.int64)[idx]\n",
    "cv = RepeatedStratifiedKFold(n_splits=5, n_repeats=3, random_state=42)\n",
    "cv_splits = list(cv.split(X=label.index, y=label))\n",
    "\n",
    "dropout = 0.3\n",
    "problem_name = \"voxresnet_mprage_32-64-64-128-MP-128-BN-D({})_b(5)\".format(dropout)\n",
    "\n",
    "train_loss_l = load_res(problem_name + \"/train_loss_\" + problem.replace(\"/\", \"_\"))\n",
    "val_loss_l = load_res(problem_name + \"/val_loss_\" + problem.replace(\"/\", \"_\"))\n",
    "train_auc_l = load_res(problem_name + \"/train_auc_\" + problem.replace(\"/\", \"_\"))\n",
    "val_auc_l = load_res(problem_name + \"/val_auc_\" + problem.replace(\"/\", \"_\"))\n",
    "val_last_probs_l = load_res(problem_name + \"/val_last_probs_\" + problem.replace(\"/\", \"_\"))\n",
    "test_auc = list(map(lambda x: x[-1], val_auc_l))\n",
    "print(\"test auc mean:\", np.mean(test_auc))\n",
    "print(\"test auc std:\", np.std(test_auc))\n",
    "print(list(map(lambda x: np.round(x, 2), test_auc)))"
   ]
  },
  {
   "cell_type": "code",
   "execution_count": 50,
   "metadata": {
    "scrolled": true
   },
   "outputs": [
    {
     "data": {
      "image/png": "[encoded data removed]",
      "text/plain": [
       "<Figure size 720x360 with 2 Axes>"
      ]
     },
     "metadata": {},
     "output_type": "display_data"
    },
    {
     "name": "stdout",
     "output_type": "stream",
     "text": [
      "Epoch 20 of 400 took 19.125s\n",
      "  training loss (in-iteration): \t0.000968\n",
      "  validation loss: \t\t\t0.622535\n",
      "  training AUC: \t\t\t100.00 %\n",
      "  validation AUC: \t\t\t80.56 %\n",
      "('test auc mean:', 0.6878189300411522)\n",
      "('test auc std:', 0.13267718191826133)\n"
     ]
    }
   ],
   "source": [
    "# D = 0.3\n",
    "problem = \"E/no E\"\n",
    "problem_label = \"E\"\n",
    "idx = labels[problem].notnull()\n",
    "label = pd.Series(labels[problem] == label_to_idx[problem_label], dtype=np.int64)[idx]\n",
    "cv = RepeatedStratifiedKFold(n_splits=5, n_repeats=3, random_state=42)\n",
    "cv_splits = list(cv.split(X=label.index, y=label))\n",
    "\n",
    "train_loss_l = []\n",
    "val_loss_l = []\n",
    "train_auc_l = []\n",
    "val_auc_l = []\n",
    "val_last_probs_l = []\n",
    "test_auc = []\n",
    "\n",
    "dropout = 0.3\n",
    "learning_rate = 1e-4\n",
    "batch_size = 5\n",
    "num_epochs = 400\n",
    "\n",
    "problem_name = \"voxresnet_mprage_32-64-64-128-MP-128-BN-D({})_b(5)\".format(dropout)\n",
    "\n",
    "for i in range(len(test_auc), len(cv_splits)):\n",
    "    tr_idx, te_idx = cv_splits[i]\n",
    "    train_idx = label.index[tr_idx]\n",
    "    test_idx = label.index[te_idx]\n",
    "    \n",
    "    model = VoxResNet2_6(dropout=dropout)\n",
    "    opt = torch.optim.Adam(model.parameters(), lr=learning_rate)\n",
    "    mean_train_loss, mean_val_loss, mean_train_auc, mean_val_auc, last_val_probs = train(model, opt, train_idx, test_idx, mri_l, label, batch_size=batch_size, num_epochs=num_epochs, epsilon=1e-3, vis_img_idx=train_idx[0], vis_layers=[])\n",
    "    \n",
    "    train_loss_l.append(mean_train_loss)\n",
    "    val_loss_l.append(mean_val_loss)\n",
    "    train_auc_l.append(mean_train_auc)\n",
    "    val_auc_l.append(mean_val_auc)\n",
    "    val_last_probs_l.append(last_val_probs)\n",
    "    test_auc.append(mean_val_auc[-1])\n",
    "\n",
    "    save_res(train_loss_l, problem_name  + \"/\" + \"train_loss_\" + problem.replace(\"/\", \"_\"))\n",
    "    save_res(val_loss_l, problem_name  + \"/\" + \"val_loss_\" + problem.replace(\"/\", \"_\"))\n",
    "    save_res(train_auc_l, problem_name  + \"/\" + \"train_auc_\" + problem.replace(\"/\", \"_\"))\n",
    "    save_res(val_auc_l, problem_name  + \"/\" + \"val_auc_\" + problem.replace(\"/\", \"_\"))\n",
    "    save_res(val_last_probs_l, problem_name  + \"/\" + \"val_last_probs_\" + problem.replace(\"/\", \"_\"))\n",
    "    \n",
    "print(\"test auc mean:\", np.mean(test_auc))\n",
    "print(\"test auc std:\", np.std(test_auc))"
   ]
  },
  {
   "cell_type": "code",
   "execution_count": null,
   "metadata": {
    "collapsed": true
   },
   "outputs": [],
   "source": []
  },
  {
   "cell_type": "code",
   "execution_count": 55,
   "metadata": {},
   "outputs": [
    {
     "name": "stdout",
     "output_type": "stream",
     "text": [
      "('test auc mean:', 0.6802263374485596)\n",
      "('test auc std:', 0.11826235104451185)\n",
      "[0.66, 0.67, 0.51, 0.85, 0.51, 0.58, 0.82, 0.75, 0.62, 0.74, 0.79, 0.48, 0.69, 0.69, 0.85]\n"
     ]
    }
   ],
   "source": [
    "# D = 0.5\n",
    "problem = \"E/no E\"\n",
    "problem_label = \"E\"\n",
    "idx = labels[problem].notnull()\n",
    "label = pd.Series(labels[problem] == label_to_idx[problem_label], dtype=np.int64)[idx]\n",
    "cv = RepeatedStratifiedKFold(n_splits=5, n_repeats=3, random_state=42)\n",
    "cv_splits = list(cv.split(X=label.index, y=label))\n",
    "\n",
    "dropout = 0.5\n",
    "problem_name = \"voxresnet_mprage_32-64-64-128-MP-128-BN-D({})_b(5)\".format(dropout)\n",
    "\n",
    "train_loss_l = load_res(problem_name + \"/train_loss_\" + problem.replace(\"/\", \"_\"))\n",
    "val_loss_l = load_res(problem_name + \"/val_loss_\" + problem.replace(\"/\", \"_\"))\n",
    "train_auc_l = load_res(problem_name + \"/train_auc_\" + problem.replace(\"/\", \"_\"))\n",
    "val_auc_l = load_res(problem_name + \"/val_auc_\" + problem.replace(\"/\", \"_\"))\n",
    "val_last_probs_l = load_res(problem_name + \"/val_last_probs_\" + problem.replace(\"/\", \"_\"))\n",
    "test_auc = list(map(lambda x: x[-1], val_auc_l))\n",
    "print(\"test auc mean:\", np.mean(test_auc))\n",
    "print(\"test auc std:\", np.std(test_auc))\n",
    "print(list(map(lambda x: np.round(x, 2), test_auc)))"
   ]
  },
  {
   "cell_type": "code",
   "execution_count": 54,
   "metadata": {},
   "outputs": [
    {
     "data": {
      "image/png": "[encoded data removed]",
      "text/plain": [
       "<Figure size 720x360 with 2 Axes>"
      ]
     },
     "metadata": {},
     "output_type": "display_data"
    },
    {
     "name": "stdout",
     "output_type": "stream",
     "text": [
      "Epoch 26 of 400 took 19.842s\n",
      "  training loss (in-iteration): \t0.000553\n",
      "  validation loss: \t\t\t0.459431\n",
      "  training AUC: \t\t\t100.00 %\n",
      "  validation AUC: \t\t\t84.72 %\n",
      "('test auc mean:', 0.6802263374485596)\n",
      "('test auc std:', 0.11826235104451185)\n"
     ]
    }
   ],
   "source": [
    "# D = 0.5\n",
    "problem = \"E/no E\"\n",
    "problem_label = \"E\"\n",
    "idx = labels[problem].notnull()\n",
    "label = pd.Series(labels[problem] == label_to_idx[problem_label], dtype=np.int64)[idx]\n",
    "cv = RepeatedStratifiedKFold(n_splits=5, n_repeats=3, random_state=42)\n",
    "cv_splits = list(cv.split(X=label.index, y=label))\n",
    "\n",
    "train_loss_l = []\n",
    "val_loss_l = []\n",
    "train_auc_l = []\n",
    "val_auc_l = []\n",
    "val_last_probs_l = []\n",
    "test_auc = []\n",
    "\n",
    "dropout = 0.5\n",
    "learning_rate = 1e-4\n",
    "batch_size = 5\n",
    "num_epochs = 400\n",
    "\n",
    "problem_name = \"voxresnet_mprage_32-64-64-128-MP-128-BN-D({})_b(5)\".format(dropout)\n",
    "\n",
    "for i in range(len(test_auc), len(cv_splits)):\n",
    "    tr_idx, te_idx = cv_splits[i]\n",
    "    train_idx = label.index[tr_idx]\n",
    "    test_idx = label.index[te_idx]\n",
    "    \n",
    "    model = VoxResNet2_6(dropout=dropout)\n",
    "    opt = torch.optim.Adam(model.parameters(), lr=learning_rate)\n",
    "    mean_train_loss, mean_val_loss, mean_train_auc, mean_val_auc, last_val_probs = train(model, opt, train_idx, test_idx, mri_l, label, batch_size=batch_size, num_epochs=num_epochs, epsilon=1e-3, vis_img_idx=train_idx[0], vis_layers=[])\n",
    "    \n",
    "    train_loss_l.append(mean_train_loss)\n",
    "    val_loss_l.append(mean_val_loss)\n",
    "    train_auc_l.append(mean_train_auc)\n",
    "    val_auc_l.append(mean_val_auc)\n",
    "    val_last_probs_l.append(last_val_probs)\n",
    "    test_auc.append(mean_val_auc[-1])\n",
    "\n",
    "    save_res(train_loss_l, problem_name  + \"/\" + \"train_loss_\" + problem.replace(\"/\", \"_\"))\n",
    "    save_res(val_loss_l, problem_name  + \"/\" + \"val_loss_\" + problem.replace(\"/\", \"_\"))\n",
    "    save_res(train_auc_l, problem_name  + \"/\" + \"train_auc_\" + problem.replace(\"/\", \"_\"))\n",
    "    save_res(val_auc_l, problem_name  + \"/\" + \"val_auc_\" + problem.replace(\"/\", \"_\"))\n",
    "    save_res(val_last_probs_l, problem_name  + \"/\" + \"val_last_probs_\" + problem.replace(\"/\", \"_\"))\n",
    "    \n",
    "print(\"test auc mean:\", np.mean(test_auc))\n",
    "print(\"test auc std:\", np.std(test_auc))"
   ]
  },
  {
   "cell_type": "markdown",
   "metadata": {},
   "source": [
    "### 32(s2) - 64 - 64 - 128 - 128 - MP(3) - 128-D"
   ]
  },
  {
   "cell_type": "code",
   "execution_count": 41,
   "metadata": {},
   "outputs": [
    {
     "data": {
      "image/png": "[encoded data removed]",
      "text/plain": [
       "<matplotlib.figure.Figure at 0x7fae28e5fb10>"
      ]
     },
     "metadata": {},
     "output_type": "display_data"
    },
    {
     "name": "stdout",
     "output_type": "stream",
     "text": [
      "Epoch 10 of 400 took 20.210s\n",
      "  training loss (in-iteration): \t0.000898\n",
      "  validation loss: \t\t\t0.527794\n",
      "  training AUC: \t\t\t100.00 %\n",
      "  validation AUC: \t\t\t76.39 %\n",
      "('test auc mean:', 0.684835390946502)\n",
      "('test auc std:', 0.09971896104413708)\n"
     ]
    }
   ],
   "source": [
    "# D = 0\n",
    "problem = \"E/no E\"\n",
    "problem_label = \"E\"\n",
    "idx = labels[problem].notnull()\n",
    "label = pd.Series(labels[problem] == label_to_idx[problem_label], dtype=np.int64)[idx]\n",
    "cv = RepeatedStratifiedKFold(n_splits=5, n_repeats=3, random_state=42)\n",
    "cv_splits = list(cv.split(X=label.index, y=label))\n",
    "\n",
    "# train_loss_l = []\n",
    "# val_loss_l = []\n",
    "# train_auc_l = []\n",
    "# val_auc_l = []\n",
    "# val_last_probs_l = []\n",
    "# test_auc = []\n",
    "\n",
    "dropout = 0\n",
    "learning_rate = 1e-4\n",
    "batch_size = 5\n",
    "num_epochs = 400\n",
    "\n",
    "problem_name = \"voxresnet_mprage_32-64-64-128-128-MP-128-BN-D({})_b(5)\".format(dropout)\n",
    "\n",
    "for i in range(len(test_auc), len(cv_splits)):\n",
    "    tr_idx, te_idx = cv_splits[i]\n",
    "    train_idx = label.index[tr_idx]\n",
    "    test_idx = label.index[te_idx]\n",
    "    \n",
    "    model = VoxResNet2_8(dropout=dropout)\n",
    "    opt = torch.optim.Adam(model.parameters(), lr=learning_rate)\n",
    "    mean_train_loss, mean_val_loss, mean_train_auc, mean_val_auc, last_val_probs = train(model, opt, train_idx, test_idx, mri_l, label, batch_size=batch_size, num_epochs=num_epochs, epsilon=1e-3, vis_img_idx=train_idx[0], vis_layers=[])\n",
    "    \n",
    "    train_loss_l.append(mean_train_loss)\n",
    "    val_loss_l.append(mean_val_loss)\n",
    "    train_auc_l.append(mean_train_auc)\n",
    "    val_auc_l.append(mean_val_auc)\n",
    "    val_last_probs_l.append(last_val_probs)\n",
    "    test_auc.append(mean_val_auc[-1])\n",
    "\n",
    "    save_res(train_loss_l, problem_name  + \"/\" + \"train_loss_\" + problem.replace(\"/\", \"_\"))\n",
    "    save_res(val_loss_l, problem_name  + \"/\" + \"val_loss_\" + problem.replace(\"/\", \"_\"))\n",
    "    save_res(train_auc_l, problem_name  + \"/\" + \"train_auc_\" + problem.replace(\"/\", \"_\"))\n",
    "    save_res(val_auc_l, problem_name  + \"/\" + \"val_auc_\" + problem.replace(\"/\", \"_\"))\n",
    "    save_res(val_last_probs_l, problem_name  + \"/\" + \"val_last_probs_\" + problem.replace(\"/\", \"_\"))\n",
    "    \n",
    "print(\"test auc mean:\", np.mean(test_auc))\n",
    "print(\"test auc std:\", np.std(test_auc))"
   ]
  },
  {
   "cell_type": "code",
   "execution_count": 39,
   "metadata": {},
   "outputs": [
    {
     "name": "stdout",
     "output_type": "stream",
     "text": [
      "[0.54, 0.72, 0.7, 0.82, 0.74, 0.64, 0.76, 0.6, 0.88, 0.72, 0.66, 0.54, 0.67, 0.51, 0.76]\n"
     ]
    }
   ],
   "source": [
    "test_auc = [0.5444444444444444,\n",
    " 0.7222222222222222,\n",
    " 0.7037037037037037,\n",
    " 0.8194444444444444,\n",
    " 0.7361111111111112,\n",
    " 0.6444444444444445,\n",
    " 0.7555555555555555,\n",
    " 0.6049382716049383,\n",
    " 0.875,\n",
    " 0.7222222222222222,\n",
    " 0.6555555555555556,\n",
    " 0.5444444444444444,\n",
    " 0.6666666666666667,\n",
    " 0.513888888888889,\n",
    " 0.7638888888888888]\n",
    "print(list(map(lambda x: np.round(x, 2), test_auc)))"
   ]
  },
  {
   "cell_type": "code",
   "execution_count": null,
   "metadata": {
    "collapsed": true
   },
   "outputs": [],
   "source": []
  },
  {
   "cell_type": "code",
   "execution_count": 40,
   "metadata": {},
   "outputs": [
    {
     "name": "stdout",
     "output_type": "stream",
     "text": [
      "('test auc mean:', 0.6912139917695475)\n",
      "('test auc std:', 0.09168657324045705)\n",
      "[0.71, 0.67, 0.48, 0.82, 0.79, 0.66, 0.59, 0.62, 0.79, 0.65, 0.68, 0.62, 0.78, 0.81, 0.71]\n"
     ]
    }
   ],
   "source": [
    "# D = 0.3\n",
    "problem = \"E/no E\"\n",
    "problem_label = \"E\"\n",
    "idx = labels[problem].notnull()\n",
    "label = pd.Series(labels[problem] == label_to_idx[problem_label], dtype=np.int64)[idx]\n",
    "cv = RepeatedStratifiedKFold(n_splits=5, n_repeats=3, random_state=42)\n",
    "cv_splits = list(cv.split(X=label.index, y=label))\n",
    "\n",
    "dropout = 0.3\n",
    "problem_name = \"voxresnet_mprage_32-64-64-128-128-MP-128-BN-D({})_(5)\".format(dropout)\n",
    "\n",
    "train_loss_l = load_res(problem_name + \"/train_loss_\" + problem.replace(\"/\", \"_\"))\n",
    "val_loss_l = load_res(problem_name + \"/val_loss_\" + problem.replace(\"/\", \"_\"))\n",
    "train_auc_l = load_res(problem_name + \"/train_auc_\" + problem.replace(\"/\", \"_\"))\n",
    "val_auc_l = load_res(problem_name + \"/val_auc_\" + problem.replace(\"/\", \"_\"))\n",
    "val_last_probs_l = load_res(problem_name + \"/val_last_probs_\" + problem.replace(\"/\", \"_\"))\n",
    "test_auc = list(map(lambda x: x[-1], val_auc_l))\n",
    "print(\"test auc mean:\", np.mean(test_auc))\n",
    "print(\"test auc std:\", np.std(test_auc))\n",
    "print(list(map(lambda x: np.round(x, 2), test_auc)))"
   ]
  },
  {
   "cell_type": "code",
   "execution_count": 36,
   "metadata": {
    "scrolled": true
   },
   "outputs": [
    {
     "data": {
      "image/png": "[encoded data removed]",
      "text/plain": [
       "<matplotlib.figure.Figure at 0x7faec4efe3d0>"
      ]
     },
     "metadata": {},
     "output_type": "display_data"
    },
    {
     "name": "stdout",
     "output_type": "stream",
     "text": [
      "Epoch 12 of 400 took 20.109s\n",
      "  training loss (in-iteration): \t0.000825\n",
      "  validation loss: \t\t\t0.682482\n",
      "  training AUC: \t\t\t100.00 %\n",
      "  validation AUC: \t\t\t70.83 %\n",
      "('test auc mean:', 0.6912139917695475)\n",
      "('test auc std:', 0.09168657324045705)\n"
     ]
    }
   ],
   "source": [
    "# D = 0.3\n",
    "problem = \"E/no E\"\n",
    "problem_label = \"E\"\n",
    "idx = labels[problem].notnull()\n",
    "label = pd.Series(labels[problem] == label_to_idx[problem_label], dtype=np.int64)[idx]\n",
    "cv = RepeatedStratifiedKFold(n_splits=5, n_repeats=3, random_state=42)\n",
    "cv_splits = list(cv.split(X=label.index, y=label))\n",
    "\n",
    "train_loss_l = []\n",
    "val_loss_l = []\n",
    "train_auc_l = []\n",
    "val_auc_l = []\n",
    "val_last_probs_l = []\n",
    "test_auc = []\n",
    "\n",
    "dropout = 0.3\n",
    "learning_rate = 1e-4\n",
    "batch_size = 5\n",
    "num_epochs = 400\n",
    "\n",
    "problem_name = \"voxresnet_mprage_32-64-64-128-128-MP-128-BN-D({})_(5)\".format(dropout)\n",
    "\n",
    "for i in range(len(test_auc), len(cv_splits)):\n",
    "    tr_idx, te_idx = cv_splits[i]\n",
    "    train_idx = label.index[tr_idx]\n",
    "    test_idx = label.index[te_idx]\n",
    "    \n",
    "    model = VoxResNet2_8(dropout=dropout)\n",
    "    opt = torch.optim.Adam(model.parameters(), lr=learning_rate)\n",
    "    mean_train_loss, mean_val_loss, mean_train_auc, mean_val_auc, last_val_probs = train(model, opt, train_idx, test_idx, mri_l, label, batch_size=batch_size, num_epochs=num_epochs, epsilon=1e-3, vis_img_idx=train_idx[0], vis_layers=[])\n",
    "    \n",
    "    train_loss_l.append(mean_train_loss)\n",
    "    val_loss_l.append(mean_val_loss)\n",
    "    train_auc_l.append(mean_train_auc)\n",
    "    val_auc_l.append(mean_val_auc)\n",
    "    val_last_probs_l.append(last_val_probs)\n",
    "    test_auc.append(mean_val_auc[-1])\n",
    "\n",
    "    save_res(train_loss_l, problem_name  + \"/\" + \"train_loss_\" + problem.replace(\"/\", \"_\"))\n",
    "    save_res(val_loss_l, problem_name  + \"/\" + \"val_loss_\" + problem.replace(\"/\", \"_\"))\n",
    "    save_res(train_auc_l, problem_name  + \"/\" + \"train_auc_\" + problem.replace(\"/\", \"_\"))\n",
    "    save_res(val_auc_l, problem_name  + \"/\" + \"val_auc_\" + problem.replace(\"/\", \"_\"))\n",
    "    save_res(val_last_probs_l, problem_name  + \"/\" + \"val_last_probs_\" + problem.replace(\"/\", \"_\"))\n",
    "    \n",
    "print(\"test auc mean:\", np.mean(test_auc))\n",
    "print(\"test auc std:\", np.std(test_auc))"
   ]
  },
  {
   "cell_type": "code",
   "execution_count": 37,
   "metadata": {
    "scrolled": true
   },
   "outputs": [
    {
     "data": {
      "text/plain": [
       "[0.71,\n",
       " 0.67,\n",
       " 0.48,\n",
       " 0.82,\n",
       " 0.79,\n",
       " 0.66,\n",
       " 0.59,\n",
       " 0.62,\n",
       " 0.79,\n",
       " 0.65,\n",
       " 0.68,\n",
       " 0.62,\n",
       " 0.78,\n",
       " 0.81,\n",
       " 0.71]"
      ]
     },
     "execution_count": 37,
     "metadata": {},
     "output_type": "execute_result"
    }
   ],
   "source": [
    "list(map(lambda x: np.round(x, 2), test_auc))"
   ]
  },
  {
   "cell_type": "code",
   "execution_count": null,
   "metadata": {
    "collapsed": true
   },
   "outputs": [],
   "source": []
  },
  {
   "cell_type": "code",
   "execution_count": 41,
   "metadata": {},
   "outputs": [
    {
     "name": "stdout",
     "output_type": "stream",
     "text": [
      "('test auc mean:', 0.6973251028806584)\n",
      "('test auc std:', 0.07719938663149704)\n",
      "[0.72, 0.71, 0.57, 0.65, 0.76, 0.66, 0.78, 0.78, 0.67, 0.67, 0.7, 0.6, 0.86, 0.6, 0.74]\n"
     ]
    }
   ],
   "source": [
    "problem = \"E/no E\"\n",
    "problem_label = \"E\"\n",
    "idx = labels[problem].notnull()\n",
    "label = pd.Series(labels[problem] == label_to_idx[problem_label], dtype=np.int64)[idx]\n",
    "cv = RepeatedStratifiedKFold(n_splits=5, n_repeats=3, random_state=42)\n",
    "cv_splits = list(cv.split(X=label.index, y=label))\n",
    "\n",
    "dropout = 0.5\n",
    "problem_name = \"voxresnet_mprage_32-64-64-128-128-MP-128-BN-D({})\".format(dropout)\n",
    "\n",
    "train_loss_l = load_res(problem_name + \"/train_loss_\" + problem.replace(\"/\", \"_\"))\n",
    "val_loss_l = load_res(problem_name + \"/val_loss_\" + problem.replace(\"/\", \"_\"))\n",
    "train_auc_l = load_res(problem_name + \"/train_auc_\" + problem.replace(\"/\", \"_\"))\n",
    "val_auc_l = load_res(problem_name + \"/val_auc_\" + problem.replace(\"/\", \"_\"))\n",
    "val_last_probs_l = load_res(problem_name + \"/val_last_probs_\" + problem.replace(\"/\", \"_\"))\n",
    "test_auc = list(map(lambda x: x[-1], val_auc_l))\n",
    "print(\"test auc mean:\", np.mean(test_auc))\n",
    "print(\"test auc std:\", np.std(test_auc))\n",
    "print(list(map(lambda x: np.round(x, 2), test_auc)))"
   ]
  },
  {
   "cell_type": "code",
   "execution_count": 43,
   "metadata": {},
   "outputs": [
    {
     "name": "stdout",
     "output_type": "stream",
     "text": [
      "('test auc mean:', 0.6996502057613169)\n",
      "('test auc std:', 0.07847342788255787)\n",
      "[0.59, 0.72, 0.62, 0.78, 0.62, 0.69, 0.84, 0.62, 0.76, 0.75, 0.67, 0.58, 0.74, 0.79, 0.72]\n"
     ]
    }
   ],
   "source": [
    "problem = \"E/no E\"\n",
    "problem_label = \"E\"\n",
    "idx = labels[problem].notnull()\n",
    "label = pd.Series(labels[problem] == label_to_idx[problem_label], dtype=np.int64)[idx]\n",
    "cv = RepeatedStratifiedKFold(n_splits=5, n_repeats=3, random_state=42)\n",
    "cv_splits = list(cv.split(X=label.index, y=label))\n",
    "\n",
    "dropout = 0.5\n",
    "problem_name = \"voxresnet_mprage_32-64-64-128-128-MP-128-BN-D({})_b(5)\".format(dropout)\n",
    "\n",
    "train_loss_l = load_res(problem_name + \"/train_loss_\" + problem.replace(\"/\", \"_\"))\n",
    "val_loss_l = load_res(problem_name + \"/val_loss_\" + problem.replace(\"/\", \"_\"))\n",
    "train_auc_l = load_res(problem_name + \"/train_auc_\" + problem.replace(\"/\", \"_\"))\n",
    "val_auc_l = load_res(problem_name + \"/val_auc_\" + problem.replace(\"/\", \"_\"))\n",
    "val_last_probs_l = load_res(problem_name + \"/val_last_probs_\" + problem.replace(\"/\", \"_\"))\n",
    "test_auc = list(map(lambda x: x[-1], val_auc_l))\n",
    "print(\"test auc mean:\", np.mean(test_auc))\n",
    "print(\"test auc std:\", np.std(test_auc))\n",
    "print(list(map(lambda x: np.round(x, 2), test_auc)))"
   ]
  },
  {
   "cell_type": "code",
   "execution_count": 42,
   "metadata": {
    "scrolled": true
   },
   "outputs": [
    {
     "data": {
      "image/png": "[encoded data removed]",
      "text/plain": [
       "<matplotlib.figure.Figure at 0x7fa9b366e850>"
      ]
     },
     "metadata": {},
     "output_type": "display_data"
    },
    {
     "name": "stdout",
     "output_type": "stream",
     "text": [
      "Epoch 14 of 400 took 20.224s\n",
      "  training loss (in-iteration): \t0.000835\n",
      "  validation loss: \t\t\t0.554936\n",
      "  training AUC: \t\t\t100.00 %\n",
      "  validation AUC: \t\t\t72.22 %\n",
      "('test auc mean:', 0.6996502057613169)\n",
      "('test auc std:', 0.07847342788255787)\n"
     ]
    }
   ],
   "source": [
    "# D = 0.5\n",
    "problem = \"E/no E\"\n",
    "problem_label = \"E\"\n",
    "idx = labels[problem].notnull()\n",
    "label = pd.Series(labels[problem] == label_to_idx[problem_label], dtype=np.int64)[idx]\n",
    "cv = RepeatedStratifiedKFold(n_splits=5, n_repeats=3, random_state=42)\n",
    "cv_splits = list(cv.split(X=label.index, y=label))\n",
    "\n",
    "# train_loss_l = []\n",
    "# val_loss_l = []\n",
    "# train_auc_l = []\n",
    "# val_auc_l = []\n",
    "# val_last_probs_l = []\n",
    "# test_auc = []\n",
    "\n",
    "dropout = 0.5\n",
    "learning_rate = 1e-4\n",
    "batch_size = 5\n",
    "num_epochs = 400\n",
    "\n",
    "problem_name = \"voxresnet_mprage_32-64-64-128-128-MP-128-BN-D({})_b(5)\".format(dropout)\n",
    "\n",
    "for i in range(len(test_auc), len(cv_splits)):\n",
    "    tr_idx, te_idx = cv_splits[i]\n",
    "    train_idx = label.index[tr_idx]\n",
    "    test_idx = label.index[te_idx]\n",
    "    \n",
    "    model = VoxResNet2_8(dropout=dropout)\n",
    "    opt = torch.optim.Adam(model.parameters(), lr=learning_rate)\n",
    "    mean_train_loss, mean_val_loss, mean_train_auc, mean_val_auc, last_val_probs = train(model, opt, train_idx, test_idx, mri_l, label, batch_size=batch_size, num_epochs=num_epochs, epsilon=1e-3, vis_img_idx=train_idx[0], vis_layers=[])\n",
    "    \n",
    "    train_loss_l.append(mean_train_loss)\n",
    "    val_loss_l.append(mean_val_loss)\n",
    "    train_auc_l.append(mean_train_auc)\n",
    "    val_auc_l.append(mean_val_auc)\n",
    "    val_last_probs_l.append(last_val_probs)\n",
    "    test_auc.append(mean_val_auc[-1])\n",
    "\n",
    "    save_res(train_loss_l, problem_name  + \"/\" + \"train_loss_\" + problem.replace(\"/\", \"_\"))\n",
    "    save_res(val_loss_l, problem_name  + \"/\" + \"val_loss_\" + problem.replace(\"/\", \"_\"))\n",
    "    save_res(train_auc_l, problem_name  + \"/\" + \"train_auc_\" + problem.replace(\"/\", \"_\"))\n",
    "    save_res(val_auc_l, problem_name  + \"/\" + \"val_auc_\" + problem.replace(\"/\", \"_\"))\n",
    "    save_res(val_last_probs_l, problem_name  + \"/\" + \"val_last_probs_\" + problem.replace(\"/\", \"_\"))\n",
    "    \n",
    "print(\"test auc mean:\", np.mean(test_auc))\n",
    "print(\"test auc std:\", np.std(test_auc))"
   ]
  },
  {
   "cell_type": "code",
   "execution_count": 43,
   "metadata": {
    "scrolled": true
   },
   "outputs": [
    {
     "data": {
      "text/plain": [
       "[0.59,\n",
       " 0.72,\n",
       " 0.62,\n",
       " 0.78,\n",
       " 0.62,\n",
       " 0.69,\n",
       " 0.84,\n",
       " 0.62,\n",
       " 0.76,\n",
       " 0.75,\n",
       " 0.67,\n",
       " 0.58,\n",
       " 0.74,\n",
       " 0.79,\n",
       " 0.72]"
      ]
     },
     "execution_count": 43,
     "metadata": {},
     "output_type": "execute_result"
    }
   ],
   "source": [
    "list(map(lambda x: np.round(x, 2), test_auc))"
   ]
  },
  {
   "cell_type": "code",
   "execution_count": 42,
   "metadata": {},
   "outputs": [
    {
     "name": "stdout",
     "output_type": "stream",
     "text": [
      "('test auc mean:', 0.6267283950617284)\n",
      "('test auc std:', 0.13545619901783715)\n",
      "[0.74, 0.56, 0.49, 0.89, 0.58, 0.73, 0.52, 0.52, 0.83, 0.79, 0.54, 0.44, 0.69, 0.51, 0.54]\n"
     ]
    }
   ],
   "source": [
    "problem = \"E/no E\"\n",
    "problem_label = \"E\"\n",
    "idx = labels[problem].notnull()\n",
    "label = pd.Series(labels[problem] == label_to_idx[problem_label], dtype=np.int64)[idx]\n",
    "cv = RepeatedStratifiedKFold(n_splits=5, n_repeats=3, random_state=42)\n",
    "cv_splits = list(cv.split(X=label.index, y=label))\n",
    "\n",
    "dropout = 0.5\n",
    "problem_name = \"voxresnet_mprage_32-64-64-128-128-MP-128-BN-D({})_b(5)_2\".format(dropout)\n",
    "\n",
    "train_loss_l = load_res(problem_name + \"/train_loss_\" + problem.replace(\"/\", \"_\"))\n",
    "val_loss_l = load_res(problem_name + \"/val_loss_\" + problem.replace(\"/\", \"_\"))\n",
    "train_auc_l = load_res(problem_name + \"/train_auc_\" + problem.replace(\"/\", \"_\"))\n",
    "val_auc_l = load_res(problem_name + \"/val_auc_\" + problem.replace(\"/\", \"_\"))\n",
    "val_last_probs_l = load_res(problem_name + \"/val_last_probs_\" + problem.replace(\"/\", \"_\"))\n",
    "test_auc = list(map(lambda x: x[-1], val_auc_l))\n",
    "print(\"test auc mean:\", np.mean(test_auc))\n",
    "print(\"test auc std:\", np.std(test_auc))\n",
    "print(list(map(lambda x: np.round(x, 2), test_auc)))"
   ]
  },
  {
   "cell_type": "code",
   "execution_count": 45,
   "metadata": {
    "scrolled": true
   },
   "outputs": [
    {
     "data": {
      "image/png": "[encoded data removed]",
      "text/plain": [
       "<matplotlib.figure.Figure at 0x7faa501c22d0>"
      ]
     },
     "metadata": {},
     "output_type": "display_data"
    },
    {
     "name": "stdout",
     "output_type": "stream",
     "text": [
      "Epoch 42 of 400 took 19.978s\n",
      "  training loss (in-iteration): \t0.000968\n",
      "  validation loss: \t\t\t0.630649\n",
      "  training AUC: \t\t\t100.00 %\n",
      "  validation AUC: \t\t\t54.17 %\n",
      "('test auc mean:', 0.6267283950617284)\n",
      "('test auc std:', 0.13545619901783715)\n"
     ]
    }
   ],
   "source": [
    "# D = 0.5\n",
    "problem = \"E/no E\"\n",
    "problem_label = \"E\"\n",
    "idx = labels[problem].notnull()\n",
    "label = pd.Series(labels[problem] == label_to_idx[problem_label], dtype=np.int64)[idx]\n",
    "cv = RepeatedStratifiedKFold(n_splits=5, n_repeats=3, random_state=42)\n",
    "cv_splits = list(cv.split(X=label.index, y=label))\n",
    "\n",
    "train_loss_l = []\n",
    "val_loss_l = []\n",
    "train_auc_l = []\n",
    "val_auc_l = []\n",
    "val_last_probs_l = []\n",
    "test_auc = []\n",
    "\n",
    "dropout = 0.5\n",
    "learning_rate = 3e-5\n",
    "batch_size = 5\n",
    "num_epochs = 400\n",
    "\n",
    "problem_name = \"voxresnet_mprage_32-64-64-128-128-MP-128-BN-D({})_b(5)_2\".format(dropout)\n",
    "\n",
    "for i in range(len(test_auc), len(cv_splits)):\n",
    "    tr_idx, te_idx = cv_splits[i]\n",
    "    train_idx = label.index[tr_idx]\n",
    "    test_idx = label.index[te_idx]\n",
    "    \n",
    "    model = VoxResNet2_8(dropout=dropout)\n",
    "    opt = torch.optim.Adam(model.parameters(), lr=learning_rate)\n",
    "    mean_train_loss, mean_val_loss, mean_train_auc, mean_val_auc, last_val_probs = train(model, opt, train_idx, test_idx, mri_l, label, batch_size=batch_size, num_epochs=num_epochs, epsilon=1e-3, vis_img_idx=train_idx[0], vis_layers=[])\n",
    "    \n",
    "    train_loss_l.append(mean_train_loss)\n",
    "    val_loss_l.append(mean_val_loss)\n",
    "    train_auc_l.append(mean_train_auc)\n",
    "    val_auc_l.append(mean_val_auc)\n",
    "    val_last_probs_l.append(last_val_probs)\n",
    "    test_auc.append(mean_val_auc[-1])\n",
    "\n",
    "    save_res(train_loss_l, problem_name  + \"/\" + \"train_loss_\" + problem.replace(\"/\", \"_\"))\n",
    "    save_res(val_loss_l, problem_name  + \"/\" + \"val_loss_\" + problem.replace(\"/\", \"_\"))\n",
    "    save_res(train_auc_l, problem_name  + \"/\" + \"train_auc_\" + problem.replace(\"/\", \"_\"))\n",
    "    save_res(val_auc_l, problem_name  + \"/\" + \"val_auc_\" + problem.replace(\"/\", \"_\"))\n",
    "    save_res(val_last_probs_l, problem_name  + \"/\" + \"val_last_probs_\" + problem.replace(\"/\", \"_\"))\n",
    "    \n",
    "print(\"test auc mean:\", np.mean(test_auc))\n",
    "print(\"test auc std:\", np.std(test_auc))"
   ]
  },
  {
   "cell_type": "code",
   "execution_count": null,
   "metadata": {
    "collapsed": true
   },
   "outputs": [],
   "source": []
  },
  {
   "cell_type": "code",
   "execution_count": 45,
   "metadata": {},
   "outputs": [
    {
     "name": "stdout",
     "output_type": "stream",
     "text": [
      "('test auc mean:', 0.5600617283950617)\n",
      "('test auc std:', 0.17978882259069245)\n",
      "[0.61, 0.87, 0.42, 0.56, 0.35]\n"
     ]
    }
   ],
   "source": [
    "problem = \"E/no E\"\n",
    "problem_label = \"E\"\n",
    "idx = labels[problem].notnull()\n",
    "label = pd.Series(labels[problem] == label_to_idx[problem_label], dtype=np.int64)[idx]\n",
    "cv = RepeatedStratifiedKFold(n_splits=5, n_repeats=3, random_state=42)\n",
    "cv_splits = list(cv.split(X=label.index, y=label))\n",
    "\n",
    "dropout = 0.7\n",
    "problem_name = \"voxresnet_mprage_32-64-64-128-128-MP-128-BN-D({})\".format(dropout)\n",
    "\n",
    "train_loss_l = load_res(problem_name + \"/train_loss_\" + problem.replace(\"/\", \"_\"))\n",
    "val_loss_l = load_res(problem_name + \"/val_loss_\" + problem.replace(\"/\", \"_\"))\n",
    "train_auc_l = load_res(problem_name + \"/train_auc_\" + problem.replace(\"/\", \"_\"))\n",
    "val_auc_l = load_res(problem_name + \"/val_auc_\" + problem.replace(\"/\", \"_\"))\n",
    "val_last_probs_l = load_res(problem_name + \"/val_last_probs_\" + problem.replace(\"/\", \"_\"))\n",
    "test_auc = list(map(lambda x: x[-1], val_auc_l))\n",
    "print(\"test auc mean:\", np.mean(test_auc))\n",
    "print(\"test auc std:\", np.std(test_auc))\n",
    "print(list(map(lambda x: np.round(x, 2), test_auc)))"
   ]
  },
  {
   "cell_type": "code",
   "execution_count": null,
   "metadata": {},
   "outputs": [
    {
     "data": {
      "image/png": "[encoded data removed]",
      "text/plain": [
       "<matplotlib.figure.Figure at 0x7f2a1017ab10>"
      ]
     },
     "metadata": {},
     "output_type": "display_data"
    },
    {
     "name": "stderr",
     "output_type": "stream",
     "text": [
      "\r",
      "0it [00:00, ?it/s]"
     ]
    },
    {
     "name": "stdout",
     "output_type": "stream",
     "text": [
      "Epoch 7 of 400 took 22.886s\n",
      "  training loss (in-iteration): \t0.083562\n",
      "  validation loss: \t\t\t0.623504\n",
      "  training AUC: \t\t\t100.00 %\n",
      "  validation AUC: \t\t\t30.36 %\n"
     ]
    },
    {
     "name": "stderr",
     "output_type": "stream",
     "text": [
      "8it [00:06,  1.18it/s]"
     ]
    }
   ],
   "source": [
    "# D = 0.7\n",
    "problem = \"E/no E\"\n",
    "problem_label = \"E\"\n",
    "label = pd.Series(labels[problem] == label_to_idx[problem_label], dtype=np.int64)\n",
    "cv = RepeatedStratifiedKFold(n_splits=5, n_repeats=3, random_state=42)\n",
    "cv_splits = list(cv.split(X=label.index, y=label))\n",
    "\n",
    "train_loss_l = []\n",
    "val_loss_l = []\n",
    "train_auc_l = []\n",
    "val_auc_l = []\n",
    "val_last_probs_l = []\n",
    "test_auc = []\n",
    "\n",
    "dropout = 0.7\n",
    "learning_rate = 1e-4\n",
    "batch_size = 5\n",
    "num_epochs = 400\n",
    "\n",
    "problem_name = \"voxresnet_mprage_32-64-64-128-128-MP-128-BN-D({})_b(5)\".format(dropout)\n",
    "\n",
    "for i in range(len(test_auc), len(cv_splits[:5])):\n",
    "    tr_idx, te_idx = cv_splits[i]\n",
    "    train_idx = label.index[tr_idx]\n",
    "    test_idx = label.index[te_idx]\n",
    "    \n",
    "    model = VoxResNet2_8(dropout=dropout)\n",
    "    opt = torch.optim.Adam(model.parameters(), lr=learning_rate)\n",
    "    mean_train_loss, mean_val_loss, mean_train_auc, mean_val_auc, last_val_probs = train(model, opt, train_idx, test_idx, mri_l, label, batch_size=batch_size, num_epochs=num_epochs, epsilon=1e-3, vis_img_idx=train_idx[0], vis_layers=[])\n",
    "    \n",
    "    train_loss_l.append(mean_train_loss)\n",
    "    val_loss_l.append(mean_val_loss)\n",
    "    train_auc_l.append(mean_train_auc)\n",
    "    val_auc_l.append(mean_val_auc)\n",
    "    val_last_probs_l.append(last_val_probs)\n",
    "    test_auc.append(mean_val_auc[-1])\n",
    "\n",
    "    save_res(train_loss_l, problem_name  + \"/\" + \"train_loss_\" + problem.replace(\"/\", \"_\"))\n",
    "    save_res(val_loss_l, problem_name  + \"/\" + \"val_loss_\" + problem.replace(\"/\", \"_\"))\n",
    "    save_res(train_auc_l, problem_name  + \"/\" + \"train_auc_\" + problem.replace(\"/\", \"_\"))\n",
    "    save_res(val_auc_l, problem_name  + \"/\" + \"val_auc_\" + problem.replace(\"/\", \"_\"))\n",
    "    save_res(val_last_probs_l, problem_name  + \"/\" + \"val_last_probs_\" + problem.replace(\"/\", \"_\"))\n",
    "    \n",
    "print(\"test auc mean:\", np.mean(test_auc))\n",
    "print(\"test auc std:\", np.std(test_auc))"
   ]
  }
 ],
 "metadata": {
  "kernelspec": {
   "display_name": "Python 3",
   "language": "python",
   "name": "python3"
  },
  "language_info": {
   "codemirror_mode": {
    "name": "ipython",
    "version": 3
   },
   "file_extension": ".py",
   "mimetype": "text/x-python",
   "name": "python",
   "nbconvert_exporter": "python",
   "pygments_lexer": "ipython3",
   "version": "3.5.4"
  }
 },
 "nbformat": 4,
 "nbformat_minor": 2
}
